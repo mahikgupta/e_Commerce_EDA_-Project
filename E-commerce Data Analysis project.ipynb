{
 "cells": [
  {
   "cell_type": "code",
   "execution_count": 217,
   "metadata": {
    "scrolled": false
   },
   "outputs": [
    {
     "name": "stdout",
     "output_type": "stream",
     "text": [
      "Requirement already satisfied: plotly in c:\\users\\ankit\\anaconda3\\lib\\site-packages (5.14.1)\n",
      "Requirement already satisfied: tenacity>=6.2.0 in c:\\users\\ankit\\anaconda3\\lib\\site-packages (from plotly) (8.2.2)\n",
      "Requirement already satisfied: packaging in c:\\users\\ankit\\anaconda3\\lib\\site-packages (from plotly) (19.2)\n",
      "Requirement already satisfied: six in c:\\users\\ankit\\anaconda3\\lib\\site-packages (from packaging->plotly) (1.12.0)\n",
      "Requirement already satisfied: pyparsing>=2.0.2 in c:\\users\\ankit\\anaconda3\\lib\\site-packages (from packaging->plotly) (2.4.2)\n"
     ]
    }
   ],
   "source": [
    "!pip install plotly"
   ]
  },
  {
   "cell_type": "code",
   "execution_count": 218,
   "metadata": {},
   "outputs": [],
   "source": [
    "import pandas as pd\n",
    "import numpy as np\n",
    "import datetime\n",
    "\n",
    "import warnings\n",
    "import matplotlib.pyplot as plt\n",
    "import seaborn as sns\n",
    "import plotly.express as px\n",
    "from pandas.api.types import CategoricalDtype\n",
    "warnings.filterwarnings(\"ignore\")"
   ]
  },
  {
   "cell_type": "code",
   "execution_count": 219,
   "metadata": {
    "scrolled": true
   },
   "outputs": [],
   "source": [
    "#reading data from local machine\n",
    "data=pd.read_csv('C:/Users/ankit/Desktop/Great learning/Project/Project-1 Ecommerce/ecommerce.csv',low_memory=False)"
   ]
  },
  {
   "cell_type": "code",
   "execution_count": 220,
   "metadata": {},
   "outputs": [
    {
     "data": {
      "text/plain": [
       "(51290, 21)"
      ]
     },
     "execution_count": 220,
     "metadata": {},
     "output_type": "execute_result"
    }
   ],
   "source": [
    "data.shape"
   ]
  },
  {
   "cell_type": "code",
   "execution_count": 221,
   "metadata": {},
   "outputs": [
    {
     "name": "stdout",
     "output_type": "stream",
     "text": [
      "<class 'pandas.core.frame.DataFrame'>\n",
      "RangeIndex: 51290 entries, 0 to 51289\n",
      "Data columns (total 21 columns):\n",
      " #   Column            Non-Null Count  Dtype  \n",
      "---  ------            --------------  -----  \n",
      " 0   Order ID          51290 non-null  object \n",
      " 1   Order Date        51289 non-null  object \n",
      " 2   Ship Date         51290 non-null  object \n",
      " 3   Aging             51289 non-null  float64\n",
      " 4   Ship Mode         51290 non-null  object \n",
      " 5   Product Category  51290 non-null  object \n",
      " 6   Product           51290 non-null  object \n",
      " 7   Sales             51290 non-null  object \n",
      " 8   Quantity          51289 non-null  object \n",
      " 9   Discount          51290 non-null  object \n",
      " 10  Profit            51290 non-null  object \n",
      " 11  Shipping Cost     51290 non-null  object \n",
      " 12  Order Priority    51288 non-null  object \n",
      " 13  Customer ID       51289 non-null  object \n",
      " 14  Customer Name     51290 non-null  object \n",
      " 15  Segment           51289 non-null  object \n",
      " 16  City              51290 non-null  object \n",
      " 17  State             51290 non-null  object \n",
      " 18  Country           51290 non-null  object \n",
      " 19  Region            51289 non-null  object \n",
      " 20  Months            51290 non-null  object \n",
      "dtypes: float64(1), object(20)\n",
      "memory usage: 8.2+ MB\n"
     ]
    }
   ],
   "source": [
    "data.info()"
   ]
  },
  {
   "cell_type": "markdown",
   "metadata": {},
   "source": [
    "# Data Cleaning\n"
   ]
  },
  {
   "cell_type": "code",
   "execution_count": 222,
   "metadata": {
    "scrolled": true
   },
   "outputs": [
    {
     "data": {
      "text/html": [
       "<div>\n",
       "<style scoped>\n",
       "    .dataframe tbody tr th:only-of-type {\n",
       "        vertical-align: middle;\n",
       "    }\n",
       "\n",
       "    .dataframe tbody tr th {\n",
       "        vertical-align: top;\n",
       "    }\n",
       "\n",
       "    .dataframe thead th {\n",
       "        text-align: right;\n",
       "    }\n",
       "</style>\n",
       "<table border=\"1\" class=\"dataframe\">\n",
       "  <thead>\n",
       "    <tr style=\"text-align: right;\">\n",
       "      <th></th>\n",
       "      <th>Order ID</th>\n",
       "      <th>Order Date</th>\n",
       "      <th>Ship Date</th>\n",
       "      <th>Aging</th>\n",
       "      <th>Ship Mode</th>\n",
       "      <th>Product Category</th>\n",
       "      <th>Product</th>\n",
       "      <th>Sales</th>\n",
       "      <th>Quantity</th>\n",
       "      <th>Discount</th>\n",
       "      <th>...</th>\n",
       "      <th>Shipping Cost</th>\n",
       "      <th>Order Priority</th>\n",
       "      <th>Customer ID</th>\n",
       "      <th>Customer Name</th>\n",
       "      <th>Segment</th>\n",
       "      <th>City</th>\n",
       "      <th>State</th>\n",
       "      <th>Country</th>\n",
       "      <th>Region</th>\n",
       "      <th>Months</th>\n",
       "    </tr>\n",
       "  </thead>\n",
       "  <tbody>\n",
       "    <tr>\n",
       "      <th>21626</th>\n",
       "      <td>FA-2015-1112</td>\n",
       "      <td>1/20/15</td>\n",
       "      <td>1/26/15</td>\n",
       "      <td>6.0</td>\n",
       "      <td>Standard Class</td>\n",
       "      <td>Fashion</td>\n",
       "      <td>T - Shirts</td>\n",
       "      <td>$248.00</td>\n",
       "      <td>3</td>\n",
       "      <td>0.04</td>\n",
       "      <td>...</td>\n",
       "      <td>$13.80</td>\n",
       "      <td>High</td>\n",
       "      <td>ER-0011318</td>\n",
       "      <td>Meyers Pelletier</td>\n",
       "      <td>Corporate</td>\n",
       "      <td>La Ceiba</td>\n",
       "      <td>Atlántida</td>\n",
       "      <td>Honduras</td>\n",
       "      <td>Central</td>\n",
       "      <td>Jan</td>\n",
       "    </tr>\n",
       "  </tbody>\n",
       "</table>\n",
       "<p>1 rows × 21 columns</p>\n",
       "</div>"
      ],
      "text/plain": [
       "           Order ID Order Date Ship Date  Aging       Ship Mode  \\\n",
       "21626  FA-2015-1112    1/20/15   1/26/15    6.0  Standard Class   \n",
       "\n",
       "      Product Category     Product     Sales Quantity Discount  ...  \\\n",
       "21626          Fashion  T - Shirts  $248.00         3     0.04  ...   \n",
       "\n",
       "      Shipping Cost Order Priority Customer ID     Customer Name    Segment  \\\n",
       "21626       $13.80            High  ER-0011318  Meyers Pelletier  Corporate   \n",
       "\n",
       "           City      State   Country   Region Months  \n",
       "21626  La Ceiba  Atlántida  Honduras  Central    Jan  \n",
       "\n",
       "[1 rows x 21 columns]"
      ]
     },
     "execution_count": 222,
     "metadata": {},
     "output_type": "execute_result"
    }
   ],
   "source": [
    "data.sample()"
   ]
  },
  {
   "cell_type": "code",
   "execution_count": 223,
   "metadata": {},
   "outputs": [
    {
     "data": {
      "text/plain": [
       "Order ID            0\n",
       "Order Date          1\n",
       "Ship Date           0\n",
       "Aging               1\n",
       "Ship Mode           0\n",
       "Product Category    0\n",
       "Product             0\n",
       "Sales               0\n",
       "Quantity            1\n",
       "Discount            0\n",
       "Profit              0\n",
       "Shipping Cost       0\n",
       "Order Priority      2\n",
       "Customer ID         1\n",
       "Customer Name       0\n",
       "Segment             1\n",
       "City                0\n",
       "State               0\n",
       "Country             0\n",
       "Region              1\n",
       "Months              0\n",
       "dtype: int64"
      ]
     },
     "execution_count": 223,
     "metadata": {},
     "output_type": "execute_result"
    }
   ],
   "source": [
    "#finding column which have null entries\n",
    "data.isnull().sum()"
   ]
  },
  {
   "cell_type": "code",
   "execution_count": 224,
   "metadata": {},
   "outputs": [],
   "source": [
    "#dropping entries with null values\n",
    "data.dropna(inplace=True)"
   ]
  },
  {
   "cell_type": "code",
   "execution_count": 225,
   "metadata": {},
   "outputs": [
    {
     "data": {
      "text/plain": [
       "Order ID            0\n",
       "Order Date          0\n",
       "Ship Date           0\n",
       "Aging               0\n",
       "Ship Mode           0\n",
       "Product Category    0\n",
       "Product             0\n",
       "Sales               0\n",
       "Quantity            0\n",
       "Discount            0\n",
       "Profit              0\n",
       "Shipping Cost       0\n",
       "Order Priority      0\n",
       "Customer ID         0\n",
       "Customer Name       0\n",
       "Segment             0\n",
       "City                0\n",
       "State               0\n",
       "Country             0\n",
       "Region              0\n",
       "Months              0\n",
       "dtype: int64"
      ]
     },
     "execution_count": 225,
     "metadata": {},
     "output_type": "execute_result"
    }
   ],
   "source": [
    "data.isnull().sum()"
   ]
  },
  {
   "cell_type": "code",
   "execution_count": 226,
   "metadata": {},
   "outputs": [
    {
     "data": {
      "text/plain": [
       "(51282, 21)"
      ]
     },
     "execution_count": 226,
     "metadata": {},
     "output_type": "execute_result"
    }
   ],
   "source": [
    "data.shape"
   ]
  },
  {
   "cell_type": "code",
   "execution_count": 227,
   "metadata": {},
   "outputs": [
    {
     "data": {
      "text/plain": [
       "0"
      ]
     },
     "execution_count": 227,
     "metadata": {},
     "output_type": "execute_result"
    }
   ],
   "source": [
    "#checking for Duplicated entries\n",
    "data.duplicated().sum()"
   ]
  },
  {
   "cell_type": "markdown",
   "metadata": {},
   "source": [
    "### inference:\n",
    "The no of rows containing null values was 8 which has been removed.<br>\n",
    "No duplicate data found in the Dataset.<br>\n",
    "As most of the data are in datatype object so it needs to be coverted to the convenient data type for computation and analysis.\n"
   ]
  },
  {
   "cell_type": "markdown",
   "metadata": {},
   "source": [
    "### converting data to relevant datatype"
   ]
  },
  {
   "cell_type": "code",
   "execution_count": 228,
   "metadata": {},
   "outputs": [],
   "source": [
    "data['Order Date'] =pd.to_datetime(data['Order Date'])"
   ]
  },
  {
   "cell_type": "code",
   "execution_count": 229,
   "metadata": {},
   "outputs": [],
   "source": [
    "data['Ship Date'] =pd.to_datetime(data['Ship Date'])"
   ]
  },
  {
   "cell_type": "code",
   "execution_count": 230,
   "metadata": {},
   "outputs": [],
   "source": [
    "data.Aging=data.Aging.astype(int)"
   ]
  },
  {
   "cell_type": "code",
   "execution_count": 231,
   "metadata": {},
   "outputs": [],
   "source": [
    "data.Sales=data.Sales.str.replace(\"$\",\"\")\n",
    "data.Sales=pd.to_numeric(data.Sales,errors='coerce')\n",
    "\n",
    "\n"
   ]
  },
  {
   "cell_type": "code",
   "execution_count": 232,
   "metadata": {},
   "outputs": [
    {
     "data": {
      "text/plain": [
       "Order ID            0\n",
       "Order Date          0\n",
       "Ship Date           0\n",
       "Aging               0\n",
       "Ship Mode           0\n",
       "Product Category    0\n",
       "Product             0\n",
       "Sales               1\n",
       "Quantity            0\n",
       "Discount            0\n",
       "Profit              0\n",
       "Shipping Cost       0\n",
       "Order Priority      0\n",
       "Customer ID         0\n",
       "Customer Name       0\n",
       "Segment             0\n",
       "City                0\n",
       "State               0\n",
       "Country             0\n",
       "Region              0\n",
       "Months              0\n",
       "dtype: int64"
      ]
     },
     "execution_count": 232,
     "metadata": {},
     "output_type": "execute_result"
    }
   ],
   "source": [
    "data.isnull().sum()"
   ]
  },
  {
   "cell_type": "code",
   "execution_count": 233,
   "metadata": {},
   "outputs": [],
   "source": [
    "data.Sales.fillna(data.Sales.median(),inplace=True)"
   ]
  },
  {
   "cell_type": "code",
   "execution_count": 234,
   "metadata": {},
   "outputs": [],
   "source": [
    "data.Quantity=pd.to_numeric(data.Quantity,errors='coerce')"
   ]
  },
  {
   "cell_type": "code",
   "execution_count": 235,
   "metadata": {},
   "outputs": [],
   "source": [
    "data.dropna(inplace=True)"
   ]
  },
  {
   "cell_type": "code",
   "execution_count": 236,
   "metadata": {},
   "outputs": [],
   "source": [
    "data[\"Ship Mode\"].unique()\n",
    "data[data[\"Ship Mode\"]=='45788']\n",
    "data.drop(1024,inplace=True)"
   ]
  },
  {
   "cell_type": "code",
   "execution_count": 237,
   "metadata": {},
   "outputs": [
    {
     "data": {
      "text/plain": [
       "Order ID            0\n",
       "Order Date          0\n",
       "Ship Date           0\n",
       "Aging               0\n",
       "Ship Mode           0\n",
       "Product Category    0\n",
       "Product             0\n",
       "Sales               0\n",
       "Quantity            0\n",
       "Discount            0\n",
       "Profit              0\n",
       "Shipping Cost       0\n",
       "Order Priority      0\n",
       "Customer ID         0\n",
       "Customer Name       0\n",
       "Segment             0\n",
       "City                0\n",
       "State               0\n",
       "Country             0\n",
       "Region              0\n",
       "Months              0\n",
       "dtype: int64"
      ]
     },
     "execution_count": 237,
     "metadata": {},
     "output_type": "execute_result"
    }
   ],
   "source": [
    "data.isnull().sum()"
   ]
  },
  {
   "cell_type": "code",
   "execution_count": 238,
   "metadata": {},
   "outputs": [],
   "source": [
    "data.Quantity=data.Quantity.astype(int)"
   ]
  },
  {
   "cell_type": "code",
   "execution_count": 239,
   "metadata": {},
   "outputs": [],
   "source": [
    "data.Discount=pd.to_numeric(data.Discount,errors='coerce')"
   ]
  },
  {
   "cell_type": "code",
   "execution_count": 240,
   "metadata": {},
   "outputs": [],
   "source": [
    "data.Discount.fillna(data.Sales.median(),inplace=True)"
   ]
  },
  {
   "cell_type": "code",
   "execution_count": 241,
   "metadata": {},
   "outputs": [
    {
     "data": {
      "text/plain": [
       "0     $46.00 \n",
       "1    $112.00 \n",
       "2     $31.20 \n",
       "3     $26.20 \n",
       "4    $160.00 \n",
       "Name: Profit, dtype: object"
      ]
     },
     "execution_count": 241,
     "metadata": {},
     "output_type": "execute_result"
    }
   ],
   "source": [
    "data.Profit.head(5)"
   ]
  },
  {
   "cell_type": "code",
   "execution_count": 242,
   "metadata": {},
   "outputs": [],
   "source": [
    "data.Profit=data.Profit.str.replace(\"$\",\"\")"
   ]
  },
  {
   "cell_type": "code",
   "execution_count": 243,
   "metadata": {},
   "outputs": [],
   "source": [
    "data.Profit=pd.to_numeric(data.Profit)"
   ]
  },
  {
   "cell_type": "code",
   "execution_count": 244,
   "metadata": {},
   "outputs": [],
   "source": [
    "data['Shipping Cost']=data['Shipping Cost'].str.replace(\"$\",\"\")"
   ]
  },
  {
   "cell_type": "code",
   "execution_count": 245,
   "metadata": {},
   "outputs": [],
   "source": [
    "data['Shipping Cost']=pd.to_numeric(data['Shipping Cost'],errors='coerce')"
   ]
  },
  {
   "cell_type": "code",
   "execution_count": 246,
   "metadata": {},
   "outputs": [
    {
     "data": {
      "text/plain": [
       "Order ID            0\n",
       "Order Date          0\n",
       "Ship Date           0\n",
       "Aging               0\n",
       "Ship Mode           0\n",
       "Product Category    0\n",
       "Product             0\n",
       "Sales               0\n",
       "Quantity            0\n",
       "Discount            0\n",
       "Profit              0\n",
       "Shipping Cost       1\n",
       "Order Priority      0\n",
       "Customer ID         0\n",
       "Customer Name       0\n",
       "Segment             0\n",
       "City                0\n",
       "State               0\n",
       "Country             0\n",
       "Region              0\n",
       "Months              0\n",
       "dtype: int64"
      ]
     },
     "execution_count": 246,
     "metadata": {},
     "output_type": "execute_result"
    }
   ],
   "source": [
    "data.isnull().sum()"
   ]
  },
  {
   "cell_type": "code",
   "execution_count": 247,
   "metadata": {},
   "outputs": [],
   "source": [
    "data['Shipping Cost'].fillna(data['Shipping Cost'].median(),inplace=True)"
   ]
  },
  {
   "cell_type": "code",
   "execution_count": 248,
   "metadata": {},
   "outputs": [
    {
     "name": "stdout",
     "output_type": "stream",
     "text": [
      "<class 'pandas.core.frame.DataFrame'>\n",
      "Int64Index: 51280 entries, 0 to 51289\n",
      "Data columns (total 21 columns):\n",
      " #   Column            Non-Null Count  Dtype         \n",
      "---  ------            --------------  -----         \n",
      " 0   Order ID          51280 non-null  object        \n",
      " 1   Order Date        51280 non-null  datetime64[ns]\n",
      " 2   Ship Date         51280 non-null  datetime64[ns]\n",
      " 3   Aging             51280 non-null  int32         \n",
      " 4   Ship Mode         51280 non-null  object        \n",
      " 5   Product Category  51280 non-null  object        \n",
      " 6   Product           51280 non-null  object        \n",
      " 7   Sales             51280 non-null  float64       \n",
      " 8   Quantity          51280 non-null  int32         \n",
      " 9   Discount          51280 non-null  float64       \n",
      " 10  Profit            51280 non-null  float64       \n",
      " 11  Shipping Cost     51280 non-null  float64       \n",
      " 12  Order Priority    51280 non-null  object        \n",
      " 13  Customer ID       51280 non-null  object        \n",
      " 14  Customer Name     51280 non-null  object        \n",
      " 15  Segment           51280 non-null  object        \n",
      " 16  City              51280 non-null  object        \n",
      " 17  State             51280 non-null  object        \n",
      " 18  Country           51280 non-null  object        \n",
      " 19  Region            51280 non-null  object        \n",
      " 20  Months            51280 non-null  object        \n",
      "dtypes: datetime64[ns](2), float64(4), int32(2), object(13)\n",
      "memory usage: 8.2+ MB\n"
     ]
    }
   ],
   "source": [
    "data.info()"
   ]
  },
  {
   "cell_type": "code",
   "execution_count": 249,
   "metadata": {},
   "outputs": [
    {
     "data": {
      "text/html": [
       "<div>\n",
       "<style scoped>\n",
       "    .dataframe tbody tr th:only-of-type {\n",
       "        vertical-align: middle;\n",
       "    }\n",
       "\n",
       "    .dataframe tbody tr th {\n",
       "        vertical-align: top;\n",
       "    }\n",
       "\n",
       "    .dataframe thead th {\n",
       "        text-align: right;\n",
       "    }\n",
       "</style>\n",
       "<table border=\"1\" class=\"dataframe\">\n",
       "  <thead>\n",
       "    <tr style=\"text-align: right;\">\n",
       "      <th></th>\n",
       "      <th>Order ID</th>\n",
       "      <th>Order Date</th>\n",
       "      <th>Ship Date</th>\n",
       "      <th>Aging</th>\n",
       "      <th>Ship Mode</th>\n",
       "      <th>Product Category</th>\n",
       "      <th>Product</th>\n",
       "      <th>Sales</th>\n",
       "      <th>Quantity</th>\n",
       "      <th>Discount</th>\n",
       "      <th>...</th>\n",
       "      <th>Shipping Cost</th>\n",
       "      <th>Order Priority</th>\n",
       "      <th>Customer ID</th>\n",
       "      <th>Customer Name</th>\n",
       "      <th>Segment</th>\n",
       "      <th>City</th>\n",
       "      <th>State</th>\n",
       "      <th>Country</th>\n",
       "      <th>Region</th>\n",
       "      <th>Months</th>\n",
       "    </tr>\n",
       "  </thead>\n",
       "  <tbody>\n",
       "    <tr>\n",
       "      <th>8641</th>\n",
       "      <td>El-2015-1137</td>\n",
       "      <td>2015-11-11</td>\n",
       "      <td>2015-11-11</td>\n",
       "      <td>1</td>\n",
       "      <td>Same Day</td>\n",
       "      <td>Electronic</td>\n",
       "      <td>Mixer/Juicer</td>\n",
       "      <td>83.0</td>\n",
       "      <td>1</td>\n",
       "      <td>0.04</td>\n",
       "      <td>...</td>\n",
       "      <td>8.3</td>\n",
       "      <td>Critical</td>\n",
       "      <td>SE-008642</td>\n",
       "      <td>Acosta Morse</td>\n",
       "      <td>Corporate</td>\n",
       "      <td>Montesson</td>\n",
       "      <td>Ile-de-France</td>\n",
       "      <td>France</td>\n",
       "      <td>Central</td>\n",
       "      <td>Nov</td>\n",
       "    </tr>\n",
       "    <tr>\n",
       "      <th>28022</th>\n",
       "      <td>FA-2015-7508</td>\n",
       "      <td>2015-01-15</td>\n",
       "      <td>2015-01-16</td>\n",
       "      <td>1</td>\n",
       "      <td>Standard Class</td>\n",
       "      <td>Fashion</td>\n",
       "      <td>Casula Shoes</td>\n",
       "      <td>122.0</td>\n",
       "      <td>1</td>\n",
       "      <td>0.03</td>\n",
       "      <td>...</td>\n",
       "      <td>3.8</td>\n",
       "      <td>Medium</td>\n",
       "      <td>NG-0017714</td>\n",
       "      <td>Burns Chung</td>\n",
       "      <td>Consumer</td>\n",
       "      <td>Kananga</td>\n",
       "      <td>Kasai-Occidental</td>\n",
       "      <td>Democratic Republic of the Congo</td>\n",
       "      <td>Africa</td>\n",
       "      <td>Jan</td>\n",
       "    </tr>\n",
       "    <tr>\n",
       "      <th>50166</th>\n",
       "      <td>FA-2015-29652</td>\n",
       "      <td>2015-08-30</td>\n",
       "      <td>2015-09-05</td>\n",
       "      <td>6</td>\n",
       "      <td>Standard Class</td>\n",
       "      <td>Fashion</td>\n",
       "      <td>Sneakers</td>\n",
       "      <td>62.0</td>\n",
       "      <td>5</td>\n",
       "      <td>0.04</td>\n",
       "      <td>...</td>\n",
       "      <td>1.2</td>\n",
       "      <td>Medium</td>\n",
       "      <td>ER-0039858</td>\n",
       "      <td>Richards Drucker</td>\n",
       "      <td>Corporate</td>\n",
       "      <td>San Antonio</td>\n",
       "      <td>Texas</td>\n",
       "      <td>United States</td>\n",
       "      <td>Central</td>\n",
       "      <td>Aug</td>\n",
       "    </tr>\n",
       "    <tr>\n",
       "      <th>47585</th>\n",
       "      <td>FA-2015-27071</td>\n",
       "      <td>2015-04-23</td>\n",
       "      <td>2015-04-26</td>\n",
       "      <td>3</td>\n",
       "      <td>Standard Class</td>\n",
       "      <td>Fashion</td>\n",
       "      <td>Shirts</td>\n",
       "      <td>196.0</td>\n",
       "      <td>1</td>\n",
       "      <td>0.03</td>\n",
       "      <td>...</td>\n",
       "      <td>11.0</td>\n",
       "      <td>Medium</td>\n",
       "      <td>NG-0037277</td>\n",
       "      <td>Harris Armstrong</td>\n",
       "      <td>Corporate</td>\n",
       "      <td>Hyderabad</td>\n",
       "      <td>Telangana</td>\n",
       "      <td>India</td>\n",
       "      <td>Central Asia</td>\n",
       "      <td>Apr</td>\n",
       "    </tr>\n",
       "    <tr>\n",
       "      <th>14572</th>\n",
       "      <td>HF-2015-4367</td>\n",
       "      <td>2015-11-09</td>\n",
       "      <td>2015-11-13</td>\n",
       "      <td>4</td>\n",
       "      <td>Second Class</td>\n",
       "      <td>Home &amp; Furniture</td>\n",
       "      <td>Dinning Tables</td>\n",
       "      <td>119.0</td>\n",
       "      <td>4</td>\n",
       "      <td>0.01</td>\n",
       "      <td>...</td>\n",
       "      <td>3.4</td>\n",
       "      <td>High</td>\n",
       "      <td>OK-0045348</td>\n",
       "      <td>Walker Ashbrook</td>\n",
       "      <td>Consumer</td>\n",
       "      <td>Kabul</td>\n",
       "      <td>Kabul</td>\n",
       "      <td>Afghanistan</td>\n",
       "      <td>Central Asia</td>\n",
       "      <td>Nov</td>\n",
       "    </tr>\n",
       "    <tr>\n",
       "      <th>49095</th>\n",
       "      <td>FA-2015-28581</td>\n",
       "      <td>2015-04-09</td>\n",
       "      <td>2015-04-13</td>\n",
       "      <td>4</td>\n",
       "      <td>Standard Class</td>\n",
       "      <td>Fashion</td>\n",
       "      <td>Sports Wear</td>\n",
       "      <td>85.0</td>\n",
       "      <td>2</td>\n",
       "      <td>0.04</td>\n",
       "      <td>...</td>\n",
       "      <td>4.3</td>\n",
       "      <td>Medium</td>\n",
       "      <td>NO-0038787</td>\n",
       "      <td>West Cano</td>\n",
       "      <td>Consumer</td>\n",
       "      <td>Abeokuta</td>\n",
       "      <td>Ogun</td>\n",
       "      <td>Nigeria</td>\n",
       "      <td>Africa</td>\n",
       "      <td>Apr</td>\n",
       "    </tr>\n",
       "    <tr>\n",
       "      <th>31557</th>\n",
       "      <td>FA-2015-11043</td>\n",
       "      <td>2015-01-07</td>\n",
       "      <td>2015-01-16</td>\n",
       "      <td>9</td>\n",
       "      <td>Standard Class</td>\n",
       "      <td>Fashion</td>\n",
       "      <td>Titak watch</td>\n",
       "      <td>228.0</td>\n",
       "      <td>5</td>\n",
       "      <td>0.01</td>\n",
       "      <td>...</td>\n",
       "      <td>13.7</td>\n",
       "      <td>High</td>\n",
       "      <td>LL-0021249</td>\n",
       "      <td>Hancock O'Brill</td>\n",
       "      <td>Consumer</td>\n",
       "      <td>Nellore</td>\n",
       "      <td>Andhra Pradesh</td>\n",
       "      <td>India</td>\n",
       "      <td>Central Asia</td>\n",
       "      <td>Jan</td>\n",
       "    </tr>\n",
       "    <tr>\n",
       "      <th>24202</th>\n",
       "      <td>FA-2015-3688</td>\n",
       "      <td>2015-03-23</td>\n",
       "      <td>2015-03-31</td>\n",
       "      <td>8</td>\n",
       "      <td>Standard Class</td>\n",
       "      <td>Fashion</td>\n",
       "      <td>Jeans</td>\n",
       "      <td>218.0</td>\n",
       "      <td>1</td>\n",
       "      <td>0.01</td>\n",
       "      <td>...</td>\n",
       "      <td>13.6</td>\n",
       "      <td>High</td>\n",
       "      <td>LE-0013894</td>\n",
       "      <td>Owens Carlisle</td>\n",
       "      <td>Consumer</td>\n",
       "      <td>San Diego</td>\n",
       "      <td>California</td>\n",
       "      <td>United States</td>\n",
       "      <td>West</td>\n",
       "      <td>Mar</td>\n",
       "    </tr>\n",
       "    <tr>\n",
       "      <th>21288</th>\n",
       "      <td>FA-2015-774</td>\n",
       "      <td>2015-10-01</td>\n",
       "      <td>2015-10-06</td>\n",
       "      <td>5</td>\n",
       "      <td>Standard Class</td>\n",
       "      <td>Fashion</td>\n",
       "      <td>Suits</td>\n",
       "      <td>109.0</td>\n",
       "      <td>3</td>\n",
       "      <td>0.03</td>\n",
       "      <td>...</td>\n",
       "      <td>1.9</td>\n",
       "      <td>Medium</td>\n",
       "      <td>AN-0010980</td>\n",
       "      <td>Williams Abelman</td>\n",
       "      <td>Corporate</td>\n",
       "      <td>Le Cannet</td>\n",
       "      <td>Provence-Alpes-Côte d'Azur</td>\n",
       "      <td>France</td>\n",
       "      <td>Central</td>\n",
       "      <td>Oct</td>\n",
       "    </tr>\n",
       "    <tr>\n",
       "      <th>29043</th>\n",
       "      <td>FA-2015-8529</td>\n",
       "      <td>2015-07-20</td>\n",
       "      <td>2015-07-28</td>\n",
       "      <td>8</td>\n",
       "      <td>Standard Class</td>\n",
       "      <td>Fashion</td>\n",
       "      <td>Suits</td>\n",
       "      <td>109.0</td>\n",
       "      <td>1</td>\n",
       "      <td>0.02</td>\n",
       "      <td>...</td>\n",
       "      <td>2.7</td>\n",
       "      <td>Medium</td>\n",
       "      <td>AS-0018735</td>\n",
       "      <td>Tran Matthias</td>\n",
       "      <td>Consumer</td>\n",
       "      <td>Basra</td>\n",
       "      <td>Al Basrah</td>\n",
       "      <td>Iraq</td>\n",
       "      <td>EMEA</td>\n",
       "      <td>Jul</td>\n",
       "    </tr>\n",
       "    <tr>\n",
       "      <th>45079</th>\n",
       "      <td>FA-2015-24565</td>\n",
       "      <td>2015-11-26</td>\n",
       "      <td>2015-12-05</td>\n",
       "      <td>9</td>\n",
       "      <td>Standard Class</td>\n",
       "      <td>Fashion</td>\n",
       "      <td>T - Shirts</td>\n",
       "      <td>248.0</td>\n",
       "      <td>1</td>\n",
       "      <td>0.01</td>\n",
       "      <td>...</td>\n",
       "      <td>16.6</td>\n",
       "      <td>Medium</td>\n",
       "      <td>DE-0034771</td>\n",
       "      <td>Sutton Gerbode</td>\n",
       "      <td>Home Office</td>\n",
       "      <td>Bangkok</td>\n",
       "      <td>Bangkok</td>\n",
       "      <td>Thailand</td>\n",
       "      <td>Southeast Asia</td>\n",
       "      <td>Nov</td>\n",
       "    </tr>\n",
       "    <tr>\n",
       "      <th>8451</th>\n",
       "      <td>El-2015-947</td>\n",
       "      <td>2015-12-10</td>\n",
       "      <td>2015-12-10</td>\n",
       "      <td>1</td>\n",
       "      <td>Same Day</td>\n",
       "      <td>Electronic</td>\n",
       "      <td>LCD</td>\n",
       "      <td>65.0</td>\n",
       "      <td>4</td>\n",
       "      <td>0.02</td>\n",
       "      <td>...</td>\n",
       "      <td>1.6</td>\n",
       "      <td>Medium</td>\n",
       "      <td>GS-008452</td>\n",
       "      <td>Barber Hastings</td>\n",
       "      <td>Consumer</td>\n",
       "      <td>Reims</td>\n",
       "      <td>Champagne-Ardenne</td>\n",
       "      <td>France</td>\n",
       "      <td>Central</td>\n",
       "      <td>Dec</td>\n",
       "    </tr>\n",
       "    <tr>\n",
       "      <th>47117</th>\n",
       "      <td>FA-2015-26603</td>\n",
       "      <td>2015-11-01</td>\n",
       "      <td>2015-11-04</td>\n",
       "      <td>3</td>\n",
       "      <td>Standard Class</td>\n",
       "      <td>Fashion</td>\n",
       "      <td>Suits</td>\n",
       "      <td>109.0</td>\n",
       "      <td>2</td>\n",
       "      <td>0.04</td>\n",
       "      <td>...</td>\n",
       "      <td>2.0</td>\n",
       "      <td>Medium</td>\n",
       "      <td>NG-0036809</td>\n",
       "      <td>Mccall Smayling</td>\n",
       "      <td>Consumer</td>\n",
       "      <td>Birmingham</td>\n",
       "      <td>England</td>\n",
       "      <td>United Kingdom</td>\n",
       "      <td>North</td>\n",
       "      <td>Nov</td>\n",
       "    </tr>\n",
       "    <tr>\n",
       "      <th>482</th>\n",
       "      <td>AU-2015-483</td>\n",
       "      <td>2015-01-03</td>\n",
       "      <td>2015-01-06</td>\n",
       "      <td>3</td>\n",
       "      <td>First Class</td>\n",
       "      <td>Auto &amp; Accessories</td>\n",
       "      <td>Bike Tyres</td>\n",
       "      <td>72.0</td>\n",
       "      <td>1</td>\n",
       "      <td>0.05</td>\n",
       "      <td>...</td>\n",
       "      <td>7.2</td>\n",
       "      <td>High</td>\n",
       "      <td>LE-00483</td>\n",
       "      <td>Booth Pistole</td>\n",
       "      <td>Consumer</td>\n",
       "      <td>Philadelphia</td>\n",
       "      <td>Pennsylvania</td>\n",
       "      <td>United States</td>\n",
       "      <td>East</td>\n",
       "      <td>Jan</td>\n",
       "    </tr>\n",
       "    <tr>\n",
       "      <th>29009</th>\n",
       "      <td>FA-2015-8495</td>\n",
       "      <td>2015-05-16</td>\n",
       "      <td>2015-05-17</td>\n",
       "      <td>1</td>\n",
       "      <td>Standard Class</td>\n",
       "      <td>Fashion</td>\n",
       "      <td>Jeans</td>\n",
       "      <td>218.0</td>\n",
       "      <td>5</td>\n",
       "      <td>0.03</td>\n",
       "      <td>...</td>\n",
       "      <td>10.5</td>\n",
       "      <td>Medium</td>\n",
       "      <td>TT-0018701</td>\n",
       "      <td>Larsen Patt</td>\n",
       "      <td>Consumer</td>\n",
       "      <td>Monza</td>\n",
       "      <td>Lombardy</td>\n",
       "      <td>Italy</td>\n",
       "      <td>South</td>\n",
       "      <td>May</td>\n",
       "    </tr>\n",
       "    <tr>\n",
       "      <th>5699</th>\n",
       "      <td>AU-2015-5700</td>\n",
       "      <td>2015-09-29</td>\n",
       "      <td>2015-09-30</td>\n",
       "      <td>1</td>\n",
       "      <td>First Class</td>\n",
       "      <td>Auto &amp; Accessories</td>\n",
       "      <td>Car Speakers</td>\n",
       "      <td>211.0</td>\n",
       "      <td>5</td>\n",
       "      <td>0.05</td>\n",
       "      <td>...</td>\n",
       "      <td>7.8</td>\n",
       "      <td>High</td>\n",
       "      <td>RS-005700</td>\n",
       "      <td>Hobbs Saunders</td>\n",
       "      <td>Consumer</td>\n",
       "      <td>Columbus</td>\n",
       "      <td>Indiana</td>\n",
       "      <td>United States</td>\n",
       "      <td>Central</td>\n",
       "      <td>Sep</td>\n",
       "    </tr>\n",
       "    <tr>\n",
       "      <th>36927</th>\n",
       "      <td>FA-2015-16413</td>\n",
       "      <td>2015-04-29</td>\n",
       "      <td>2015-05-09</td>\n",
       "      <td>10</td>\n",
       "      <td>Standard Class</td>\n",
       "      <td>Fashion</td>\n",
       "      <td>T - Shirts</td>\n",
       "      <td>248.0</td>\n",
       "      <td>2</td>\n",
       "      <td>0.01</td>\n",
       "      <td>...</td>\n",
       "      <td>16.3</td>\n",
       "      <td>Medium</td>\n",
       "      <td>CH-0026619</td>\n",
       "      <td>Crosby Weirich</td>\n",
       "      <td>Corporate</td>\n",
       "      <td>Slupsk</td>\n",
       "      <td>Pomerania</td>\n",
       "      <td>Poland</td>\n",
       "      <td>EMEA</td>\n",
       "      <td>Apr</td>\n",
       "    </tr>\n",
       "    <tr>\n",
       "      <th>19116</th>\n",
       "      <td>HF-2015-8911</td>\n",
       "      <td>2015-10-27</td>\n",
       "      <td>2015-10-31</td>\n",
       "      <td>4</td>\n",
       "      <td>Second Class</td>\n",
       "      <td>Home &amp; Furniture</td>\n",
       "      <td>Bed Sheets</td>\n",
       "      <td>211.0</td>\n",
       "      <td>1</td>\n",
       "      <td>0.05</td>\n",
       "      <td>...</td>\n",
       "      <td>12.0</td>\n",
       "      <td>Medium</td>\n",
       "      <td>IN-0049892</td>\n",
       "      <td>Lloyd Martin</td>\n",
       "      <td>Consumer</td>\n",
       "      <td>Calabozo</td>\n",
       "      <td>Guárico</td>\n",
       "      <td>Venezuela</td>\n",
       "      <td>South</td>\n",
       "      <td>Oct</td>\n",
       "    </tr>\n",
       "    <tr>\n",
       "      <th>8506</th>\n",
       "      <td>El-2015-1002</td>\n",
       "      <td>2015-07-21</td>\n",
       "      <td>2015-07-21</td>\n",
       "      <td>1</td>\n",
       "      <td>Same Day</td>\n",
       "      <td>Electronic</td>\n",
       "      <td>Mouse</td>\n",
       "      <td>111.0</td>\n",
       "      <td>3</td>\n",
       "      <td>0.03</td>\n",
       "      <td>...</td>\n",
       "      <td>2.1</td>\n",
       "      <td>High</td>\n",
       "      <td>RD-008507</td>\n",
       "      <td>Wiggins Odegard</td>\n",
       "      <td>Consumer</td>\n",
       "      <td>Hasselt</td>\n",
       "      <td>Limburg</td>\n",
       "      <td>Belgium</td>\n",
       "      <td>Central</td>\n",
       "      <td>Jul</td>\n",
       "    </tr>\n",
       "    <tr>\n",
       "      <th>19616</th>\n",
       "      <td>HF-2015-9411</td>\n",
       "      <td>2015-09-01</td>\n",
       "      <td>2015-09-04</td>\n",
       "      <td>3</td>\n",
       "      <td>Second Class</td>\n",
       "      <td>Home &amp; Furniture</td>\n",
       "      <td>Bed Sheets</td>\n",
       "      <td>211.0</td>\n",
       "      <td>4</td>\n",
       "      <td>0.03</td>\n",
       "      <td>...</td>\n",
       "      <td>10.6</td>\n",
       "      <td>High</td>\n",
       "      <td>ON-0050392</td>\n",
       "      <td>Webster Jordon</td>\n",
       "      <td>Consumer</td>\n",
       "      <td>Istanbul</td>\n",
       "      <td>Istanbul</td>\n",
       "      <td>Turkey</td>\n",
       "      <td>EMEA</td>\n",
       "      <td>Sep</td>\n",
       "    </tr>\n",
       "    <tr>\n",
       "      <th>46784</th>\n",
       "      <td>FA-2015-26270</td>\n",
       "      <td>2015-03-14</td>\n",
       "      <td>2015-03-20</td>\n",
       "      <td>6</td>\n",
       "      <td>Standard Class</td>\n",
       "      <td>Fashion</td>\n",
       "      <td>T - Shirts</td>\n",
       "      <td>248.0</td>\n",
       "      <td>5</td>\n",
       "      <td>0.05</td>\n",
       "      <td>...</td>\n",
       "      <td>10.6</td>\n",
       "      <td>Medium</td>\n",
       "      <td>EN-0036476</td>\n",
       "      <td>Reyes Christensen</td>\n",
       "      <td>Consumer</td>\n",
       "      <td>New York City</td>\n",
       "      <td>New York</td>\n",
       "      <td>United States</td>\n",
       "      <td>East</td>\n",
       "      <td>Mar</td>\n",
       "    </tr>\n",
       "    <tr>\n",
       "      <th>33885</th>\n",
       "      <td>FA-2015-13371</td>\n",
       "      <td>2015-02-20</td>\n",
       "      <td>2015-02-21</td>\n",
       "      <td>1</td>\n",
       "      <td>Standard Class</td>\n",
       "      <td>Fashion</td>\n",
       "      <td>Casula Shoes</td>\n",
       "      <td>122.0</td>\n",
       "      <td>2</td>\n",
       "      <td>0.04</td>\n",
       "      <td>...</td>\n",
       "      <td>3.2</td>\n",
       "      <td>Medium</td>\n",
       "      <td>CH-0023577</td>\n",
       "      <td>Oliver Dortch</td>\n",
       "      <td>Corporate</td>\n",
       "      <td>Berlin</td>\n",
       "      <td>Berlin</td>\n",
       "      <td>Germany</td>\n",
       "      <td>Central</td>\n",
       "      <td>Feb</td>\n",
       "    </tr>\n",
       "    <tr>\n",
       "      <th>36736</th>\n",
       "      <td>FA-2015-16222</td>\n",
       "      <td>2015-11-23</td>\n",
       "      <td>2015-11-28</td>\n",
       "      <td>5</td>\n",
       "      <td>Standard Class</td>\n",
       "      <td>Fashion</td>\n",
       "      <td>Formal Shoes</td>\n",
       "      <td>213.0</td>\n",
       "      <td>2</td>\n",
       "      <td>0.05</td>\n",
       "      <td>...</td>\n",
       "      <td>11.2</td>\n",
       "      <td>High</td>\n",
       "      <td>CH-0026428</td>\n",
       "      <td>Lambert Glotzbach</td>\n",
       "      <td>Consumer</td>\n",
       "      <td>Santo Domingo</td>\n",
       "      <td>Santo Domingo</td>\n",
       "      <td>Dominican Republic</td>\n",
       "      <td>Caribbean</td>\n",
       "      <td>Nov</td>\n",
       "    </tr>\n",
       "    <tr>\n",
       "      <th>20208</th>\n",
       "      <td>HF-2015-10003</td>\n",
       "      <td>2015-06-20</td>\n",
       "      <td>2015-06-28</td>\n",
       "      <td>8</td>\n",
       "      <td>Second Class</td>\n",
       "      <td>Home &amp; Furniture</td>\n",
       "      <td>Towels</td>\n",
       "      <td>228.0</td>\n",
       "      <td>3</td>\n",
       "      <td>0.02</td>\n",
       "      <td>...</td>\n",
       "      <td>13.4</td>\n",
       "      <td>Medium</td>\n",
       "      <td>CH-0050984</td>\n",
       "      <td>Oliver Dortch</td>\n",
       "      <td>Corporate</td>\n",
       "      <td>Cartagena</td>\n",
       "      <td>Bolívar</td>\n",
       "      <td>Colombia</td>\n",
       "      <td>South</td>\n",
       "      <td>Jun</td>\n",
       "    </tr>\n",
       "    <tr>\n",
       "      <th>49992</th>\n",
       "      <td>FA-2015-29478</td>\n",
       "      <td>2015-01-19</td>\n",
       "      <td>2015-01-24</td>\n",
       "      <td>5</td>\n",
       "      <td>Standard Class</td>\n",
       "      <td>Fashion</td>\n",
       "      <td>Fossil Watch</td>\n",
       "      <td>159.0</td>\n",
       "      <td>4</td>\n",
       "      <td>0.04</td>\n",
       "      <td>...</td>\n",
       "      <td>5.4</td>\n",
       "      <td>Medium</td>\n",
       "      <td>ES-0039684</td>\n",
       "      <td>Robbins Hughes</td>\n",
       "      <td>Consumer</td>\n",
       "      <td>Columbus</td>\n",
       "      <td>Ohio</td>\n",
       "      <td>United States</td>\n",
       "      <td>East</td>\n",
       "      <td>Jan</td>\n",
       "    </tr>\n",
       "    <tr>\n",
       "      <th>28957</th>\n",
       "      <td>FA-2015-8443</td>\n",
       "      <td>2015-05-16</td>\n",
       "      <td>2015-05-17</td>\n",
       "      <td>1</td>\n",
       "      <td>Standard Class</td>\n",
       "      <td>Fashion</td>\n",
       "      <td>Casula Shoes</td>\n",
       "      <td>122.0</td>\n",
       "      <td>4</td>\n",
       "      <td>0.04</td>\n",
       "      <td>...</td>\n",
       "      <td>2.2</td>\n",
       "      <td>Medium</td>\n",
       "      <td>DT-0018649</td>\n",
       "      <td>Rojas Schmidt</td>\n",
       "      <td>Home Office</td>\n",
       "      <td>Mejicanos</td>\n",
       "      <td>San Salvador</td>\n",
       "      <td>El Salvador</td>\n",
       "      <td>Central</td>\n",
       "      <td>May</td>\n",
       "    </tr>\n",
       "    <tr>\n",
       "      <th>21781</th>\n",
       "      <td>FA-2015-1267</td>\n",
       "      <td>2015-11-25</td>\n",
       "      <td>2015-11-29</td>\n",
       "      <td>4</td>\n",
       "      <td>Standard Class</td>\n",
       "      <td>Fashion</td>\n",
       "      <td>Shirts</td>\n",
       "      <td>196.0</td>\n",
       "      <td>2</td>\n",
       "      <td>0.02</td>\n",
       "      <td>...</td>\n",
       "      <td>10.8</td>\n",
       "      <td>Medium</td>\n",
       "      <td>IE-0011473</td>\n",
       "      <td>Olson Currie</td>\n",
       "      <td>Home Office</td>\n",
       "      <td>São Paulo</td>\n",
       "      <td>São Paulo</td>\n",
       "      <td>Brazil</td>\n",
       "      <td>South</td>\n",
       "      <td>Nov</td>\n",
       "    </tr>\n",
       "    <tr>\n",
       "      <th>24325</th>\n",
       "      <td>FA-2015-3811</td>\n",
       "      <td>2015-04-02</td>\n",
       "      <td>2015-04-10</td>\n",
       "      <td>8</td>\n",
       "      <td>Standard Class</td>\n",
       "      <td>Fashion</td>\n",
       "      <td>Sports Wear</td>\n",
       "      <td>85.0</td>\n",
       "      <td>4</td>\n",
       "      <td>0.05</td>\n",
       "      <td>...</td>\n",
       "      <td>2.1</td>\n",
       "      <td>High</td>\n",
       "      <td>ON-0014017</td>\n",
       "      <td>Doyle Knutson</td>\n",
       "      <td>Home Office</td>\n",
       "      <td>Sydney</td>\n",
       "      <td>New South Wales</td>\n",
       "      <td>Australia</td>\n",
       "      <td>Oceania</td>\n",
       "      <td>Apr</td>\n",
       "    </tr>\n",
       "    <tr>\n",
       "      <th>1897</th>\n",
       "      <td>AU-2015-1898</td>\n",
       "      <td>2015-12-09</td>\n",
       "      <td>2015-12-14</td>\n",
       "      <td>5</td>\n",
       "      <td>First Class</td>\n",
       "      <td>Auto &amp; Accessories</td>\n",
       "      <td>Car Seat Covers</td>\n",
       "      <td>114.0</td>\n",
       "      <td>5</td>\n",
       "      <td>0.04</td>\n",
       "      <td>...</td>\n",
       "      <td>1.1</td>\n",
       "      <td>Critical</td>\n",
       "      <td>IE-001898</td>\n",
       "      <td>Mclaughlin Leslie</td>\n",
       "      <td>Corporate</td>\n",
       "      <td>Poltava</td>\n",
       "      <td>Poltava</td>\n",
       "      <td>Ukraine</td>\n",
       "      <td>EMEA</td>\n",
       "      <td>Dec</td>\n",
       "    </tr>\n",
       "    <tr>\n",
       "      <th>9493</th>\n",
       "      <td>El-2015-1989</td>\n",
       "      <td>2015-06-07</td>\n",
       "      <td>2015-06-07</td>\n",
       "      <td>1</td>\n",
       "      <td>Same Day</td>\n",
       "      <td>Electronic</td>\n",
       "      <td>Mouse</td>\n",
       "      <td>111.0</td>\n",
       "      <td>3</td>\n",
       "      <td>0.01</td>\n",
       "      <td>...</td>\n",
       "      <td>2.8</td>\n",
       "      <td>Medium</td>\n",
       "      <td>RI-009494</td>\n",
       "      <td>Weiss Shariari</td>\n",
       "      <td>Consumer</td>\n",
       "      <td>Mashhad</td>\n",
       "      <td>Razavi Khorasan</td>\n",
       "      <td>Iran</td>\n",
       "      <td>EMEA</td>\n",
       "      <td>Jun</td>\n",
       "    </tr>\n",
       "    <tr>\n",
       "      <th>2974</th>\n",
       "      <td>AU-2015-2975</td>\n",
       "      <td>2015-10-11</td>\n",
       "      <td>2015-10-13</td>\n",
       "      <td>2</td>\n",
       "      <td>First Class</td>\n",
       "      <td>Auto &amp; Accessories</td>\n",
       "      <td>Tyre</td>\n",
       "      <td>250.0</td>\n",
       "      <td>4</td>\n",
       "      <td>0.05</td>\n",
       "      <td>...</td>\n",
       "      <td>12.0</td>\n",
       "      <td>Critical</td>\n",
       "      <td>IN-002975</td>\n",
       "      <td>Terrell Zeldin</td>\n",
       "      <td>Consumer</td>\n",
       "      <td>Zigong</td>\n",
       "      <td>Sichuan</td>\n",
       "      <td>China</td>\n",
       "      <td>North Asia</td>\n",
       "      <td>Oct</td>\n",
       "    </tr>\n",
       "    <tr>\n",
       "      <th>45785</th>\n",
       "      <td>FA-2015-25271</td>\n",
       "      <td>2015-12-14</td>\n",
       "      <td>2015-12-17</td>\n",
       "      <td>3</td>\n",
       "      <td>Standard Class</td>\n",
       "      <td>Fashion</td>\n",
       "      <td>Jeans</td>\n",
       "      <td>218.0</td>\n",
       "      <td>1</td>\n",
       "      <td>0.04</td>\n",
       "      <td>...</td>\n",
       "      <td>12.9</td>\n",
       "      <td>High</td>\n",
       "      <td>WE-0035477</td>\n",
       "      <td>Ray Crowe</td>\n",
       "      <td>Consumer</td>\n",
       "      <td>Hamadan</td>\n",
       "      <td>Hamadan</td>\n",
       "      <td>Iran</td>\n",
       "      <td>EMEA</td>\n",
       "      <td>Dec</td>\n",
       "    </tr>\n",
       "    <tr>\n",
       "      <th>15526</th>\n",
       "      <td>HF-2015-5321</td>\n",
       "      <td>2015-10-25</td>\n",
       "      <td>2015-10-29</td>\n",
       "      <td>4</td>\n",
       "      <td>Second Class</td>\n",
       "      <td>Home &amp; Furniture</td>\n",
       "      <td>Bed Sheets</td>\n",
       "      <td>211.0</td>\n",
       "      <td>5</td>\n",
       "      <td>0.02</td>\n",
       "      <td>...</td>\n",
       "      <td>11.0</td>\n",
       "      <td>High</td>\n",
       "      <td>IO-0046302</td>\n",
       "      <td>Conway Seio</td>\n",
       "      <td>Home Office</td>\n",
       "      <td>Chicago</td>\n",
       "      <td>Illinois</td>\n",
       "      <td>United States</td>\n",
       "      <td>Central</td>\n",
       "      <td>Oct</td>\n",
       "    </tr>\n",
       "    <tr>\n",
       "      <th>1028</th>\n",
       "      <td>AU-2015-1029</td>\n",
       "      <td>2015-04-03</td>\n",
       "      <td>2015-04-11</td>\n",
       "      <td>8</td>\n",
       "      <td>First Class</td>\n",
       "      <td>Auto &amp; Accessories</td>\n",
       "      <td>Car Body Covers</td>\n",
       "      <td>117.0</td>\n",
       "      <td>4</td>\n",
       "      <td>0.04</td>\n",
       "      <td>...</td>\n",
       "      <td>1.8</td>\n",
       "      <td>High</td>\n",
       "      <td>AM-001029</td>\n",
       "      <td>Watkins Cunningham</td>\n",
       "      <td>Corporate</td>\n",
       "      <td>Iserlohn</td>\n",
       "      <td>North Rhine-Westphalia</td>\n",
       "      <td>Germany</td>\n",
       "      <td>Central</td>\n",
       "      <td>Apr</td>\n",
       "    </tr>\n",
       "    <tr>\n",
       "      <th>50529</th>\n",
       "      <td>FA-2015-30015</td>\n",
       "      <td>2015-06-28</td>\n",
       "      <td>2015-07-06</td>\n",
       "      <td>8</td>\n",
       "      <td>Standard Class</td>\n",
       "      <td>Fashion</td>\n",
       "      <td>Sneakers</td>\n",
       "      <td>62.0</td>\n",
       "      <td>5</td>\n",
       "      <td>0.01</td>\n",
       "      <td>...</td>\n",
       "      <td>1.2</td>\n",
       "      <td>Medium</td>\n",
       "      <td>NG-0040221</td>\n",
       "      <td>Huff Manning</td>\n",
       "      <td>Consumer</td>\n",
       "      <td>Trabzon</td>\n",
       "      <td>Trabzon</td>\n",
       "      <td>Turkey</td>\n",
       "      <td>EMEA</td>\n",
       "      <td>Jun</td>\n",
       "    </tr>\n",
       "    <tr>\n",
       "      <th>43860</th>\n",
       "      <td>FA-2015-23346</td>\n",
       "      <td>2015-01-16</td>\n",
       "      <td>2015-01-17</td>\n",
       "      <td>1</td>\n",
       "      <td>Standard Class</td>\n",
       "      <td>Fashion</td>\n",
       "      <td>Jeans</td>\n",
       "      <td>218.0</td>\n",
       "      <td>1</td>\n",
       "      <td>0.03</td>\n",
       "      <td>...</td>\n",
       "      <td>13.1</td>\n",
       "      <td>Medium</td>\n",
       "      <td>SH-0033552</td>\n",
       "      <td>Mann Hirsh</td>\n",
       "      <td>Corporate</td>\n",
       "      <td>Geelong</td>\n",
       "      <td>Victoria</td>\n",
       "      <td>Australia</td>\n",
       "      <td>Oceania</td>\n",
       "      <td>Jan</td>\n",
       "    </tr>\n",
       "    <tr>\n",
       "      <th>36934</th>\n",
       "      <td>FA-2015-16420</td>\n",
       "      <td>2015-06-25</td>\n",
       "      <td>2015-06-27</td>\n",
       "      <td>2</td>\n",
       "      <td>Standard Class</td>\n",
       "      <td>Fashion</td>\n",
       "      <td>Formal Shoes</td>\n",
       "      <td>213.0</td>\n",
       "      <td>1</td>\n",
       "      <td>0.05</td>\n",
       "      <td>...</td>\n",
       "      <td>12.2</td>\n",
       "      <td>Medium</td>\n",
       "      <td>LL-0026626</td>\n",
       "      <td>Short O'Connell</td>\n",
       "      <td>Corporate</td>\n",
       "      <td>Valencia</td>\n",
       "      <td>Valenciana</td>\n",
       "      <td>Spain</td>\n",
       "      <td>South</td>\n",
       "      <td>Jun</td>\n",
       "    </tr>\n",
       "    <tr>\n",
       "      <th>42123</th>\n",
       "      <td>FA-2015-21609</td>\n",
       "      <td>2015-11-06</td>\n",
       "      <td>2015-11-07</td>\n",
       "      <td>1</td>\n",
       "      <td>Standard Class</td>\n",
       "      <td>Fashion</td>\n",
       "      <td>Sports Wear</td>\n",
       "      <td>85.0</td>\n",
       "      <td>4</td>\n",
       "      <td>0.03</td>\n",
       "      <td>...</td>\n",
       "      <td>2.1</td>\n",
       "      <td>Medium</td>\n",
       "      <td>DT-0031815</td>\n",
       "      <td>Rojas Schmidt</td>\n",
       "      <td>Home Office</td>\n",
       "      <td>Pontault-Combault</td>\n",
       "      <td>Ile-de-France</td>\n",
       "      <td>France</td>\n",
       "      <td>Central</td>\n",
       "      <td>Nov</td>\n",
       "    </tr>\n",
       "    <tr>\n",
       "      <th>14878</th>\n",
       "      <td>HF-2015-4673</td>\n",
       "      <td>2015-09-03</td>\n",
       "      <td>2015-09-12</td>\n",
       "      <td>9</td>\n",
       "      <td>Second Class</td>\n",
       "      <td>Home &amp; Furniture</td>\n",
       "      <td>Curtains</td>\n",
       "      <td>34.0</td>\n",
       "      <td>1</td>\n",
       "      <td>0.05</td>\n",
       "      <td>...</td>\n",
       "      <td>3.4</td>\n",
       "      <td>Medium</td>\n",
       "      <td>ER-0045654</td>\n",
       "      <td>Montoya Ritter</td>\n",
       "      <td>Corporate</td>\n",
       "      <td>Marietta</td>\n",
       "      <td>Georgia</td>\n",
       "      <td>United States</td>\n",
       "      <td>South</td>\n",
       "      <td>Sep</td>\n",
       "    </tr>\n",
       "    <tr>\n",
       "      <th>39471</th>\n",
       "      <td>FA-2015-18957</td>\n",
       "      <td>2015-03-03</td>\n",
       "      <td>2015-03-10</td>\n",
       "      <td>7</td>\n",
       "      <td>Standard Class</td>\n",
       "      <td>Fashion</td>\n",
       "      <td>Suits</td>\n",
       "      <td>109.0</td>\n",
       "      <td>2</td>\n",
       "      <td>0.04</td>\n",
       "      <td>...</td>\n",
       "      <td>2.0</td>\n",
       "      <td>Medium</td>\n",
       "      <td>BE-0029163</td>\n",
       "      <td>French Liebe</td>\n",
       "      <td>Corporate</td>\n",
       "      <td>Bournemouth</td>\n",
       "      <td>England</td>\n",
       "      <td>United Kingdom</td>\n",
       "      <td>North</td>\n",
       "      <td>Mar</td>\n",
       "    </tr>\n",
       "    <tr>\n",
       "      <th>13506</th>\n",
       "      <td>HF-2015-3301</td>\n",
       "      <td>2015-10-06</td>\n",
       "      <td>2015-10-12</td>\n",
       "      <td>6</td>\n",
       "      <td>Second Class</td>\n",
       "      <td>Home &amp; Furniture</td>\n",
       "      <td>Sofa Covers</td>\n",
       "      <td>216.0</td>\n",
       "      <td>5</td>\n",
       "      <td>0.02</td>\n",
       "      <td>...</td>\n",
       "      <td>11.4</td>\n",
       "      <td>Medium</td>\n",
       "      <td>IN-0044282</td>\n",
       "      <td>Cain Mccrossin</td>\n",
       "      <td>Home Office</td>\n",
       "      <td>Huehuetenango</td>\n",
       "      <td>Huehuetenango</td>\n",
       "      <td>Guatemala</td>\n",
       "      <td>Central</td>\n",
       "      <td>Oct</td>\n",
       "    </tr>\n",
       "    <tr>\n",
       "      <th>30948</th>\n",
       "      <td>FA-2015-10434</td>\n",
       "      <td>2015-05-25</td>\n",
       "      <td>2015-05-28</td>\n",
       "      <td>3</td>\n",
       "      <td>Standard Class</td>\n",
       "      <td>Fashion</td>\n",
       "      <td>Casula Shoes</td>\n",
       "      <td>122.0</td>\n",
       "      <td>4</td>\n",
       "      <td>0.05</td>\n",
       "      <td>...</td>\n",
       "      <td>1.8</td>\n",
       "      <td>Medium</td>\n",
       "      <td>TH-0020640</td>\n",
       "      <td>Gentry Smith</td>\n",
       "      <td>Consumer</td>\n",
       "      <td>Vigo</td>\n",
       "      <td>Galicia</td>\n",
       "      <td>Spain</td>\n",
       "      <td>South</td>\n",
       "      <td>May</td>\n",
       "    </tr>\n",
       "    <tr>\n",
       "      <th>49293</th>\n",
       "      <td>FA-2015-28779</td>\n",
       "      <td>2015-03-04</td>\n",
       "      <td>2015-03-06</td>\n",
       "      <td>2</td>\n",
       "      <td>Standard Class</td>\n",
       "      <td>Fashion</td>\n",
       "      <td>Sports Wear</td>\n",
       "      <td>85.0</td>\n",
       "      <td>2</td>\n",
       "      <td>0.02</td>\n",
       "      <td>...</td>\n",
       "      <td>0.2</td>\n",
       "      <td>Low</td>\n",
       "      <td>LY-0038985</td>\n",
       "      <td>Preston Savely</td>\n",
       "      <td>Consumer</td>\n",
       "      <td>New York City</td>\n",
       "      <td>New York</td>\n",
       "      <td>United States</td>\n",
       "      <td>East</td>\n",
       "      <td>Mar</td>\n",
       "    </tr>\n",
       "    <tr>\n",
       "      <th>12373</th>\n",
       "      <td>HF-2015-2168</td>\n",
       "      <td>2015-06-25</td>\n",
       "      <td>2015-07-02</td>\n",
       "      <td>7</td>\n",
       "      <td>Second Class</td>\n",
       "      <td>Home &amp; Furniture</td>\n",
       "      <td>Shoe Rack</td>\n",
       "      <td>124.0</td>\n",
       "      <td>1</td>\n",
       "      <td>0.02</td>\n",
       "      <td>...</td>\n",
       "      <td>4.2</td>\n",
       "      <td>Medium</td>\n",
       "      <td>AM-0043149</td>\n",
       "      <td>Bauer Sundaresam</td>\n",
       "      <td>Consumer</td>\n",
       "      <td>Newcastle</td>\n",
       "      <td>New South Wales</td>\n",
       "      <td>Australia</td>\n",
       "      <td>Oceania</td>\n",
       "      <td>Jun</td>\n",
       "    </tr>\n",
       "    <tr>\n",
       "      <th>50417</th>\n",
       "      <td>FA-2015-29903</td>\n",
       "      <td>2015-06-23</td>\n",
       "      <td>2015-06-27</td>\n",
       "      <td>4</td>\n",
       "      <td>Standard Class</td>\n",
       "      <td>Fashion</td>\n",
       "      <td>Running Shoes</td>\n",
       "      <td>224.0</td>\n",
       "      <td>3</td>\n",
       "      <td>0.02</td>\n",
       "      <td>...</td>\n",
       "      <td>13.1</td>\n",
       "      <td>Medium</td>\n",
       "      <td>RE-0040109</td>\n",
       "      <td>Singleton Mcclure</td>\n",
       "      <td>Consumer</td>\n",
       "      <td>San Justo</td>\n",
       "      <td>Santa Fe</td>\n",
       "      <td>Argentina</td>\n",
       "      <td>South</td>\n",
       "      <td>Jun</td>\n",
       "    </tr>\n",
       "    <tr>\n",
       "      <th>49401</th>\n",
       "      <td>FA-2015-28887</td>\n",
       "      <td>2015-09-13</td>\n",
       "      <td>2015-09-23</td>\n",
       "      <td>10</td>\n",
       "      <td>Standard Class</td>\n",
       "      <td>Fashion</td>\n",
       "      <td>Jeans</td>\n",
       "      <td>218.0</td>\n",
       "      <td>4</td>\n",
       "      <td>0.01</td>\n",
       "      <td>...</td>\n",
       "      <td>12.9</td>\n",
       "      <td>Medium</td>\n",
       "      <td>IG-0039093</td>\n",
       "      <td>Owen Ludwig</td>\n",
       "      <td>Corporate</td>\n",
       "      <td>Mysore</td>\n",
       "      <td>Karnataka</td>\n",
       "      <td>India</td>\n",
       "      <td>Central Asia</td>\n",
       "      <td>Sep</td>\n",
       "    </tr>\n",
       "    <tr>\n",
       "      <th>43305</th>\n",
       "      <td>FA-2015-22791</td>\n",
       "      <td>2015-02-11</td>\n",
       "      <td>2015-02-18</td>\n",
       "      <td>7</td>\n",
       "      <td>Standard Class</td>\n",
       "      <td>Fashion</td>\n",
       "      <td>Sneakers</td>\n",
       "      <td>62.0</td>\n",
       "      <td>1</td>\n",
       "      <td>0.05</td>\n",
       "      <td>...</td>\n",
       "      <td>6.2</td>\n",
       "      <td>Medium</td>\n",
       "      <td>TZ-0032997</td>\n",
       "      <td>Rivas Voltz</td>\n",
       "      <td>Corporate</td>\n",
       "      <td>Homyel'</td>\n",
       "      <td>Homyel'</td>\n",
       "      <td>Belarus</td>\n",
       "      <td>EMEA</td>\n",
       "      <td>Feb</td>\n",
       "    </tr>\n",
       "    <tr>\n",
       "      <th>15659</th>\n",
       "      <td>HF-2015-5454</td>\n",
       "      <td>2015-11-02</td>\n",
       "      <td>2015-11-08</td>\n",
       "      <td>6</td>\n",
       "      <td>Second Class</td>\n",
       "      <td>Home &amp; Furniture</td>\n",
       "      <td>Sofas</td>\n",
       "      <td>67.0</td>\n",
       "      <td>4</td>\n",
       "      <td>0.05</td>\n",
       "      <td>...</td>\n",
       "      <td>1.7</td>\n",
       "      <td>Medium</td>\n",
       "      <td>ES-0046435</td>\n",
       "      <td>Brooks Boyes</td>\n",
       "      <td>Corporate</td>\n",
       "      <td>El Paso</td>\n",
       "      <td>Texas</td>\n",
       "      <td>United States</td>\n",
       "      <td>Central</td>\n",
       "      <td>Nov</td>\n",
       "    </tr>\n",
       "    <tr>\n",
       "      <th>37167</th>\n",
       "      <td>FA-2015-16653</td>\n",
       "      <td>2015-11-11</td>\n",
       "      <td>2015-11-14</td>\n",
       "      <td>3</td>\n",
       "      <td>Standard Class</td>\n",
       "      <td>Fashion</td>\n",
       "      <td>Titak watch</td>\n",
       "      <td>228.0</td>\n",
       "      <td>5</td>\n",
       "      <td>0.04</td>\n",
       "      <td>...</td>\n",
       "      <td>10.2</td>\n",
       "      <td>Medium</td>\n",
       "      <td>NS-0026859</td>\n",
       "      <td>Perkins Cousins</td>\n",
       "      <td>Consumer</td>\n",
       "      <td>Long Beach</td>\n",
       "      <td>New York</td>\n",
       "      <td>United States</td>\n",
       "      <td>East</td>\n",
       "      <td>Nov</td>\n",
       "    </tr>\n",
       "    <tr>\n",
       "      <th>29835</th>\n",
       "      <td>FA-2015-9321</td>\n",
       "      <td>2015-03-19</td>\n",
       "      <td>2015-03-25</td>\n",
       "      <td>6</td>\n",
       "      <td>Standard Class</td>\n",
       "      <td>Fashion</td>\n",
       "      <td>Suits</td>\n",
       "      <td>109.0</td>\n",
       "      <td>2</td>\n",
       "      <td>0.02</td>\n",
       "      <td>...</td>\n",
       "      <td>2.5</td>\n",
       "      <td>Medium</td>\n",
       "      <td>ES-0019527</td>\n",
       "      <td>Newton Hughes</td>\n",
       "      <td>Consumer</td>\n",
       "      <td>Apeldoorn</td>\n",
       "      <td>Gelderland</td>\n",
       "      <td>Netherlands</td>\n",
       "      <td>Central</td>\n",
       "      <td>Mar</td>\n",
       "    </tr>\n",
       "  </tbody>\n",
       "</table>\n",
       "<p>50 rows × 21 columns</p>\n",
       "</div>"
      ],
      "text/plain": [
       "            Order ID Order Date  Ship Date  Aging       Ship Mode  \\\n",
       "8641    El-2015-1137 2015-11-11 2015-11-11      1        Same Day   \n",
       "28022   FA-2015-7508 2015-01-15 2015-01-16      1  Standard Class   \n",
       "50166  FA-2015-29652 2015-08-30 2015-09-05      6  Standard Class   \n",
       "47585  FA-2015-27071 2015-04-23 2015-04-26      3  Standard Class   \n",
       "14572   HF-2015-4367 2015-11-09 2015-11-13      4    Second Class   \n",
       "49095  FA-2015-28581 2015-04-09 2015-04-13      4  Standard Class   \n",
       "31557  FA-2015-11043 2015-01-07 2015-01-16      9  Standard Class   \n",
       "24202   FA-2015-3688 2015-03-23 2015-03-31      8  Standard Class   \n",
       "21288    FA-2015-774 2015-10-01 2015-10-06      5  Standard Class   \n",
       "29043   FA-2015-8529 2015-07-20 2015-07-28      8  Standard Class   \n",
       "45079  FA-2015-24565 2015-11-26 2015-12-05      9  Standard Class   \n",
       "8451     El-2015-947 2015-12-10 2015-12-10      1        Same Day   \n",
       "47117  FA-2015-26603 2015-11-01 2015-11-04      3  Standard Class   \n",
       "482      AU-2015-483 2015-01-03 2015-01-06      3     First Class   \n",
       "29009   FA-2015-8495 2015-05-16 2015-05-17      1  Standard Class   \n",
       "5699    AU-2015-5700 2015-09-29 2015-09-30      1     First Class   \n",
       "36927  FA-2015-16413 2015-04-29 2015-05-09     10  Standard Class   \n",
       "19116   HF-2015-8911 2015-10-27 2015-10-31      4    Second Class   \n",
       "8506    El-2015-1002 2015-07-21 2015-07-21      1        Same Day   \n",
       "19616   HF-2015-9411 2015-09-01 2015-09-04      3    Second Class   \n",
       "46784  FA-2015-26270 2015-03-14 2015-03-20      6  Standard Class   \n",
       "33885  FA-2015-13371 2015-02-20 2015-02-21      1  Standard Class   \n",
       "36736  FA-2015-16222 2015-11-23 2015-11-28      5  Standard Class   \n",
       "20208  HF-2015-10003 2015-06-20 2015-06-28      8    Second Class   \n",
       "49992  FA-2015-29478 2015-01-19 2015-01-24      5  Standard Class   \n",
       "28957   FA-2015-8443 2015-05-16 2015-05-17      1  Standard Class   \n",
       "21781   FA-2015-1267 2015-11-25 2015-11-29      4  Standard Class   \n",
       "24325   FA-2015-3811 2015-04-02 2015-04-10      8  Standard Class   \n",
       "1897    AU-2015-1898 2015-12-09 2015-12-14      5     First Class   \n",
       "9493    El-2015-1989 2015-06-07 2015-06-07      1        Same Day   \n",
       "2974    AU-2015-2975 2015-10-11 2015-10-13      2     First Class   \n",
       "45785  FA-2015-25271 2015-12-14 2015-12-17      3  Standard Class   \n",
       "15526   HF-2015-5321 2015-10-25 2015-10-29      4    Second Class   \n",
       "1028    AU-2015-1029 2015-04-03 2015-04-11      8     First Class   \n",
       "50529  FA-2015-30015 2015-06-28 2015-07-06      8  Standard Class   \n",
       "43860  FA-2015-23346 2015-01-16 2015-01-17      1  Standard Class   \n",
       "36934  FA-2015-16420 2015-06-25 2015-06-27      2  Standard Class   \n",
       "42123  FA-2015-21609 2015-11-06 2015-11-07      1  Standard Class   \n",
       "14878   HF-2015-4673 2015-09-03 2015-09-12      9    Second Class   \n",
       "39471  FA-2015-18957 2015-03-03 2015-03-10      7  Standard Class   \n",
       "13506   HF-2015-3301 2015-10-06 2015-10-12      6    Second Class   \n",
       "30948  FA-2015-10434 2015-05-25 2015-05-28      3  Standard Class   \n",
       "49293  FA-2015-28779 2015-03-04 2015-03-06      2  Standard Class   \n",
       "12373   HF-2015-2168 2015-06-25 2015-07-02      7    Second Class   \n",
       "50417  FA-2015-29903 2015-06-23 2015-06-27      4  Standard Class   \n",
       "49401  FA-2015-28887 2015-09-13 2015-09-23     10  Standard Class   \n",
       "43305  FA-2015-22791 2015-02-11 2015-02-18      7  Standard Class   \n",
       "15659   HF-2015-5454 2015-11-02 2015-11-08      6    Second Class   \n",
       "37167  FA-2015-16653 2015-11-11 2015-11-14      3  Standard Class   \n",
       "29835   FA-2015-9321 2015-03-19 2015-03-25      6  Standard Class   \n",
       "\n",
       "         Product Category          Product  Sales  Quantity  Discount  ...  \\\n",
       "8641           Electronic     Mixer/Juicer   83.0         1      0.04  ...   \n",
       "28022             Fashion     Casula Shoes  122.0         1      0.03  ...   \n",
       "50166             Fashion         Sneakers   62.0         5      0.04  ...   \n",
       "47585             Fashion           Shirts  196.0         1      0.03  ...   \n",
       "14572    Home & Furniture   Dinning Tables  119.0         4      0.01  ...   \n",
       "49095             Fashion      Sports Wear   85.0         2      0.04  ...   \n",
       "31557             Fashion      Titak watch  228.0         5      0.01  ...   \n",
       "24202             Fashion            Jeans  218.0         1      0.01  ...   \n",
       "21288             Fashion            Suits  109.0         3      0.03  ...   \n",
       "29043             Fashion            Suits  109.0         1      0.02  ...   \n",
       "45079             Fashion       T - Shirts  248.0         1      0.01  ...   \n",
       "8451           Electronic              LCD   65.0         4      0.02  ...   \n",
       "47117             Fashion            Suits  109.0         2      0.04  ...   \n",
       "482    Auto & Accessories       Bike Tyres   72.0         1      0.05  ...   \n",
       "29009             Fashion            Jeans  218.0         5      0.03  ...   \n",
       "5699   Auto & Accessories     Car Speakers  211.0         5      0.05  ...   \n",
       "36927             Fashion       T - Shirts  248.0         2      0.01  ...   \n",
       "19116    Home & Furniture       Bed Sheets  211.0         1      0.05  ...   \n",
       "8506           Electronic            Mouse  111.0         3      0.03  ...   \n",
       "19616    Home & Furniture       Bed Sheets  211.0         4      0.03  ...   \n",
       "46784             Fashion       T - Shirts  248.0         5      0.05  ...   \n",
       "33885             Fashion     Casula Shoes  122.0         2      0.04  ...   \n",
       "36736             Fashion     Formal Shoes  213.0         2      0.05  ...   \n",
       "20208    Home & Furniture           Towels  228.0         3      0.02  ...   \n",
       "49992             Fashion     Fossil Watch  159.0         4      0.04  ...   \n",
       "28957             Fashion     Casula Shoes  122.0         4      0.04  ...   \n",
       "21781             Fashion           Shirts  196.0         2      0.02  ...   \n",
       "24325             Fashion      Sports Wear   85.0         4      0.05  ...   \n",
       "1897   Auto & Accessories  Car Seat Covers  114.0         5      0.04  ...   \n",
       "9493           Electronic            Mouse  111.0         3      0.01  ...   \n",
       "2974   Auto & Accessories             Tyre  250.0         4      0.05  ...   \n",
       "45785             Fashion            Jeans  218.0         1      0.04  ...   \n",
       "15526    Home & Furniture       Bed Sheets  211.0         5      0.02  ...   \n",
       "1028   Auto & Accessories  Car Body Covers  117.0         4      0.04  ...   \n",
       "50529             Fashion         Sneakers   62.0         5      0.01  ...   \n",
       "43860             Fashion            Jeans  218.0         1      0.03  ...   \n",
       "36934             Fashion     Formal Shoes  213.0         1      0.05  ...   \n",
       "42123             Fashion      Sports Wear   85.0         4      0.03  ...   \n",
       "14878    Home & Furniture         Curtains   34.0         1      0.05  ...   \n",
       "39471             Fashion            Suits  109.0         2      0.04  ...   \n",
       "13506    Home & Furniture      Sofa Covers  216.0         5      0.02  ...   \n",
       "30948             Fashion     Casula Shoes  122.0         4      0.05  ...   \n",
       "49293             Fashion      Sports Wear   85.0         2      0.02  ...   \n",
       "12373    Home & Furniture        Shoe Rack  124.0         1      0.02  ...   \n",
       "50417             Fashion    Running Shoes  224.0         3      0.02  ...   \n",
       "49401             Fashion            Jeans  218.0         4      0.01  ...   \n",
       "43305             Fashion         Sneakers   62.0         1      0.05  ...   \n",
       "15659    Home & Furniture            Sofas   67.0         4      0.05  ...   \n",
       "37167             Fashion      Titak watch  228.0         5      0.04  ...   \n",
       "29835             Fashion            Suits  109.0         2      0.02  ...   \n",
       "\n",
       "       Shipping Cost  Order Priority Customer ID       Customer Name  \\\n",
       "8641             8.3        Critical   SE-008642        Acosta Morse   \n",
       "28022            3.8          Medium  NG-0017714         Burns Chung   \n",
       "50166            1.2          Medium  ER-0039858    Richards Drucker   \n",
       "47585           11.0          Medium  NG-0037277    Harris Armstrong   \n",
       "14572            3.4            High  OK-0045348     Walker Ashbrook   \n",
       "49095            4.3          Medium  NO-0038787           West Cano   \n",
       "31557           13.7            High  LL-0021249     Hancock O'Brill   \n",
       "24202           13.6            High  LE-0013894      Owens Carlisle   \n",
       "21288            1.9          Medium  AN-0010980    Williams Abelman   \n",
       "29043            2.7          Medium  AS-0018735       Tran Matthias   \n",
       "45079           16.6          Medium  DE-0034771      Sutton Gerbode   \n",
       "8451             1.6          Medium   GS-008452     Barber Hastings   \n",
       "47117            2.0          Medium  NG-0036809     Mccall Smayling   \n",
       "482              7.2            High    LE-00483       Booth Pistole   \n",
       "29009           10.5          Medium  TT-0018701         Larsen Patt   \n",
       "5699             7.8            High   RS-005700      Hobbs Saunders   \n",
       "36927           16.3          Medium  CH-0026619      Crosby Weirich   \n",
       "19116           12.0          Medium  IN-0049892        Lloyd Martin   \n",
       "8506             2.1            High   RD-008507     Wiggins Odegard   \n",
       "19616           10.6            High  ON-0050392      Webster Jordon   \n",
       "46784           10.6          Medium  EN-0036476   Reyes Christensen   \n",
       "33885            3.2          Medium  CH-0023577       Oliver Dortch   \n",
       "36736           11.2            High  CH-0026428   Lambert Glotzbach   \n",
       "20208           13.4          Medium  CH-0050984       Oliver Dortch   \n",
       "49992            5.4          Medium  ES-0039684      Robbins Hughes   \n",
       "28957            2.2          Medium  DT-0018649       Rojas Schmidt   \n",
       "21781           10.8          Medium  IE-0011473        Olson Currie   \n",
       "24325            2.1            High  ON-0014017       Doyle Knutson   \n",
       "1897             1.1        Critical   IE-001898   Mclaughlin Leslie   \n",
       "9493             2.8          Medium   RI-009494      Weiss Shariari   \n",
       "2974            12.0        Critical   IN-002975      Terrell Zeldin   \n",
       "45785           12.9            High  WE-0035477           Ray Crowe   \n",
       "15526           11.0            High  IO-0046302         Conway Seio   \n",
       "1028             1.8            High   AM-001029  Watkins Cunningham   \n",
       "50529            1.2          Medium  NG-0040221        Huff Manning   \n",
       "43860           13.1          Medium  SH-0033552          Mann Hirsh   \n",
       "36934           12.2          Medium  LL-0026626     Short O'Connell   \n",
       "42123            2.1          Medium  DT-0031815       Rojas Schmidt   \n",
       "14878            3.4          Medium  ER-0045654      Montoya Ritter   \n",
       "39471            2.0          Medium  BE-0029163        French Liebe   \n",
       "13506           11.4          Medium  IN-0044282      Cain Mccrossin   \n",
       "30948            1.8          Medium  TH-0020640        Gentry Smith   \n",
       "49293            0.2             Low  LY-0038985      Preston Savely   \n",
       "12373            4.2          Medium  AM-0043149    Bauer Sundaresam   \n",
       "50417           13.1          Medium  RE-0040109   Singleton Mcclure   \n",
       "49401           12.9          Medium  IG-0039093         Owen Ludwig   \n",
       "43305            6.2          Medium  TZ-0032997         Rivas Voltz   \n",
       "15659            1.7          Medium  ES-0046435        Brooks Boyes   \n",
       "37167           10.2          Medium  NS-0026859     Perkins Cousins   \n",
       "29835            2.5          Medium  ES-0019527       Newton Hughes   \n",
       "\n",
       "           Segment               City                       State  \\\n",
       "8641     Corporate          Montesson               Ile-de-France   \n",
       "28022     Consumer            Kananga            Kasai-Occidental   \n",
       "50166    Corporate        San Antonio                       Texas   \n",
       "47585    Corporate          Hyderabad                   Telangana   \n",
       "14572     Consumer              Kabul                       Kabul   \n",
       "49095     Consumer           Abeokuta                        Ogun   \n",
       "31557     Consumer            Nellore              Andhra Pradesh   \n",
       "24202     Consumer          San Diego                  California   \n",
       "21288    Corporate          Le Cannet  Provence-Alpes-Côte d'Azur   \n",
       "29043     Consumer              Basra                   Al Basrah   \n",
       "45079  Home Office            Bangkok                     Bangkok   \n",
       "8451      Consumer              Reims           Champagne-Ardenne   \n",
       "47117     Consumer         Birmingham                     England   \n",
       "482       Consumer       Philadelphia                Pennsylvania   \n",
       "29009     Consumer              Monza                    Lombardy   \n",
       "5699      Consumer           Columbus                     Indiana   \n",
       "36927    Corporate             Slupsk                   Pomerania   \n",
       "19116     Consumer           Calabozo                     Guárico   \n",
       "8506      Consumer            Hasselt                     Limburg   \n",
       "19616     Consumer           Istanbul                    Istanbul   \n",
       "46784     Consumer      New York City                    New York   \n",
       "33885    Corporate             Berlin                      Berlin   \n",
       "36736     Consumer      Santo Domingo               Santo Domingo   \n",
       "20208    Corporate          Cartagena                     Bolívar   \n",
       "49992     Consumer           Columbus                        Ohio   \n",
       "28957  Home Office          Mejicanos                San Salvador   \n",
       "21781  Home Office          São Paulo                   São Paulo   \n",
       "24325  Home Office             Sydney             New South Wales   \n",
       "1897     Corporate            Poltava                     Poltava   \n",
       "9493      Consumer            Mashhad             Razavi Khorasan   \n",
       "2974      Consumer             Zigong                     Sichuan   \n",
       "45785     Consumer            Hamadan                     Hamadan   \n",
       "15526  Home Office            Chicago                    Illinois   \n",
       "1028     Corporate           Iserlohn      North Rhine-Westphalia   \n",
       "50529     Consumer            Trabzon                     Trabzon   \n",
       "43860    Corporate            Geelong                    Victoria   \n",
       "36934    Corporate           Valencia                  Valenciana   \n",
       "42123  Home Office  Pontault-Combault               Ile-de-France   \n",
       "14878    Corporate           Marietta                     Georgia   \n",
       "39471    Corporate        Bournemouth                     England   \n",
       "13506  Home Office      Huehuetenango               Huehuetenango   \n",
       "30948     Consumer               Vigo                     Galicia   \n",
       "49293     Consumer      New York City                    New York   \n",
       "12373     Consumer          Newcastle             New South Wales   \n",
       "50417     Consumer          San Justo                    Santa Fe   \n",
       "49401    Corporate             Mysore                   Karnataka   \n",
       "43305    Corporate            Homyel'                     Homyel'   \n",
       "15659    Corporate            El Paso                       Texas   \n",
       "37167     Consumer         Long Beach                    New York   \n",
       "29835     Consumer          Apeldoorn                  Gelderland   \n",
       "\n",
       "                                Country          Region Months  \n",
       "8641                             France         Central    Nov  \n",
       "28022  Democratic Republic of the Congo          Africa    Jan  \n",
       "50166                     United States         Central    Aug  \n",
       "47585                             India    Central Asia    Apr  \n",
       "14572                       Afghanistan    Central Asia    Nov  \n",
       "49095                           Nigeria          Africa    Apr  \n",
       "31557                             India    Central Asia    Jan  \n",
       "24202                     United States            West    Mar  \n",
       "21288                            France         Central    Oct  \n",
       "29043                              Iraq            EMEA    Jul  \n",
       "45079                          Thailand  Southeast Asia    Nov  \n",
       "8451                             France         Central    Dec  \n",
       "47117                    United Kingdom           North    Nov  \n",
       "482                       United States            East    Jan  \n",
       "29009                             Italy           South    May  \n",
       "5699                      United States         Central    Sep  \n",
       "36927                            Poland            EMEA    Apr  \n",
       "19116                         Venezuela           South    Oct  \n",
       "8506                            Belgium         Central    Jul  \n",
       "19616                            Turkey            EMEA    Sep  \n",
       "46784                     United States            East    Mar  \n",
       "33885                           Germany         Central    Feb  \n",
       "36736                Dominican Republic       Caribbean    Nov  \n",
       "20208                          Colombia           South    Jun  \n",
       "49992                     United States            East    Jan  \n",
       "28957                       El Salvador         Central    May  \n",
       "21781                            Brazil           South    Nov  \n",
       "24325                         Australia         Oceania    Apr  \n",
       "1897                            Ukraine            EMEA    Dec  \n",
       "9493                               Iran            EMEA    Jun  \n",
       "2974                              China      North Asia    Oct  \n",
       "45785                              Iran            EMEA    Dec  \n",
       "15526                     United States         Central    Oct  \n",
       "1028                            Germany         Central    Apr  \n",
       "50529                            Turkey            EMEA    Jun  \n",
       "43860                         Australia         Oceania    Jan  \n",
       "36934                             Spain           South    Jun  \n",
       "42123                            France         Central    Nov  \n",
       "14878                     United States           South    Sep  \n",
       "39471                    United Kingdom           North    Mar  \n",
       "13506                         Guatemala         Central    Oct  \n",
       "30948                             Spain           South    May  \n",
       "49293                     United States            East    Mar  \n",
       "12373                         Australia         Oceania    Jun  \n",
       "50417                         Argentina           South    Jun  \n",
       "49401                             India    Central Asia    Sep  \n",
       "43305                           Belarus            EMEA    Feb  \n",
       "15659                     United States         Central    Nov  \n",
       "37167                     United States            East    Nov  \n",
       "29835                       Netherlands         Central    Mar  \n",
       "\n",
       "[50 rows x 21 columns]"
      ]
     },
     "execution_count": 249,
     "metadata": {},
     "output_type": "execute_result"
    }
   ],
   "source": [
    "data.sample(50)"
   ]
  },
  {
   "cell_type": "code",
   "execution_count": 250,
   "metadata": {},
   "outputs": [
    {
     "data": {
      "text/plain": [
       "3"
      ]
     },
     "execution_count": 250,
     "metadata": {},
     "output_type": "execute_result"
    }
   ],
   "source": [
    "data[\"Segment\"].nunique()"
   ]
  },
  {
   "cell_type": "code",
   "execution_count": 251,
   "metadata": {},
   "outputs": [
    {
     "data": {
      "text/plain": [
       "array(['Consumer', 'Home Office', 'Corporate'], dtype=object)"
      ]
     },
     "execution_count": 251,
     "metadata": {},
     "output_type": "execute_result"
    }
   ],
   "source": [
    "data[\"Segment\"].unique()"
   ]
  },
  {
   "cell_type": "code",
   "execution_count": 252,
   "metadata": {},
   "outputs": [
    {
     "data": {
      "text/plain": [
       "3636"
      ]
     },
     "execution_count": 252,
     "metadata": {},
     "output_type": "execute_result"
    }
   ],
   "source": [
    "data[\"City\"].nunique()"
   ]
  },
  {
   "cell_type": "code",
   "execution_count": 253,
   "metadata": {},
   "outputs": [
    {
     "data": {
      "text/plain": [
       "147"
      ]
     },
     "execution_count": 253,
     "metadata": {},
     "output_type": "execute_result"
    }
   ],
   "source": [
    "data[\"Country\"].nunique()"
   ]
  },
  {
   "cell_type": "code",
   "execution_count": 254,
   "metadata": {},
   "outputs": [
    {
     "data": {
      "text/plain": [
       "15"
      ]
     },
     "execution_count": 254,
     "metadata": {},
     "output_type": "execute_result"
    }
   ],
   "source": [
    "data[\"Region\"].nunique()"
   ]
  },
  {
   "cell_type": "code",
   "execution_count": 255,
   "metadata": {
    "scrolled": true
   },
   "outputs": [
    {
     "data": {
      "text/plain": [
       "Central           11116\n",
       "South              6642\n",
       "EMEA               5029\n",
       "North              4782\n",
       "Africa             4586\n",
       "Oceania            3486\n",
       "West               3202\n",
       "Southeast Asia     3129\n",
       "East               2848\n",
       "North Asia         2336\n",
       "Central Asia       2048\n",
       "Caribbean          1690\n",
       "Canada              384\n",
       "So3th                 1\n",
       "4orth                 1\n",
       "Name: Region, dtype: int64"
      ]
     },
     "execution_count": 255,
     "metadata": {},
     "output_type": "execute_result"
    }
   ],
   "source": [
    "data[\"Region\"].value_counts()"
   ]
  },
  {
   "cell_type": "code",
   "execution_count": 256,
   "metadata": {},
   "outputs": [],
   "source": [
    "data[\"Region\"]=data[\"Region\"].str.replace('So3th','South')\n",
    "data[\"Region\"]=data[\"Region\"].str.replace('4orth','North')"
   ]
  },
  {
   "cell_type": "code",
   "execution_count": 257,
   "metadata": {
    "scrolled": true
   },
   "outputs": [
    {
     "data": {
      "text/plain": [
       "13"
      ]
     },
     "execution_count": 257,
     "metadata": {},
     "output_type": "execute_result"
    }
   ],
   "source": [
    "data[\"Region\"].nunique()"
   ]
  },
  {
   "cell_type": "code",
   "execution_count": 258,
   "metadata": {},
   "outputs": [
    {
     "data": {
      "text/plain": [
       "array(['Nov', 'Jun', 'Dec', 'May', 'Jul', 'Feb', 'Apr', 'Mar', 'Sep',\n",
       "       'Oct', 'Jan', 'Aug'], dtype=object)"
      ]
     },
     "execution_count": 258,
     "metadata": {},
     "output_type": "execute_result"
    }
   ],
   "source": [
    "data[\"Months\"].unique()"
   ]
  },
  {
   "cell_type": "code",
   "execution_count": 259,
   "metadata": {},
   "outputs": [
    {
     "data": {
      "text/plain": [
       "(51280, 21)"
      ]
     },
     "execution_count": 259,
     "metadata": {},
     "output_type": "execute_result"
    }
   ],
   "source": [
    "data.shape"
   ]
  },
  {
   "cell_type": "code",
   "execution_count": 260,
   "metadata": {},
   "outputs": [
    {
     "name": "stdout",
     "output_type": "stream",
     "text": [
      "<class 'pandas.core.frame.DataFrame'>\n",
      "Int64Index: 51280 entries, 0 to 51289\n",
      "Data columns (total 21 columns):\n",
      " #   Column            Non-Null Count  Dtype         \n",
      "---  ------            --------------  -----         \n",
      " 0   Order ID          51280 non-null  object        \n",
      " 1   Order Date        51280 non-null  datetime64[ns]\n",
      " 2   Ship Date         51280 non-null  datetime64[ns]\n",
      " 3   Aging             51280 non-null  int32         \n",
      " 4   Ship Mode         51280 non-null  object        \n",
      " 5   Product Category  51280 non-null  object        \n",
      " 6   Product           51280 non-null  object        \n",
      " 7   Sales             51280 non-null  float64       \n",
      " 8   Quantity          51280 non-null  int32         \n",
      " 9   Discount          51280 non-null  float64       \n",
      " 10  Profit            51280 non-null  float64       \n",
      " 11  Shipping Cost     51280 non-null  float64       \n",
      " 12  Order Priority    51280 non-null  object        \n",
      " 13  Customer ID       51280 non-null  object        \n",
      " 14  Customer Name     51280 non-null  object        \n",
      " 15  Segment           51280 non-null  object        \n",
      " 16  City              51280 non-null  object        \n",
      " 17  State             51280 non-null  object        \n",
      " 18  Country           51280 non-null  object        \n",
      " 19  Region            51280 non-null  object        \n",
      " 20  Months            51280 non-null  object        \n",
      "dtypes: datetime64[ns](2), float64(4), int32(2), object(13)\n",
      "memory usage: 8.2+ MB\n"
     ]
    }
   ],
   "source": [
    "data.info()"
   ]
  },
  {
   "cell_type": "markdown",
   "metadata": {},
   "source": [
    "# checking for outliers"
   ]
  },
  {
   "cell_type": "code",
   "execution_count": 261,
   "metadata": {},
   "outputs": [
    {
     "data": {
      "text/html": [
       "<div>\n",
       "<style scoped>\n",
       "    .dataframe tbody tr th:only-of-type {\n",
       "        vertical-align: middle;\n",
       "    }\n",
       "\n",
       "    .dataframe tbody tr th {\n",
       "        vertical-align: top;\n",
       "    }\n",
       "\n",
       "    .dataframe thead th {\n",
       "        text-align: right;\n",
       "    }\n",
       "</style>\n",
       "<table border=\"1\" class=\"dataframe\">\n",
       "  <thead>\n",
       "    <tr style=\"text-align: right;\">\n",
       "      <th></th>\n",
       "      <th>Aging</th>\n",
       "      <th>Sales</th>\n",
       "      <th>Quantity</th>\n",
       "      <th>Discount</th>\n",
       "      <th>Profit</th>\n",
       "      <th>Shipping Cost</th>\n",
       "      <th>days</th>\n",
       "    </tr>\n",
       "  </thead>\n",
       "  <tbody>\n",
       "    <tr>\n",
       "      <th>0</th>\n",
       "      <td>8</td>\n",
       "      <td>140.0</td>\n",
       "      <td>2</td>\n",
       "      <td>0.05</td>\n",
       "      <td>46.0</td>\n",
       "      <td>4.6</td>\n",
       "      <td>9</td>\n",
       "    </tr>\n",
       "    <tr>\n",
       "      <th>1</th>\n",
       "      <td>2</td>\n",
       "      <td>211.0</td>\n",
       "      <td>3</td>\n",
       "      <td>0.03</td>\n",
       "      <td>112.0</td>\n",
       "      <td>11.2</td>\n",
       "      <td>30</td>\n",
       "    </tr>\n",
       "    <tr>\n",
       "      <th>2</th>\n",
       "      <td>8</td>\n",
       "      <td>117.0</td>\n",
       "      <td>5</td>\n",
       "      <td>0.01</td>\n",
       "      <td>31.2</td>\n",
       "      <td>3.1</td>\n",
       "      <td>5</td>\n",
       "    </tr>\n",
       "    <tr>\n",
       "      <th>3</th>\n",
       "      <td>7</td>\n",
       "      <td>118.0</td>\n",
       "      <td>2</td>\n",
       "      <td>0.05</td>\n",
       "      <td>26.2</td>\n",
       "      <td>2.6</td>\n",
       "      <td>9</td>\n",
       "    </tr>\n",
       "    <tr>\n",
       "      <th>4</th>\n",
       "      <td>9</td>\n",
       "      <td>250.0</td>\n",
       "      <td>1</td>\n",
       "      <td>0.04</td>\n",
       "      <td>160.0</td>\n",
       "      <td>16.0</td>\n",
       "      <td>9</td>\n",
       "    </tr>\n",
       "  </tbody>\n",
       "</table>\n",
       "</div>"
      ],
      "text/plain": [
       "   Aging  Sales  Quantity  Discount  Profit  Shipping Cost  days\n",
       "0      8  140.0         2      0.05    46.0            4.6     9\n",
       "1      2  211.0         3      0.03   112.0           11.2    30\n",
       "2      8  117.0         5      0.01    31.2            3.1     5\n",
       "3      7  118.0         2      0.05    26.2            2.6     9\n",
       "4      9  250.0         1      0.04   160.0           16.0     9"
      ]
     },
     "execution_count": 261,
     "metadata": {},
     "output_type": "execute_result"
    }
   ],
   "source": [
    "num_object=data1.select_dtypes(include=[int,float])\n",
    "num_object.head(5)"
   ]
  },
  {
   "cell_type": "code",
   "execution_count": 262,
   "metadata": {},
   "outputs": [
    {
     "data": {
      "image/png": "[encoded data removed]",
      "text/plain": [
       "<Figure size 432x288 with 1 Axes>"
      ]
     },
     "metadata": {
      "needs_background": "light"
     },
     "output_type": "display_data"
    }
   ],
   "source": [
    "sns.boxplot(num_object)\n",
    "plt.show()"
   ]
  },
  {
   "cell_type": "markdown",
   "metadata": {},
   "source": [
    "# Inference:\n",
    "There is one outlier at discount column which can easily be dropped"
   ]
  },
  {
   "cell_type": "code",
   "execution_count": 263,
   "metadata": {
    "scrolled": true
   },
   "outputs": [
    {
     "data": {
      "text/html": [
       "<div>\n",
       "<style scoped>\n",
       "    .dataframe tbody tr th:only-of-type {\n",
       "        vertical-align: middle;\n",
       "    }\n",
       "\n",
       "    .dataframe tbody tr th {\n",
       "        vertical-align: top;\n",
       "    }\n",
       "\n",
       "    .dataframe thead th {\n",
       "        text-align: right;\n",
       "    }\n",
       "</style>\n",
       "<table border=\"1\" class=\"dataframe\">\n",
       "  <thead>\n",
       "    <tr style=\"text-align: right;\">\n",
       "      <th></th>\n",
       "      <th>Order ID</th>\n",
       "      <th>Order Date</th>\n",
       "      <th>Ship Date</th>\n",
       "      <th>Aging</th>\n",
       "      <th>Ship Mode</th>\n",
       "      <th>Product Category</th>\n",
       "      <th>Product</th>\n",
       "      <th>Sales</th>\n",
       "      <th>Quantity</th>\n",
       "      <th>Discount</th>\n",
       "      <th>...</th>\n",
       "      <th>Shipping Cost</th>\n",
       "      <th>Order Priority</th>\n",
       "      <th>Customer ID</th>\n",
       "      <th>Customer Name</th>\n",
       "      <th>Segment</th>\n",
       "      <th>City</th>\n",
       "      <th>State</th>\n",
       "      <th>Country</th>\n",
       "      <th>Region</th>\n",
       "      <th>Months</th>\n",
       "    </tr>\n",
       "  </thead>\n",
       "  <tbody>\n",
       "    <tr>\n",
       "      <th>211</th>\n",
       "      <td>AU-2015-212</td>\n",
       "      <td>2015-09-02</td>\n",
       "      <td>2015-09-08</td>\n",
       "      <td>6</td>\n",
       "      <td>First Class</td>\n",
       "      <td>Auto &amp; Accessories</td>\n",
       "      <td>Tyre</td>\n",
       "      <td>250.0</td>\n",
       "      <td>5</td>\n",
       "      <td>159.0</td>\n",
       "      <td>...</td>\n",
       "      <td>13.3</td>\n",
       "      <td>Medium</td>\n",
       "      <td>EE-00212</td>\n",
       "      <td>Norton Magee</td>\n",
       "      <td>Corporate</td>\n",
       "      <td>Bondy</td>\n",
       "      <td>Ile-de-France</td>\n",
       "      <td>France</td>\n",
       "      <td>Central</td>\n",
       "      <td>Sep</td>\n",
       "    </tr>\n",
       "  </tbody>\n",
       "</table>\n",
       "<p>1 rows × 21 columns</p>\n",
       "</div>"
      ],
      "text/plain": [
       "        Order ID Order Date  Ship Date  Aging    Ship Mode  \\\n",
       "211  AU-2015-212 2015-09-02 2015-09-08      6  First Class   \n",
       "\n",
       "       Product Category Product  Sales  Quantity  Discount  ...  \\\n",
       "211  Auto & Accessories    Tyre  250.0         5     159.0  ...   \n",
       "\n",
       "     Shipping Cost  Order Priority Customer ID Customer Name    Segment  \\\n",
       "211           13.3          Medium    EE-00212  Norton Magee  Corporate   \n",
       "\n",
       "      City          State Country   Region Months  \n",
       "211  Bondy  Ile-de-France  France  Central    Sep  \n",
       "\n",
       "[1 rows x 21 columns]"
      ]
     },
     "execution_count": 263,
     "metadata": {},
     "output_type": "execute_result"
    }
   ],
   "source": [
    "data[data['Discount']==159]"
   ]
  },
  {
   "cell_type": "code",
   "execution_count": 264,
   "metadata": {},
   "outputs": [
    {
     "data": {
      "text/html": [
       "<div>\n",
       "<style scoped>\n",
       "    .dataframe tbody tr th:only-of-type {\n",
       "        vertical-align: middle;\n",
       "    }\n",
       "\n",
       "    .dataframe tbody tr th {\n",
       "        vertical-align: top;\n",
       "    }\n",
       "\n",
       "    .dataframe thead th {\n",
       "        text-align: right;\n",
       "    }\n",
       "</style>\n",
       "<table border=\"1\" class=\"dataframe\">\n",
       "  <thead>\n",
       "    <tr style=\"text-align: right;\">\n",
       "      <th></th>\n",
       "      <th>Order ID</th>\n",
       "      <th>Order Date</th>\n",
       "      <th>Ship Date</th>\n",
       "      <th>Aging</th>\n",
       "      <th>Ship Mode</th>\n",
       "      <th>Product Category</th>\n",
       "      <th>Product</th>\n",
       "      <th>Sales</th>\n",
       "      <th>Quantity</th>\n",
       "      <th>Discount</th>\n",
       "      <th>...</th>\n",
       "      <th>Shipping Cost</th>\n",
       "      <th>Order Priority</th>\n",
       "      <th>Customer ID</th>\n",
       "      <th>Customer Name</th>\n",
       "      <th>Segment</th>\n",
       "      <th>City</th>\n",
       "      <th>State</th>\n",
       "      <th>Country</th>\n",
       "      <th>Region</th>\n",
       "      <th>Months</th>\n",
       "    </tr>\n",
       "  </thead>\n",
       "  <tbody>\n",
       "    <tr>\n",
       "      <th>0</th>\n",
       "      <td>AU-2015-1</td>\n",
       "      <td>2015-11-09</td>\n",
       "      <td>2015-11-17</td>\n",
       "      <td>8</td>\n",
       "      <td>First Class</td>\n",
       "      <td>Auto &amp; Accessories</td>\n",
       "      <td>Car Media Players</td>\n",
       "      <td>140.0</td>\n",
       "      <td>2</td>\n",
       "      <td>0.05</td>\n",
       "      <td>...</td>\n",
       "      <td>4.6</td>\n",
       "      <td>Medium</td>\n",
       "      <td>LS-001</td>\n",
       "      <td>Lane Daniels</td>\n",
       "      <td>Consumer</td>\n",
       "      <td>Brisbane</td>\n",
       "      <td>Queensland</td>\n",
       "      <td>Australia</td>\n",
       "      <td>Oceania</td>\n",
       "      <td>Nov</td>\n",
       "    </tr>\n",
       "    <tr>\n",
       "      <th>1</th>\n",
       "      <td>AU-2015-2</td>\n",
       "      <td>2015-06-30</td>\n",
       "      <td>2015-07-02</td>\n",
       "      <td>2</td>\n",
       "      <td>First Class</td>\n",
       "      <td>Auto &amp; Accessories</td>\n",
       "      <td>Car Speakers</td>\n",
       "      <td>211.0</td>\n",
       "      <td>3</td>\n",
       "      <td>0.03</td>\n",
       "      <td>...</td>\n",
       "      <td>11.2</td>\n",
       "      <td>Medium</td>\n",
       "      <td>IZ-002</td>\n",
       "      <td>Alvarado Kriz</td>\n",
       "      <td>Home Office</td>\n",
       "      <td>Berlin</td>\n",
       "      <td>Berlin</td>\n",
       "      <td>Germany</td>\n",
       "      <td>Central</td>\n",
       "      <td>Jun</td>\n",
       "    </tr>\n",
       "    <tr>\n",
       "      <th>2</th>\n",
       "      <td>AU-2015-3</td>\n",
       "      <td>2015-12-05</td>\n",
       "      <td>2015-12-13</td>\n",
       "      <td>8</td>\n",
       "      <td>First Class</td>\n",
       "      <td>Auto &amp; Accessories</td>\n",
       "      <td>Car Body Covers</td>\n",
       "      <td>117.0</td>\n",
       "      <td>5</td>\n",
       "      <td>0.01</td>\n",
       "      <td>...</td>\n",
       "      <td>3.1</td>\n",
       "      <td>Critical</td>\n",
       "      <td>EN-003</td>\n",
       "      <td>Moon Weien</td>\n",
       "      <td>Consumer</td>\n",
       "      <td>Porirua</td>\n",
       "      <td>Wellington</td>\n",
       "      <td>New Zealand</td>\n",
       "      <td>Oceania</td>\n",
       "      <td>Dec</td>\n",
       "    </tr>\n",
       "    <tr>\n",
       "      <th>3</th>\n",
       "      <td>AU-2015-4</td>\n",
       "      <td>2015-05-09</td>\n",
       "      <td>2015-05-16</td>\n",
       "      <td>7</td>\n",
       "      <td>First Class</td>\n",
       "      <td>Auto &amp; Accessories</td>\n",
       "      <td>Car &amp; Bike Care</td>\n",
       "      <td>118.0</td>\n",
       "      <td>2</td>\n",
       "      <td>0.05</td>\n",
       "      <td>...</td>\n",
       "      <td>2.6</td>\n",
       "      <td>High</td>\n",
       "      <td>AN-004</td>\n",
       "      <td>Sanchez Bergman</td>\n",
       "      <td>Corporate</td>\n",
       "      <td>Kabul</td>\n",
       "      <td>Kabul</td>\n",
       "      <td>Afghanistan</td>\n",
       "      <td>Central Asia</td>\n",
       "      <td>May</td>\n",
       "    </tr>\n",
       "    <tr>\n",
       "      <th>4</th>\n",
       "      <td>AU-2015-5</td>\n",
       "      <td>2015-07-09</td>\n",
       "      <td>2015-07-18</td>\n",
       "      <td>9</td>\n",
       "      <td>First Class</td>\n",
       "      <td>Auto &amp; Accessories</td>\n",
       "      <td>Tyre</td>\n",
       "      <td>250.0</td>\n",
       "      <td>1</td>\n",
       "      <td>0.04</td>\n",
       "      <td>...</td>\n",
       "      <td>16.0</td>\n",
       "      <td>Critical</td>\n",
       "      <td>ON-005</td>\n",
       "      <td>Rowe Jackson</td>\n",
       "      <td>Corporate</td>\n",
       "      <td>Townsville</td>\n",
       "      <td>Queensland</td>\n",
       "      <td>Australia</td>\n",
       "      <td>Oceania</td>\n",
       "      <td>Jul</td>\n",
       "    </tr>\n",
       "    <tr>\n",
       "      <th>...</th>\n",
       "      <td>...</td>\n",
       "      <td>...</td>\n",
       "      <td>...</td>\n",
       "      <td>...</td>\n",
       "      <td>...</td>\n",
       "      <td>...</td>\n",
       "      <td>...</td>\n",
       "      <td>...</td>\n",
       "      <td>...</td>\n",
       "      <td>...</td>\n",
       "      <td>...</td>\n",
       "      <td>...</td>\n",
       "      <td>...</td>\n",
       "      <td>...</td>\n",
       "      <td>...</td>\n",
       "      <td>...</td>\n",
       "      <td>...</td>\n",
       "      <td>...</td>\n",
       "      <td>...</td>\n",
       "      <td>...</td>\n",
       "      <td>...</td>\n",
       "    </tr>\n",
       "    <tr>\n",
       "      <th>210</th>\n",
       "      <td>AU-2015-211</td>\n",
       "      <td>2015-11-16</td>\n",
       "      <td>2015-11-20</td>\n",
       "      <td>4</td>\n",
       "      <td>First Class</td>\n",
       "      <td>Auto &amp; Accessories</td>\n",
       "      <td>Car &amp; Bike Care</td>\n",
       "      <td>118.0</td>\n",
       "      <td>2</td>\n",
       "      <td>0.04</td>\n",
       "      <td>...</td>\n",
       "      <td>2.9</td>\n",
       "      <td>Medium</td>\n",
       "      <td>ON-00211</td>\n",
       "      <td>Alvarez Eaton</td>\n",
       "      <td>Corporate</td>\n",
       "      <td>Mexico City</td>\n",
       "      <td>Distrito Federal</td>\n",
       "      <td>Mexico</td>\n",
       "      <td>North</td>\n",
       "      <td>Nov</td>\n",
       "    </tr>\n",
       "    <tr>\n",
       "      <th>212</th>\n",
       "      <td>AU-2015-213</td>\n",
       "      <td>2015-12-31</td>\n",
       "      <td>2016-01-06</td>\n",
       "      <td>6</td>\n",
       "      <td>First Class</td>\n",
       "      <td>Auto &amp; Accessories</td>\n",
       "      <td>Bike Tyres</td>\n",
       "      <td>72.0</td>\n",
       "      <td>4</td>\n",
       "      <td>0.04</td>\n",
       "      <td>...</td>\n",
       "      <td>1.8</td>\n",
       "      <td>High</td>\n",
       "      <td>ER-00213</td>\n",
       "      <td>Cameron Packer</td>\n",
       "      <td>Consumer</td>\n",
       "      <td>Houston</td>\n",
       "      <td>Texas</td>\n",
       "      <td>United States</td>\n",
       "      <td>Central</td>\n",
       "      <td>Dec</td>\n",
       "    </tr>\n",
       "    <tr>\n",
       "      <th>213</th>\n",
       "      <td>AU-2015-214</td>\n",
       "      <td>2015-11-19</td>\n",
       "      <td>2015-11-22</td>\n",
       "      <td>3</td>\n",
       "      <td>First Class</td>\n",
       "      <td>Auto &amp; Accessories</td>\n",
       "      <td>Car Mat</td>\n",
       "      <td>54.0</td>\n",
       "      <td>5</td>\n",
       "      <td>0.03</td>\n",
       "      <td>...</td>\n",
       "      <td>1.1</td>\n",
       "      <td>Critical</td>\n",
       "      <td>IN-00214</td>\n",
       "      <td>Barker Haberlin</td>\n",
       "      <td>Corporate</td>\n",
       "      <td>Casablanca</td>\n",
       "      <td>Grand Casablanca</td>\n",
       "      <td>Morocco</td>\n",
       "      <td>Africa</td>\n",
       "      <td>Nov</td>\n",
       "    </tr>\n",
       "    <tr>\n",
       "      <th>214</th>\n",
       "      <td>AU-2015-215</td>\n",
       "      <td>2015-10-22</td>\n",
       "      <td>2015-10-23</td>\n",
       "      <td>1</td>\n",
       "      <td>First Class</td>\n",
       "      <td>Auto &amp; Accessories</td>\n",
       "      <td>Car Seat Covers</td>\n",
       "      <td>114.0</td>\n",
       "      <td>3</td>\n",
       "      <td>0.01</td>\n",
       "      <td>...</td>\n",
       "      <td>3.1</td>\n",
       "      <td>Medium</td>\n",
       "      <td>LY-00215</td>\n",
       "      <td>Winters Shonely</td>\n",
       "      <td>Consumer</td>\n",
       "      <td>Santo André</td>\n",
       "      <td>São Paulo</td>\n",
       "      <td>Brazil</td>\n",
       "      <td>South</td>\n",
       "      <td>Oct</td>\n",
       "    </tr>\n",
       "    <tr>\n",
       "      <th>215</th>\n",
       "      <td>AU-2015-216</td>\n",
       "      <td>2015-01-24</td>\n",
       "      <td>2015-01-29</td>\n",
       "      <td>5</td>\n",
       "      <td>First Class</td>\n",
       "      <td>Auto &amp; Accessories</td>\n",
       "      <td>Car Pillow &amp; Neck Rest</td>\n",
       "      <td>231.0</td>\n",
       "      <td>5</td>\n",
       "      <td>0.05</td>\n",
       "      <td>...</td>\n",
       "      <td>9.3</td>\n",
       "      <td>High</td>\n",
       "      <td>AN-00216</td>\n",
       "      <td>Miranda Ryan</td>\n",
       "      <td>Home Office</td>\n",
       "      <td>Providence</td>\n",
       "      <td>Rhode Island</td>\n",
       "      <td>United States</td>\n",
       "      <td>East</td>\n",
       "      <td>Jan</td>\n",
       "    </tr>\n",
       "  </tbody>\n",
       "</table>\n",
       "<p>210 rows × 21 columns</p>\n",
       "</div>"
      ],
      "text/plain": [
       "        Order ID Order Date  Ship Date  Aging    Ship Mode  \\\n",
       "0      AU-2015-1 2015-11-09 2015-11-17      8  First Class   \n",
       "1      AU-2015-2 2015-06-30 2015-07-02      2  First Class   \n",
       "2      AU-2015-3 2015-12-05 2015-12-13      8  First Class   \n",
       "3      AU-2015-4 2015-05-09 2015-05-16      7  First Class   \n",
       "4      AU-2015-5 2015-07-09 2015-07-18      9  First Class   \n",
       "..           ...        ...        ...    ...          ...   \n",
       "210  AU-2015-211 2015-11-16 2015-11-20      4  First Class   \n",
       "212  AU-2015-213 2015-12-31 2016-01-06      6  First Class   \n",
       "213  AU-2015-214 2015-11-19 2015-11-22      3  First Class   \n",
       "214  AU-2015-215 2015-10-22 2015-10-23      1  First Class   \n",
       "215  AU-2015-216 2015-01-24 2015-01-29      5  First Class   \n",
       "\n",
       "       Product Category                 Product  Sales  Quantity  Discount  \\\n",
       "0    Auto & Accessories       Car Media Players  140.0         2      0.05   \n",
       "1    Auto & Accessories            Car Speakers  211.0         3      0.03   \n",
       "2    Auto & Accessories         Car Body Covers  117.0         5      0.01   \n",
       "3    Auto & Accessories         Car & Bike Care  118.0         2      0.05   \n",
       "4    Auto & Accessories                    Tyre  250.0         1      0.04   \n",
       "..                  ...                     ...    ...       ...       ...   \n",
       "210  Auto & Accessories         Car & Bike Care  118.0         2      0.04   \n",
       "212  Auto & Accessories              Bike Tyres   72.0         4      0.04   \n",
       "213  Auto & Accessories                 Car Mat   54.0         5      0.03   \n",
       "214  Auto & Accessories         Car Seat Covers  114.0         3      0.01   \n",
       "215  Auto & Accessories  Car Pillow & Neck Rest  231.0         5      0.05   \n",
       "\n",
       "     ...  Shipping Cost  Order Priority Customer ID    Customer Name  \\\n",
       "0    ...            4.6          Medium      LS-001     Lane Daniels   \n",
       "1    ...           11.2          Medium      IZ-002    Alvarado Kriz   \n",
       "2    ...            3.1        Critical      EN-003       Moon Weien   \n",
       "3    ...            2.6            High      AN-004  Sanchez Bergman   \n",
       "4    ...           16.0        Critical      ON-005     Rowe Jackson   \n",
       "..   ...            ...             ...         ...              ...   \n",
       "210  ...            2.9          Medium    ON-00211    Alvarez Eaton   \n",
       "212  ...            1.8            High    ER-00213   Cameron Packer   \n",
       "213  ...            1.1        Critical    IN-00214  Barker Haberlin   \n",
       "214  ...            3.1          Medium    LY-00215  Winters Shonely   \n",
       "215  ...            9.3            High    AN-00216     Miranda Ryan   \n",
       "\n",
       "         Segment         City             State        Country        Region  \\\n",
       "0       Consumer     Brisbane        Queensland      Australia       Oceania   \n",
       "1    Home Office       Berlin            Berlin        Germany       Central   \n",
       "2       Consumer      Porirua        Wellington    New Zealand       Oceania   \n",
       "3      Corporate        Kabul             Kabul    Afghanistan  Central Asia   \n",
       "4      Corporate   Townsville        Queensland      Australia       Oceania   \n",
       "..           ...          ...               ...            ...           ...   \n",
       "210    Corporate  Mexico City  Distrito Federal         Mexico         North   \n",
       "212     Consumer      Houston             Texas  United States       Central   \n",
       "213    Corporate   Casablanca  Grand Casablanca        Morocco        Africa   \n",
       "214     Consumer  Santo André         São Paulo         Brazil         South   \n",
       "215  Home Office   Providence      Rhode Island  United States          East   \n",
       "\n",
       "    Months  \n",
       "0      Nov  \n",
       "1      Jun  \n",
       "2      Dec  \n",
       "3      May  \n",
       "4      Jul  \n",
       "..     ...  \n",
       "210    Nov  \n",
       "212    Dec  \n",
       "213    Nov  \n",
       "214    Oct  \n",
       "215    Jan  \n",
       "\n",
       "[210 rows x 21 columns]"
      ]
     },
     "execution_count": 264,
     "metadata": {},
     "output_type": "execute_result"
    }
   ],
   "source": [
    "data.drop(211,inplace=True)\n",
    "data.head(210)"
   ]
  },
  {
   "cell_type": "code",
   "execution_count": 265,
   "metadata": {},
   "outputs": [
    {
     "data": {
      "text/html": [
       "<div>\n",
       "<style scoped>\n",
       "    .dataframe tbody tr th:only-of-type {\n",
       "        vertical-align: middle;\n",
       "    }\n",
       "\n",
       "    .dataframe tbody tr th {\n",
       "        vertical-align: top;\n",
       "    }\n",
       "\n",
       "    .dataframe thead th {\n",
       "        text-align: right;\n",
       "    }\n",
       "</style>\n",
       "<table border=\"1\" class=\"dataframe\">\n",
       "  <thead>\n",
       "    <tr style=\"text-align: right;\">\n",
       "      <th></th>\n",
       "      <th>Aging</th>\n",
       "      <th>Sales</th>\n",
       "      <th>Quantity</th>\n",
       "      <th>Discount</th>\n",
       "      <th>Profit</th>\n",
       "      <th>Shipping Cost</th>\n",
       "    </tr>\n",
       "  </thead>\n",
       "  <tbody>\n",
       "    <tr>\n",
       "      <th>count</th>\n",
       "      <td>51279.000000</td>\n",
       "      <td>51279.000000</td>\n",
       "      <td>51279.000000</td>\n",
       "      <td>51279.000000</td>\n",
       "      <td>51279.000000</td>\n",
       "      <td>51279.000000</td>\n",
       "    </tr>\n",
       "    <tr>\n",
       "      <th>mean</th>\n",
       "      <td>5.255212</td>\n",
       "      <td>156.430196</td>\n",
       "      <td>2.997289</td>\n",
       "      <td>0.029971</td>\n",
       "      <td>72.724088</td>\n",
       "      <td>7.272813</td>\n",
       "    </tr>\n",
       "    <tr>\n",
       "      <th>std</th>\n",
       "      <td>2.960032</td>\n",
       "      <td>65.779671</td>\n",
       "      <td>1.413363</td>\n",
       "      <td>0.014114</td>\n",
       "      <td>49.097676</td>\n",
       "      <td>4.908448</td>\n",
       "    </tr>\n",
       "    <tr>\n",
       "      <th>min</th>\n",
       "      <td>1.000000</td>\n",
       "      <td>33.000000</td>\n",
       "      <td>1.000000</td>\n",
       "      <td>0.010000</td>\n",
       "      <td>0.500000</td>\n",
       "      <td>0.100000</td>\n",
       "    </tr>\n",
       "    <tr>\n",
       "      <th>25%</th>\n",
       "      <td>3.000000</td>\n",
       "      <td>109.000000</td>\n",
       "      <td>2.000000</td>\n",
       "      <td>0.020000</td>\n",
       "      <td>25.700000</td>\n",
       "      <td>2.600000</td>\n",
       "    </tr>\n",
       "    <tr>\n",
       "      <th>50%</th>\n",
       "      <td>5.000000</td>\n",
       "      <td>159.000000</td>\n",
       "      <td>3.000000</td>\n",
       "      <td>0.030000</td>\n",
       "      <td>67.000000</td>\n",
       "      <td>6.700000</td>\n",
       "    </tr>\n",
       "    <tr>\n",
       "      <th>75%</th>\n",
       "      <td>8.000000</td>\n",
       "      <td>218.000000</td>\n",
       "      <td>4.000000</td>\n",
       "      <td>0.040000</td>\n",
       "      <td>120.600000</td>\n",
       "      <td>12.100000</td>\n",
       "    </tr>\n",
       "    <tr>\n",
       "      <th>max</th>\n",
       "      <td>10.000000</td>\n",
       "      <td>250.000000</td>\n",
       "      <td>5.000000</td>\n",
       "      <td>0.050000</td>\n",
       "      <td>167.500000</td>\n",
       "      <td>16.800000</td>\n",
       "    </tr>\n",
       "  </tbody>\n",
       "</table>\n",
       "</div>"
      ],
      "text/plain": [
       "              Aging         Sales      Quantity      Discount        Profit  \\\n",
       "count  51279.000000  51279.000000  51279.000000  51279.000000  51279.000000   \n",
       "mean       5.255212    156.430196      2.997289      0.029971     72.724088   \n",
       "std        2.960032     65.779671      1.413363      0.014114     49.097676   \n",
       "min        1.000000     33.000000      1.000000      0.010000      0.500000   \n",
       "25%        3.000000    109.000000      2.000000      0.020000     25.700000   \n",
       "50%        5.000000    159.000000      3.000000      0.030000     67.000000   \n",
       "75%        8.000000    218.000000      4.000000      0.040000    120.600000   \n",
       "max       10.000000    250.000000      5.000000      0.050000    167.500000   \n",
       "\n",
       "       Shipping Cost  \n",
       "count   51279.000000  \n",
       "mean        7.272813  \n",
       "std         4.908448  \n",
       "min         0.100000  \n",
       "25%         2.600000  \n",
       "50%         6.700000  \n",
       "75%        12.100000  \n",
       "max        16.800000  "
      ]
     },
     "execution_count": 265,
     "metadata": {},
     "output_type": "execute_result"
    }
   ],
   "source": [
    "data.describe()"
   ]
  },
  {
   "cell_type": "code",
   "execution_count": 266,
   "metadata": {},
   "outputs": [
    {
     "data": {
      "text/html": [
       "<div>\n",
       "<style scoped>\n",
       "    .dataframe tbody tr th:only-of-type {\n",
       "        vertical-align: middle;\n",
       "    }\n",
       "\n",
       "    .dataframe tbody tr th {\n",
       "        vertical-align: top;\n",
       "    }\n",
       "\n",
       "    .dataframe thead th {\n",
       "        text-align: right;\n",
       "    }\n",
       "</style>\n",
       "<table border=\"1\" class=\"dataframe\">\n",
       "  <thead>\n",
       "    <tr style=\"text-align: right;\">\n",
       "      <th></th>\n",
       "      <th>Aging</th>\n",
       "      <th>Sales</th>\n",
       "      <th>Quantity</th>\n",
       "      <th>Discount</th>\n",
       "      <th>Profit</th>\n",
       "      <th>Shipping Cost</th>\n",
       "    </tr>\n",
       "  </thead>\n",
       "  <tbody>\n",
       "    <tr>\n",
       "      <th>Aging</th>\n",
       "      <td>1.000000</td>\n",
       "      <td>0.014841</td>\n",
       "      <td>-0.002506</td>\n",
       "      <td>0.000105</td>\n",
       "      <td>0.015276</td>\n",
       "      <td>0.015216</td>\n",
       "    </tr>\n",
       "    <tr>\n",
       "      <th>Sales</th>\n",
       "      <td>0.014841</td>\n",
       "      <td>1.000000</td>\n",
       "      <td>-0.000596</td>\n",
       "      <td>-0.007187</td>\n",
       "      <td>0.921513</td>\n",
       "      <td>0.921238</td>\n",
       "    </tr>\n",
       "    <tr>\n",
       "      <th>Quantity</th>\n",
       "      <td>-0.002506</td>\n",
       "      <td>-0.000596</td>\n",
       "      <td>1.000000</td>\n",
       "      <td>0.007045</td>\n",
       "      <td>-0.176308</td>\n",
       "      <td>-0.176670</td>\n",
       "    </tr>\n",
       "    <tr>\n",
       "      <th>Discount</th>\n",
       "      <td>0.000105</td>\n",
       "      <td>-0.007187</td>\n",
       "      <td>0.007045</td>\n",
       "      <td>1.000000</td>\n",
       "      <td>-0.118996</td>\n",
       "      <td>-0.119306</td>\n",
       "    </tr>\n",
       "    <tr>\n",
       "      <th>Profit</th>\n",
       "      <td>0.015276</td>\n",
       "      <td>0.921513</td>\n",
       "      <td>-0.176308</td>\n",
       "      <td>-0.118996</td>\n",
       "      <td>1.000000</td>\n",
       "      <td>0.999954</td>\n",
       "    </tr>\n",
       "    <tr>\n",
       "      <th>Shipping Cost</th>\n",
       "      <td>0.015216</td>\n",
       "      <td>0.921238</td>\n",
       "      <td>-0.176670</td>\n",
       "      <td>-0.119306</td>\n",
       "      <td>0.999954</td>\n",
       "      <td>1.000000</td>\n",
       "    </tr>\n",
       "  </tbody>\n",
       "</table>\n",
       "</div>"
      ],
      "text/plain": [
       "                  Aging     Sales  Quantity  Discount    Profit  Shipping Cost\n",
       "Aging          1.000000  0.014841 -0.002506  0.000105  0.015276       0.015216\n",
       "Sales          0.014841  1.000000 -0.000596 -0.007187  0.921513       0.921238\n",
       "Quantity      -0.002506 -0.000596  1.000000  0.007045 -0.176308      -0.176670\n",
       "Discount       0.000105 -0.007187  0.007045  1.000000 -0.118996      -0.119306\n",
       "Profit         0.015276  0.921513 -0.176308 -0.118996  1.000000       0.999954\n",
       "Shipping Cost  0.015216  0.921238 -0.176670 -0.119306  0.999954       1.000000"
      ]
     },
     "execution_count": 266,
     "metadata": {},
     "output_type": "execute_result"
    }
   ],
   "source": [
    "data.corr()"
   ]
  },
  {
   "cell_type": "code",
   "execution_count": 267,
   "metadata": {},
   "outputs": [
    {
     "data": {
      "image/png": "[encoded data removed]",
      "text/plain": [
       "<Figure size 432x288 with 2 Axes>"
      ]
     },
     "metadata": {
      "needs_background": "light"
     },
     "output_type": "display_data"
    }
   ],
   "source": [
    "sns.heatmap(data.corr(),annot=True)\n",
    "plt.show()"
   ]
  },
  {
   "cell_type": "code",
   "execution_count": 268,
   "metadata": {},
   "outputs": [
    {
     "data": {
      "text/html": [
       "<div>\n",
       "<style scoped>\n",
       "    .dataframe tbody tr th:only-of-type {\n",
       "        vertical-align: middle;\n",
       "    }\n",
       "\n",
       "    .dataframe tbody tr th {\n",
       "        vertical-align: top;\n",
       "    }\n",
       "\n",
       "    .dataframe thead th {\n",
       "        text-align: right;\n",
       "    }\n",
       "</style>\n",
       "<table border=\"1\" class=\"dataframe\">\n",
       "  <thead>\n",
       "    <tr style=\"text-align: right;\">\n",
       "      <th></th>\n",
       "      <th>Order ID</th>\n",
       "      <th>Ship Mode</th>\n",
       "      <th>Product Category</th>\n",
       "      <th>Product</th>\n",
       "      <th>Order Priority</th>\n",
       "      <th>Customer ID</th>\n",
       "      <th>Customer Name</th>\n",
       "      <th>Segment</th>\n",
       "      <th>City</th>\n",
       "      <th>State</th>\n",
       "      <th>Country</th>\n",
       "      <th>Region</th>\n",
       "      <th>Months</th>\n",
       "    </tr>\n",
       "  </thead>\n",
       "  <tbody>\n",
       "    <tr>\n",
       "      <th>count</th>\n",
       "      <td>51279</td>\n",
       "      <td>51279</td>\n",
       "      <td>51279</td>\n",
       "      <td>51279</td>\n",
       "      <td>51279</td>\n",
       "      <td>51279</td>\n",
       "      <td>51279</td>\n",
       "      <td>51279</td>\n",
       "      <td>51279</td>\n",
       "      <td>51279</td>\n",
       "      <td>51279</td>\n",
       "      <td>51279</td>\n",
       "      <td>51279</td>\n",
       "    </tr>\n",
       "    <tr>\n",
       "      <th>unique</th>\n",
       "      <td>51279</td>\n",
       "      <td>4</td>\n",
       "      <td>4</td>\n",
       "      <td>42</td>\n",
       "      <td>4</td>\n",
       "      <td>51279</td>\n",
       "      <td>795</td>\n",
       "      <td>3</td>\n",
       "      <td>3636</td>\n",
       "      <td>1094</td>\n",
       "      <td>147</td>\n",
       "      <td>13</td>\n",
       "      <td>12</td>\n",
       "    </tr>\n",
       "    <tr>\n",
       "      <th>top</th>\n",
       "      <td>AU-2015-1</td>\n",
       "      <td>Standard Class</td>\n",
       "      <td>Fashion</td>\n",
       "      <td>Sports Wear</td>\n",
       "      <td>Medium</td>\n",
       "      <td>LS-001</td>\n",
       "      <td>Mcclain O'Donnell</td>\n",
       "      <td>Consumer</td>\n",
       "      <td>New York City</td>\n",
       "      <td>California</td>\n",
       "      <td>United States</td>\n",
       "      <td>Central</td>\n",
       "      <td>Jul</td>\n",
       "    </tr>\n",
       "    <tr>\n",
       "      <th>freq</th>\n",
       "      <td>1</td>\n",
       "      <td>30775</td>\n",
       "      <td>30775</td>\n",
       "      <td>2827</td>\n",
       "      <td>29430</td>\n",
       "      <td>1</td>\n",
       "      <td>108</td>\n",
       "      <td>26511</td>\n",
       "      <td>915</td>\n",
       "      <td>2000</td>\n",
       "      <td>9993</td>\n",
       "      <td>11115</td>\n",
       "      <td>4445</td>\n",
       "    </tr>\n",
       "  </tbody>\n",
       "</table>\n",
       "</div>"
      ],
      "text/plain": [
       "         Order ID       Ship Mode Product Category      Product  \\\n",
       "count       51279           51279            51279        51279   \n",
       "unique      51279               4                4           42   \n",
       "top     AU-2015-1  Standard Class          Fashion  Sports Wear   \n",
       "freq            1           30775            30775         2827   \n",
       "\n",
       "       Order Priority Customer ID      Customer Name   Segment           City  \\\n",
       "count           51279       51279              51279     51279          51279   \n",
       "unique              4       51279                795         3           3636   \n",
       "top            Medium      LS-001  Mcclain O'Donnell  Consumer  New York City   \n",
       "freq            29430           1                108     26511            915   \n",
       "\n",
       "             State        Country   Region Months  \n",
       "count        51279          51279    51279  51279  \n",
       "unique        1094            147       13     12  \n",
       "top     California  United States  Central    Jul  \n",
       "freq          2000           9993    11115   4445  "
      ]
     },
     "execution_count": 268,
     "metadata": {},
     "output_type": "execute_result"
    }
   ],
   "source": [
    "data.describe(include=object)"
   ]
  },
  {
   "cell_type": "code",
   "execution_count": 269,
   "metadata": {},
   "outputs": [],
   "source": [
    "data1=data.copy()"
   ]
  },
  {
   "cell_type": "markdown",
   "metadata": {},
   "source": [
    "# Order Trend Analysis"
   ]
  },
  {
   "cell_type": "code",
   "execution_count": 270,
   "metadata": {},
   "outputs": [],
   "source": [
    "month=['Jan','Feb','Mar','Apr','May','Jun','Jul','Aug','Sep','Oct','Nov','Dec']\n",
    "month_type=CategoricalDtype(categories=month,ordered=True)\n",
    "data1[\"Months\"]=data1[\"Months\"].astype(month_type)\n"
   ]
  },
  {
   "cell_type": "code",
   "execution_count": 271,
   "metadata": {},
   "outputs": [
    {
     "data": {
      "text/plain": [
       "Months\n",
       "Jan    4365\n",
       "Feb    3876\n",
       "Mar    4412\n",
       "Apr    4172\n",
       "May    4293\n",
       "Jun    4210\n",
       "Jul    4445\n",
       "Aug    4296\n",
       "Sep    4195\n",
       "Oct    4380\n",
       "Nov    4206\n",
       "Dec    4429\n",
       "dtype: int64"
      ]
     },
     "execution_count": 271,
     "metadata": {},
     "output_type": "execute_result"
    }
   ],
   "source": [
    "monthly_order=data1.groupby(\"Months\").size()\n",
    "monthly_order"
   ]
  },
  {
   "cell_type": "code",
   "execution_count": 272,
   "metadata": {},
   "outputs": [
    {
     "data": {
      "image/png": "[encoded data removed]",
      "text/plain": [
       "<Figure size 1152x432 with 1 Axes>"
      ]
     },
     "metadata": {
      "needs_background": "light"
     },
     "output_type": "display_data"
    }
   ],
   "source": [
    "plt.figure(figsize=(16,6))\n",
    "\n",
    "ax=sns.barplot(x=monthly_order.index,y=monthly_order.values)\n",
    "ax.set_ylim(bottom=3700)\n",
    "#colors = plt.get_cmap('Set1').colors\n",
    "plt.xlabel(\"Months\")\n",
    "plt.ylabel(\"Count of order\")\n",
    "plt.title(\"Monthly orders Recieved\")\n",
    "plt.show()"
   ]
  },
  {
   "cell_type": "code",
   "execution_count": 273,
   "metadata": {},
   "outputs": [],
   "source": [
    "data1[\"day_of_week\"]=data1[\"Order Date\"].dt.day_name()"
   ]
  },
  {
   "cell_type": "code",
   "execution_count": 274,
   "metadata": {},
   "outputs": [
    {
     "data": {
      "text/html": [
       "<div>\n",
       "<style scoped>\n",
       "    .dataframe tbody tr th:only-of-type {\n",
       "        vertical-align: middle;\n",
       "    }\n",
       "\n",
       "    .dataframe tbody tr th {\n",
       "        vertical-align: top;\n",
       "    }\n",
       "\n",
       "    .dataframe thead th {\n",
       "        text-align: right;\n",
       "    }\n",
       "</style>\n",
       "<table border=\"1\" class=\"dataframe\">\n",
       "  <thead>\n",
       "    <tr style=\"text-align: right;\">\n",
       "      <th></th>\n",
       "      <th>Order ID</th>\n",
       "      <th>Order Date</th>\n",
       "      <th>Ship Date</th>\n",
       "      <th>Aging</th>\n",
       "      <th>Ship Mode</th>\n",
       "      <th>Product Category</th>\n",
       "      <th>Product</th>\n",
       "      <th>Sales</th>\n",
       "      <th>Quantity</th>\n",
       "      <th>Discount</th>\n",
       "      <th>...</th>\n",
       "      <th>Order Priority</th>\n",
       "      <th>Customer ID</th>\n",
       "      <th>Customer Name</th>\n",
       "      <th>Segment</th>\n",
       "      <th>City</th>\n",
       "      <th>State</th>\n",
       "      <th>Country</th>\n",
       "      <th>Region</th>\n",
       "      <th>Months</th>\n",
       "      <th>day_of_week</th>\n",
       "    </tr>\n",
       "  </thead>\n",
       "  <tbody>\n",
       "    <tr>\n",
       "      <th>0</th>\n",
       "      <td>AU-2015-1</td>\n",
       "      <td>2015-11-09</td>\n",
       "      <td>2015-11-17</td>\n",
       "      <td>8</td>\n",
       "      <td>First Class</td>\n",
       "      <td>Auto &amp; Accessories</td>\n",
       "      <td>Car Media Players</td>\n",
       "      <td>140.0</td>\n",
       "      <td>2</td>\n",
       "      <td>0.05</td>\n",
       "      <td>...</td>\n",
       "      <td>Medium</td>\n",
       "      <td>LS-001</td>\n",
       "      <td>Lane Daniels</td>\n",
       "      <td>Consumer</td>\n",
       "      <td>Brisbane</td>\n",
       "      <td>Queensland</td>\n",
       "      <td>Australia</td>\n",
       "      <td>Oceania</td>\n",
       "      <td>Nov</td>\n",
       "      <td>Monday</td>\n",
       "    </tr>\n",
       "    <tr>\n",
       "      <th>1</th>\n",
       "      <td>AU-2015-2</td>\n",
       "      <td>2015-06-30</td>\n",
       "      <td>2015-07-02</td>\n",
       "      <td>2</td>\n",
       "      <td>First Class</td>\n",
       "      <td>Auto &amp; Accessories</td>\n",
       "      <td>Car Speakers</td>\n",
       "      <td>211.0</td>\n",
       "      <td>3</td>\n",
       "      <td>0.03</td>\n",
       "      <td>...</td>\n",
       "      <td>Medium</td>\n",
       "      <td>IZ-002</td>\n",
       "      <td>Alvarado Kriz</td>\n",
       "      <td>Home Office</td>\n",
       "      <td>Berlin</td>\n",
       "      <td>Berlin</td>\n",
       "      <td>Germany</td>\n",
       "      <td>Central</td>\n",
       "      <td>Jun</td>\n",
       "      <td>Tuesday</td>\n",
       "    </tr>\n",
       "    <tr>\n",
       "      <th>2</th>\n",
       "      <td>AU-2015-3</td>\n",
       "      <td>2015-12-05</td>\n",
       "      <td>2015-12-13</td>\n",
       "      <td>8</td>\n",
       "      <td>First Class</td>\n",
       "      <td>Auto &amp; Accessories</td>\n",
       "      <td>Car Body Covers</td>\n",
       "      <td>117.0</td>\n",
       "      <td>5</td>\n",
       "      <td>0.01</td>\n",
       "      <td>...</td>\n",
       "      <td>Critical</td>\n",
       "      <td>EN-003</td>\n",
       "      <td>Moon Weien</td>\n",
       "      <td>Consumer</td>\n",
       "      <td>Porirua</td>\n",
       "      <td>Wellington</td>\n",
       "      <td>New Zealand</td>\n",
       "      <td>Oceania</td>\n",
       "      <td>Dec</td>\n",
       "      <td>Saturday</td>\n",
       "    </tr>\n",
       "    <tr>\n",
       "      <th>3</th>\n",
       "      <td>AU-2015-4</td>\n",
       "      <td>2015-05-09</td>\n",
       "      <td>2015-05-16</td>\n",
       "      <td>7</td>\n",
       "      <td>First Class</td>\n",
       "      <td>Auto &amp; Accessories</td>\n",
       "      <td>Car &amp; Bike Care</td>\n",
       "      <td>118.0</td>\n",
       "      <td>2</td>\n",
       "      <td>0.05</td>\n",
       "      <td>...</td>\n",
       "      <td>High</td>\n",
       "      <td>AN-004</td>\n",
       "      <td>Sanchez Bergman</td>\n",
       "      <td>Corporate</td>\n",
       "      <td>Kabul</td>\n",
       "      <td>Kabul</td>\n",
       "      <td>Afghanistan</td>\n",
       "      <td>Central Asia</td>\n",
       "      <td>May</td>\n",
       "      <td>Saturday</td>\n",
       "    </tr>\n",
       "    <tr>\n",
       "      <th>4</th>\n",
       "      <td>AU-2015-5</td>\n",
       "      <td>2015-07-09</td>\n",
       "      <td>2015-07-18</td>\n",
       "      <td>9</td>\n",
       "      <td>First Class</td>\n",
       "      <td>Auto &amp; Accessories</td>\n",
       "      <td>Tyre</td>\n",
       "      <td>250.0</td>\n",
       "      <td>1</td>\n",
       "      <td>0.04</td>\n",
       "      <td>...</td>\n",
       "      <td>Critical</td>\n",
       "      <td>ON-005</td>\n",
       "      <td>Rowe Jackson</td>\n",
       "      <td>Corporate</td>\n",
       "      <td>Townsville</td>\n",
       "      <td>Queensland</td>\n",
       "      <td>Australia</td>\n",
       "      <td>Oceania</td>\n",
       "      <td>Jul</td>\n",
       "      <td>Thursday</td>\n",
       "    </tr>\n",
       "  </tbody>\n",
       "</table>\n",
       "<p>5 rows × 22 columns</p>\n",
       "</div>"
      ],
      "text/plain": [
       "    Order ID Order Date  Ship Date  Aging    Ship Mode    Product Category  \\\n",
       "0  AU-2015-1 2015-11-09 2015-11-17      8  First Class  Auto & Accessories   \n",
       "1  AU-2015-2 2015-06-30 2015-07-02      2  First Class  Auto & Accessories   \n",
       "2  AU-2015-3 2015-12-05 2015-12-13      8  First Class  Auto & Accessories   \n",
       "3  AU-2015-4 2015-05-09 2015-05-16      7  First Class  Auto & Accessories   \n",
       "4  AU-2015-5 2015-07-09 2015-07-18      9  First Class  Auto & Accessories   \n",
       "\n",
       "             Product  Sales  Quantity  Discount  ...  Order Priority  \\\n",
       "0  Car Media Players  140.0         2      0.05  ...          Medium   \n",
       "1       Car Speakers  211.0         3      0.03  ...          Medium   \n",
       "2    Car Body Covers  117.0         5      0.01  ...        Critical   \n",
       "3    Car & Bike Care  118.0         2      0.05  ...            High   \n",
       "4               Tyre  250.0         1      0.04  ...        Critical   \n",
       "\n",
       "   Customer ID    Customer Name      Segment        City       State  \\\n",
       "0       LS-001     Lane Daniels     Consumer    Brisbane  Queensland   \n",
       "1       IZ-002    Alvarado Kriz  Home Office      Berlin      Berlin   \n",
       "2       EN-003       Moon Weien     Consumer     Porirua  Wellington   \n",
       "3       AN-004  Sanchez Bergman    Corporate       Kabul       Kabul   \n",
       "4       ON-005     Rowe Jackson    Corporate  Townsville  Queensland   \n",
       "\n",
       "       Country        Region Months day_of_week  \n",
       "0    Australia       Oceania    Nov      Monday  \n",
       "1      Germany       Central    Jun     Tuesday  \n",
       "2  New Zealand       Oceania    Dec    Saturday  \n",
       "3  Afghanistan  Central Asia    May    Saturday  \n",
       "4    Australia       Oceania    Jul    Thursday  \n",
       "\n",
       "[5 rows x 22 columns]"
      ]
     },
     "execution_count": 274,
     "metadata": {},
     "output_type": "execute_result"
    }
   ],
   "source": [
    "data1.head()"
   ]
  },
  {
   "cell_type": "code",
   "execution_count": 275,
   "metadata": {},
   "outputs": [
    {
     "data": {
      "text/plain": [
       "day_of_week\n",
       "Friday       7229\n",
       "Monday       7258\n",
       "Saturday     7252\n",
       "Sunday       7359\n",
       "Thursday     7433\n",
       "Tuesday      7332\n",
       "Wednesday    7416\n",
       "dtype: int64"
      ]
     },
     "execution_count": 275,
     "metadata": {},
     "output_type": "execute_result"
    }
   ],
   "source": [
    "data1.groupby(\"day_of_week\").size()"
   ]
  },
  {
   "cell_type": "code",
   "execution_count": 276,
   "metadata": {},
   "outputs": [],
   "source": [
    "days=[\"Sunday\",\"Monday\",\"Tuesday\",\"Wednesday\",\"Thursday\",\"Friday\",\"Saturday\"]\n",
    "cat_type = CategoricalDtype(categories=days, ordered=True)\n",
    "\n",
    "data1['day_of_week'] = data1['day_of_week'].astype(cat_type)\n",
    "\n",
    "Weekly_order=data1.groupby(\"day_of_week\").size()"
   ]
  },
  {
   "cell_type": "code",
   "execution_count": 277,
   "metadata": {},
   "outputs": [
    {
     "data": {
      "image/png": "[encoded data removed]",
      "text/plain": [
       "<Figure size 1152x432 with 1 Axes>"
      ]
     },
     "metadata": {
      "needs_background": "light"
     },
     "output_type": "display_data"
    }
   ],
   "source": [
    "plt.figure(figsize=(16,6))\n",
    "ax=sns.barplot(x=Weekly_order.index,y=Weekly_order.values)\n",
    "ax.set_ylim(bottom=7000)\n",
    "plt.ylabel(\"count of orders\")\n",
    "plt.title(\"order recieved on different days\")\n",
    "plt.show()"
   ]
  },
  {
   "cell_type": "code",
   "execution_count": 278,
   "metadata": {},
   "outputs": [],
   "source": [
    "data1[\"days\"]=data1['Order Date'].dt.day"
   ]
  },
  {
   "cell_type": "code",
   "execution_count": 279,
   "metadata": {},
   "outputs": [
    {
     "data": {
      "text/html": [
       "<div>\n",
       "<style scoped>\n",
       "    .dataframe tbody tr th:only-of-type {\n",
       "        vertical-align: middle;\n",
       "    }\n",
       "\n",
       "    .dataframe tbody tr th {\n",
       "        vertical-align: top;\n",
       "    }\n",
       "\n",
       "    .dataframe thead th {\n",
       "        text-align: right;\n",
       "    }\n",
       "</style>\n",
       "<table border=\"1\" class=\"dataframe\">\n",
       "  <thead>\n",
       "    <tr style=\"text-align: right;\">\n",
       "      <th></th>\n",
       "      <th>Order ID</th>\n",
       "      <th>Order Date</th>\n",
       "      <th>Ship Date</th>\n",
       "      <th>Aging</th>\n",
       "      <th>Ship Mode</th>\n",
       "      <th>Product Category</th>\n",
       "      <th>Product</th>\n",
       "      <th>Sales</th>\n",
       "      <th>Quantity</th>\n",
       "      <th>Discount</th>\n",
       "      <th>...</th>\n",
       "      <th>Customer ID</th>\n",
       "      <th>Customer Name</th>\n",
       "      <th>Segment</th>\n",
       "      <th>City</th>\n",
       "      <th>State</th>\n",
       "      <th>Country</th>\n",
       "      <th>Region</th>\n",
       "      <th>Months</th>\n",
       "      <th>day_of_week</th>\n",
       "      <th>days</th>\n",
       "    </tr>\n",
       "  </thead>\n",
       "  <tbody>\n",
       "    <tr>\n",
       "      <th>0</th>\n",
       "      <td>AU-2015-1</td>\n",
       "      <td>2015-11-09</td>\n",
       "      <td>2015-11-17</td>\n",
       "      <td>8</td>\n",
       "      <td>First Class</td>\n",
       "      <td>Auto &amp; Accessories</td>\n",
       "      <td>Car Media Players</td>\n",
       "      <td>140.0</td>\n",
       "      <td>2</td>\n",
       "      <td>0.05</td>\n",
       "      <td>...</td>\n",
       "      <td>LS-001</td>\n",
       "      <td>Lane Daniels</td>\n",
       "      <td>Consumer</td>\n",
       "      <td>Brisbane</td>\n",
       "      <td>Queensland</td>\n",
       "      <td>Australia</td>\n",
       "      <td>Oceania</td>\n",
       "      <td>Nov</td>\n",
       "      <td>Monday</td>\n",
       "      <td>9</td>\n",
       "    </tr>\n",
       "    <tr>\n",
       "      <th>1</th>\n",
       "      <td>AU-2015-2</td>\n",
       "      <td>2015-06-30</td>\n",
       "      <td>2015-07-02</td>\n",
       "      <td>2</td>\n",
       "      <td>First Class</td>\n",
       "      <td>Auto &amp; Accessories</td>\n",
       "      <td>Car Speakers</td>\n",
       "      <td>211.0</td>\n",
       "      <td>3</td>\n",
       "      <td>0.03</td>\n",
       "      <td>...</td>\n",
       "      <td>IZ-002</td>\n",
       "      <td>Alvarado Kriz</td>\n",
       "      <td>Home Office</td>\n",
       "      <td>Berlin</td>\n",
       "      <td>Berlin</td>\n",
       "      <td>Germany</td>\n",
       "      <td>Central</td>\n",
       "      <td>Jun</td>\n",
       "      <td>Tuesday</td>\n",
       "      <td>30</td>\n",
       "    </tr>\n",
       "    <tr>\n",
       "      <th>2</th>\n",
       "      <td>AU-2015-3</td>\n",
       "      <td>2015-12-05</td>\n",
       "      <td>2015-12-13</td>\n",
       "      <td>8</td>\n",
       "      <td>First Class</td>\n",
       "      <td>Auto &amp; Accessories</td>\n",
       "      <td>Car Body Covers</td>\n",
       "      <td>117.0</td>\n",
       "      <td>5</td>\n",
       "      <td>0.01</td>\n",
       "      <td>...</td>\n",
       "      <td>EN-003</td>\n",
       "      <td>Moon Weien</td>\n",
       "      <td>Consumer</td>\n",
       "      <td>Porirua</td>\n",
       "      <td>Wellington</td>\n",
       "      <td>New Zealand</td>\n",
       "      <td>Oceania</td>\n",
       "      <td>Dec</td>\n",
       "      <td>Saturday</td>\n",
       "      <td>5</td>\n",
       "    </tr>\n",
       "    <tr>\n",
       "      <th>3</th>\n",
       "      <td>AU-2015-4</td>\n",
       "      <td>2015-05-09</td>\n",
       "      <td>2015-05-16</td>\n",
       "      <td>7</td>\n",
       "      <td>First Class</td>\n",
       "      <td>Auto &amp; Accessories</td>\n",
       "      <td>Car &amp; Bike Care</td>\n",
       "      <td>118.0</td>\n",
       "      <td>2</td>\n",
       "      <td>0.05</td>\n",
       "      <td>...</td>\n",
       "      <td>AN-004</td>\n",
       "      <td>Sanchez Bergman</td>\n",
       "      <td>Corporate</td>\n",
       "      <td>Kabul</td>\n",
       "      <td>Kabul</td>\n",
       "      <td>Afghanistan</td>\n",
       "      <td>Central Asia</td>\n",
       "      <td>May</td>\n",
       "      <td>Saturday</td>\n",
       "      <td>9</td>\n",
       "    </tr>\n",
       "    <tr>\n",
       "      <th>4</th>\n",
       "      <td>AU-2015-5</td>\n",
       "      <td>2015-07-09</td>\n",
       "      <td>2015-07-18</td>\n",
       "      <td>9</td>\n",
       "      <td>First Class</td>\n",
       "      <td>Auto &amp; Accessories</td>\n",
       "      <td>Tyre</td>\n",
       "      <td>250.0</td>\n",
       "      <td>1</td>\n",
       "      <td>0.04</td>\n",
       "      <td>...</td>\n",
       "      <td>ON-005</td>\n",
       "      <td>Rowe Jackson</td>\n",
       "      <td>Corporate</td>\n",
       "      <td>Townsville</td>\n",
       "      <td>Queensland</td>\n",
       "      <td>Australia</td>\n",
       "      <td>Oceania</td>\n",
       "      <td>Jul</td>\n",
       "      <td>Thursday</td>\n",
       "      <td>9</td>\n",
       "    </tr>\n",
       "  </tbody>\n",
       "</table>\n",
       "<p>5 rows × 23 columns</p>\n",
       "</div>"
      ],
      "text/plain": [
       "    Order ID Order Date  Ship Date  Aging    Ship Mode    Product Category  \\\n",
       "0  AU-2015-1 2015-11-09 2015-11-17      8  First Class  Auto & Accessories   \n",
       "1  AU-2015-2 2015-06-30 2015-07-02      2  First Class  Auto & Accessories   \n",
       "2  AU-2015-3 2015-12-05 2015-12-13      8  First Class  Auto & Accessories   \n",
       "3  AU-2015-4 2015-05-09 2015-05-16      7  First Class  Auto & Accessories   \n",
       "4  AU-2015-5 2015-07-09 2015-07-18      9  First Class  Auto & Accessories   \n",
       "\n",
       "             Product  Sales  Quantity  Discount  ...  Customer ID  \\\n",
       "0  Car Media Players  140.0         2      0.05  ...       LS-001   \n",
       "1       Car Speakers  211.0         3      0.03  ...       IZ-002   \n",
       "2    Car Body Covers  117.0         5      0.01  ...       EN-003   \n",
       "3    Car & Bike Care  118.0         2      0.05  ...       AN-004   \n",
       "4               Tyre  250.0         1      0.04  ...       ON-005   \n",
       "\n",
       "     Customer Name      Segment        City       State      Country  \\\n",
       "0     Lane Daniels     Consumer    Brisbane  Queensland    Australia   \n",
       "1    Alvarado Kriz  Home Office      Berlin      Berlin      Germany   \n",
       "2       Moon Weien     Consumer     Porirua  Wellington  New Zealand   \n",
       "3  Sanchez Bergman    Corporate       Kabul       Kabul  Afghanistan   \n",
       "4     Rowe Jackson    Corporate  Townsville  Queensland    Australia   \n",
       "\n",
       "         Region Months day_of_week days  \n",
       "0       Oceania    Nov      Monday    9  \n",
       "1       Central    Jun     Tuesday   30  \n",
       "2       Oceania    Dec    Saturday    5  \n",
       "3  Central Asia    May    Saturday    9  \n",
       "4       Oceania    Jul    Thursday    9  \n",
       "\n",
       "[5 rows x 23 columns]"
      ]
     },
     "execution_count": 279,
     "metadata": {},
     "output_type": "execute_result"
    }
   ],
   "source": [
    "data1.head()"
   ]
  },
  {
   "cell_type": "code",
   "execution_count": 280,
   "metadata": {},
   "outputs": [],
   "source": [
    "daily_order=data1.groupby(\"days\").size()"
   ]
  },
  {
   "cell_type": "code",
   "execution_count": 281,
   "metadata": {},
   "outputs": [
    {
     "data": {
      "image/png": "[encoded data removed]",
      "text/plain": [
       "<Figure size 1152x432 with 1 Axes>"
      ]
     },
     "metadata": {
      "needs_background": "light"
     },
     "output_type": "display_data"
    }
   ],
   "source": [
    "plt.figure(figsize=(16,6))\n",
    "ax=sns.barplot(x=daily_order.index,y=daily_order.values)\n",
    "ax.set_ylim(bottom=850)\n",
    "plt.title(\"Order recieved on different dates of monnth\")\n",
    "plt.show()"
   ]
  },
  {
   "cell_type": "markdown",
   "metadata": {},
   "source": [
    "### Inference:\n",
    "The reduction in order on 31 st may be as 31st is not there in every month<br>\n",
    "Towards the end of month we see a reduction in order tendency may be because of the end of month and less money to spend.<br>\n",
    "Also month of feb doesnt have last 3 days affect of  which should also be included\n"
   ]
  },
  {
   "cell_type": "markdown",
   "metadata": {},
   "source": [
    "# Shipping Analysis"
   ]
  },
  {
   "cell_type": "code",
   "execution_count": 282,
   "metadata": {},
   "outputs": [
    {
     "data": {
      "image/png": "[encoded data removed]",
      "text/plain": [
       "<Figure size 432x288 with 1 Axes>"
      ]
     },
     "metadata": {},
     "output_type": "display_data"
    }
   ],
   "source": [
    "#understanding the shipping mode of the order   \n",
    "plt.pie(x=data[\"Ship Mode\"].value_counts(),autopct='%.0f%%',radius=1.1, labeldistance=1.1,labels=data[\"Ship Mode\"].value_counts().index)\n",
    "plt.title(\"Distribution of Modes of Shipping done for Orders\")\n",
    "plt.show()"
   ]
  },
  {
   "cell_type": "code",
   "execution_count": 283,
   "metadata": {},
   "outputs": [],
   "source": [
    "shipping_Cost=data1.groupby(\"Ship Mode\")[\"Shipping Cost\"].median()"
   ]
  },
  {
   "cell_type": "code",
   "execution_count": 284,
   "metadata": {},
   "outputs": [
    {
     "data": {
      "text/plain": [
       "Ship Mode\n",
       "First Class       3.6\n",
       "Same Day          4.7\n",
       "Second Class      3.7\n",
       "Standard Class    9.2\n",
       "Name: Shipping Cost, dtype: float64"
      ]
     },
     "execution_count": 284,
     "metadata": {},
     "output_type": "execute_result"
    }
   ],
   "source": [
    "shipping_Cost\n"
   ]
  },
  {
   "cell_type": "code",
   "execution_count": 285,
   "metadata": {},
   "outputs": [
    {
     "data": {
      "image/png": "[encoded data removed]",
      "text/plain": [
       "<Figure size 432x288 with 1 Axes>"
      ]
     },
     "metadata": {
      "needs_background": "light"
     },
     "output_type": "display_data"
    }
   ],
   "source": [
    "sns.barplot(x=shipping_Cost.index,y=shipping_Cost.values)\n",
    "plt.title(\"Average expenditure on different modes of Shipping\")\n",
    "plt.show()"
   ]
  },
  {
   "cell_type": "markdown",
   "metadata": {},
   "source": [
    "# inference\n",
    "From the data it can be seen the mean spending of standard class is highest and also it accounts for about 60 percent total order booking."
   ]
  },
  {
   "cell_type": "code",
   "execution_count": 286,
   "metadata": {},
   "outputs": [
    {
     "data": {
      "image/png": "[encoded data removed]",
      "text/plain": [
       "<Figure size 432x288 with 1 Axes>"
      ]
     },
     "metadata": {
      "needs_background": "light"
     },
     "output_type": "display_data"
    }
   ],
   "source": [
    "sns.boxplot(data1,x='Product Category',y='Shipping Cost')\n",
    "plt.show()"
   ]
  },
  {
   "cell_type": "markdown",
   "metadata": {},
   "source": [
    "# inference \n",
    "From the above analysis we can see that mean shipping cost for fashiop product is relatively high almost double other categories"
   ]
  },
  {
   "cell_type": "code",
   "execution_count": 287,
   "metadata": {},
   "outputs": [
    {
     "data": {
      "image/png": "[encoded data removed]",
      "text/plain": [
       "<Figure size 432x288 with 1 Axes>"
      ]
     },
     "metadata": {
      "needs_background": "light"
     },
     "output_type": "display_data"
    }
   ],
   "source": [
    "sns.boxplot(data1,x='Product Category',y='Aging')\n",
    "plt.show()"
   ]
  },
  {
   "cell_type": "code",
   "execution_count": 288,
   "metadata": {},
   "outputs": [
    {
     "data": {
      "text/plain": [
       "Product Category\n",
       "Auto & Accessories    6.0\n",
       "Electronic            1.0\n",
       "Fashion               5.0\n",
       "Home & Furniture      5.0\n",
       "Name: Aging, dtype: float64"
      ]
     },
     "execution_count": 288,
     "metadata": {},
     "output_type": "execute_result"
    }
   ],
   "source": [
    "data1.groupby('Product Category')['Aging'].median()"
   ]
  },
  {
   "cell_type": "code",
   "execution_count": 289,
   "metadata": {},
   "outputs": [
    {
     "name": "stdout",
     "output_type": "stream",
     "text": [
      "<class 'pandas.core.frame.DataFrame'>\n",
      "Int64Index: 51279 entries, 0 to 51289\n",
      "Data columns (total 23 columns):\n",
      " #   Column            Non-Null Count  Dtype         \n",
      "---  ------            --------------  -----         \n",
      " 0   Order ID          51279 non-null  object        \n",
      " 1   Order Date        51279 non-null  datetime64[ns]\n",
      " 2   Ship Date         51279 non-null  datetime64[ns]\n",
      " 3   Aging             51279 non-null  int32         \n",
      " 4   Ship Mode         51279 non-null  object        \n",
      " 5   Product Category  51279 non-null  object        \n",
      " 6   Product           51279 non-null  object        \n",
      " 7   Sales             51279 non-null  float64       \n",
      " 8   Quantity          51279 non-null  int32         \n",
      " 9   Discount          51279 non-null  float64       \n",
      " 10  Profit            51279 non-null  float64       \n",
      " 11  Shipping Cost     51279 non-null  float64       \n",
      " 12  Order Priority    51279 non-null  object        \n",
      " 13  Customer ID       51279 non-null  object        \n",
      " 14  Customer Name     51279 non-null  object        \n",
      " 15  Segment           51279 non-null  object        \n",
      " 16  City              51279 non-null  object        \n",
      " 17  State             51279 non-null  object        \n",
      " 18  Country           51279 non-null  object        \n",
      " 19  Region            51279 non-null  object        \n",
      " 20  Months            51279 non-null  category      \n",
      " 21  day_of_week       51279 non-null  category      \n",
      " 22  days              51279 non-null  int64         \n",
      "dtypes: category(2), datetime64[ns](2), float64(4), int32(2), int64(1), object(12)\n",
      "memory usage: 10.3+ MB\n"
     ]
    }
   ],
   "source": [
    "data1.info()"
   ]
  },
  {
   "cell_type": "markdown",
   "metadata": {},
   "source": [
    "# Inference: \n",
    "From the graphs and data it can be infered that the all the electronic items are shipped within a day while for other item avg is 5-6 days"
   ]
  },
  {
   "cell_type": "code",
   "execution_count": 290,
   "metadata": {},
   "outputs": [
    {
     "data": {
      "text/plain": [
       "Product\n",
       "Apple Laptop              14.958824\n",
       "Tyre                      14.827048\n",
       "T - Shirts                14.592484\n",
       "Car Pillow & Neck Rest    13.004710\n",
       "Towels                    12.758852\n",
       "Titak watch               12.710054\n",
       "Running Shoes             12.395707\n",
       "Iron                      12.150679\n",
       "Samsung Mobile            12.018552\n",
       "Jeans                     11.872942\n",
       "Name: Shipping Cost, dtype: float64"
      ]
     },
     "execution_count": 290,
     "metadata": {},
     "output_type": "execute_result"
    }
   ],
   "source": [
    "Top_10_highest_shipping_cost=data1.groupby('Product')['Shipping Cost'].mean().sort_values(ascending=False)[0:10]\n",
    "Top_10_highest_shipping_cost"
   ]
  },
  {
   "cell_type": "code",
   "execution_count": 291,
   "metadata": {},
   "outputs": [
    {
     "data": {
      "image/png": "[encoded data removed]",
      "text/plain": [
       "<Figure size 1152x432 with 1 Axes>"
      ]
     },
     "metadata": {
      "needs_background": "light"
     },
     "output_type": "display_data"
    }
   ],
   "source": [
    "plt.figure(figsize=(16,6))\n",
    "plt.title(\"Top 10 Products whith highest shipping cost\")\n",
    "sns.barplot(x=Top_10_highest_shipping_cost.index,y=Top_10_highest_shipping_cost.values)\n",
    "plt.show()"
   ]
  },
  {
   "cell_type": "markdown",
   "metadata": {},
   "source": [
    "# Sales Analysis"
   ]
  },
  {
   "cell_type": "code",
   "execution_count": 292,
   "metadata": {},
   "outputs": [
    {
     "data": {
      "text/plain": [
       "Product Category\n",
       "Fashion               92071\n",
       "Home & Furniture      31055\n",
       "Auto & Accessories    22361\n",
       "Electronic             8211\n",
       "Name: Quantity, dtype: int32"
      ]
     },
     "execution_count": 292,
     "metadata": {},
     "output_type": "execute_result"
    }
   ],
   "source": [
    "data1.groupby('Product Category')['Quantity'].sum().sort_values(ascending=False)"
   ]
  },
  {
   "cell_type": "code",
   "execution_count": 293,
   "metadata": {},
   "outputs": [
    {
     "data": {
      "text/plain": [
       "Product\n",
       "Titak watch               8535\n",
       "Sports Wear               8512\n",
       "Formal Shoes              8438\n",
       "Casula Shoes              8436\n",
       "Sneakers                  8353\n",
       "T - Shirts                8346\n",
       "Running Shoes             8345\n",
       "Fossil Watch              8308\n",
       "Suits                     8295\n",
       "Jeans                     8266\n",
       "Shirts                    8237\n",
       "Beds                      3142\n",
       "Sofa Covers               3140\n",
       "Dinning Tables            3140\n",
       "Sofas                     3126\n",
       "Dinner Crockery           3125\n",
       "Towels                    3124\n",
       "Shoe Rack                 3076\n",
       "Curtains                  3070\n",
       "Bed Sheets                3068\n",
       "Umbrellas                 3044\n",
       "Tyre                      2640\n",
       "Car Body Covers           2553\n",
       "Car Speakers              2528\n",
       "Car Pillow & Neck Rest    2489\n",
       "Bike Tyres                2480\n",
       "Car Mat                   2469\n",
       "Car & Bike Care           2438\n",
       "Car Seat Covers           2385\n",
       "Car Media Players         2379\n",
       "Speakers                   789\n",
       "LED                        706\n",
       "LCD                        703\n",
       "Mixer/Juicer               702\n",
       "Samsung Mobile             685\n",
       "Fans                       683\n",
       "Watch                      674\n",
       "Keyboard                   671\n",
       "Tablet                     666\n",
       "Mouse                      651\n",
       "Iron                       649\n",
       "Apple Laptop               632\n",
       "Name: Quantity, dtype: int32"
      ]
     },
     "execution_count": 293,
     "metadata": {},
     "output_type": "execute_result"
    }
   ],
   "source": [
    "#top 10 most selling products \n",
    "prod_quantity=data1.groupby('Product')['Quantity'].sum().sort_values(ascending=False)\n",
    "prod_quantity"
   ]
  },
  {
   "cell_type": "code",
   "execution_count": 294,
   "metadata": {
    "scrolled": false
   },
   "outputs": [
    {
     "data": {
      "application/vnd.plotly.v1+json": {
       "config": {
        "plotlyServerURL": "https://plot.ly"
       },
       "data": [
        {
         "branchvalues": "total",
         "domain": {
          "x": [
           0,
           1
          ],
          "y": [
           0,
           1
          ]
         },
         "hovertemplate": "labels=%{label}<br>Quantity=%{value}<br>parent=%{parent}<br>id=%{id}<extra></extra>",
         "ids": [
          "All Products/Electronic/Apple Laptop",
          "All Products/Home & Furniture/Bed Sheets",
          "All Products/Home & Furniture/Beds",
          "All Products/Auto & Accessories/Bike Tyres",
          "All Products/Auto & Accessories/Car & Bike Care",
          "All Products/Auto & Accessories/Car Body Covers",
          "All Products/Auto & Accessories/Car Mat",
          "All Products/Auto & Accessories/Car Media Players",
          "All Products/Auto & Accessories/Car Pillow & Neck Rest",
          "All Products/Auto & Accessories/Car Seat Covers",
          "All Products/Auto & Accessories/Car Speakers",
          "All Products/Fashion/Casula Shoes",
          "All Products/Home & Furniture/Curtains",
          "All Products/Home & Furniture/Dinner Crockery",
          "All Products/Home & Furniture/Dinning Tables",
          "All Products/Electronic/Fans",
          "All Products/Fashion/Formal Shoes",
          "All Products/Fashion/Fossil Watch",
          "All Products/Electronic/Iron",
          "All Products/Fashion/Jeans",
          "All Products/Electronic/Keyboard",
          "All Products/Electronic/LCD",
          "All Products/Electronic/LED",
          "All Products/Electronic/Mixer/Juicer",
          "All Products/Electronic/Mouse",
          "All Products/Fashion/Running Shoes",
          "All Products/Electronic/Samsung Mobile",
          "All Products/Fashion/Shirts",
          "All Products/Home & Furniture/Shoe Rack",
          "All Products/Fashion/Sneakers",
          "All Products/Home & Furniture/Sofa Covers",
          "All Products/Home & Furniture/Sofas",
          "All Products/Electronic/Speakers",
          "All Products/Fashion/Sports Wear",
          "All Products/Fashion/Suits",
          "All Products/Fashion/T - Shirts",
          "All Products/Electronic/Tablet",
          "All Products/Fashion/Titak watch",
          "All Products/Home & Furniture/Towels",
          "All Products/Auto & Accessories/Tyre",
          "All Products/Home & Furniture/Umbrellas",
          "All Products/Electronic/Watch",
          "All Products/Auto & Accessories",
          "All Products/Electronic",
          "All Products/Fashion",
          "All Products/Home & Furniture",
          "All Products"
         ],
         "labels": [
          "Apple Laptop",
          "Bed Sheets",
          "Beds",
          "Bike Tyres",
          "Car & Bike Care",
          "Car Body Covers",
          "Car Mat",
          "Car Media Players",
          "Car Pillow & Neck Rest",
          "Car Seat Covers",
          "Car Speakers",
          "Casula Shoes",
          "Curtains",
          "Dinner Crockery",
          "Dinning Tables",
          "Fans",
          "Formal Shoes",
          "Fossil Watch",
          "Iron",
          "Jeans",
          "Keyboard",
          "LCD",
          "LED",
          "Mixer/Juicer",
          "Mouse",
          "Running Shoes",
          "Samsung Mobile",
          "Shirts",
          "Shoe Rack",
          "Sneakers",
          "Sofa Covers",
          "Sofas",
          "Speakers",
          "Sports Wear",
          "Suits",
          "T - Shirts",
          "Tablet",
          "Titak watch",
          "Towels",
          "Tyre",
          "Umbrellas",
          "Watch",
          "Auto & Accessories",
          "Electronic",
          "Fashion",
          "Home & Furniture",
          "All Products"
         ],
         "name": "",
         "parents": [
          "All Products/Electronic",
          "All Products/Home & Furniture",
          "All Products/Home & Furniture",
          "All Products/Auto & Accessories",
          "All Products/Auto & Accessories",
          "All Products/Auto & Accessories",
          "All Products/Auto & Accessories",
          "All Products/Auto & Accessories",
          "All Products/Auto & Accessories",
          "All Products/Auto & Accessories",
          "All Products/Auto & Accessories",
          "All Products/Fashion",
          "All Products/Home & Furniture",
          "All Products/Home & Furniture",
          "All Products/Home & Furniture",
          "All Products/Electronic",
          "All Products/Fashion",
          "All Products/Fashion",
          "All Products/Electronic",
          "All Products/Fashion",
          "All Products/Electronic",
          "All Products/Electronic",
          "All Products/Electronic",
          "All Products/Electronic",
          "All Products/Electronic",
          "All Products/Fashion",
          "All Products/Electronic",
          "All Products/Fashion",
          "All Products/Home & Furniture",
          "All Products/Fashion",
          "All Products/Home & Furniture",
          "All Products/Home & Furniture",
          "All Products/Electronic",
          "All Products/Fashion",
          "All Products/Fashion",
          "All Products/Fashion",
          "All Products/Electronic",
          "All Products/Fashion",
          "All Products/Home & Furniture",
          "All Products/Auto & Accessories",
          "All Products/Home & Furniture",
          "All Products/Electronic",
          "All Products",
          "All Products",
          "All Products",
          "All Products",
          ""
         ],
         "type": "treemap",
         "values": [
          632,
          3068,
          3142,
          2480,
          2438,
          2553,
          2469,
          2379,
          2489,
          2385,
          2528,
          8436,
          3070,
          3125,
          3140,
          683,
          8438,
          8308,
          649,
          8266,
          671,
          703,
          706,
          702,
          651,
          8345,
          685,
          8237,
          3076,
          8353,
          3140,
          3126,
          789,
          8512,
          8295,
          8346,
          666,
          8535,
          3124,
          2640,
          3044,
          674,
          22361,
          8211,
          92071,
          31055,
          153698
         ]
        }
       ],
       "layout": {
        "legend": {
         "tracegroupgap": 0
        },
        "margin": {
         "t": 60
        },
        "template": {
         "data": {
          "bar": [
           {
            "error_x": {
             "color": "#2a3f5f"
            },
            "error_y": {
             "color": "#2a3f5f"
            },
            "marker": {
             "line": {
              "color": "#E5ECF6",
              "width": 0.5
             },
             "pattern": {
              "fillmode": "overlay",
              "size": 10,
              "solidity": 0.2
             }
            },
            "type": "bar"
           }
          ],
          "barpolar": [
           {
            "marker": {
             "line": {
              "color": "#E5ECF6",
              "width": 0.5
             },
             "pattern": {
              "fillmode": "overlay",
              "size": 10,
              "solidity": 0.2
             }
            },
            "type": "barpolar"
           }
          ],
          "carpet": [
           {
            "aaxis": {
             "endlinecolor": "#2a3f5f",
             "gridcolor": "white",
             "linecolor": "white",
             "minorgridcolor": "white",
             "startlinecolor": "#2a3f5f"
            },
            "baxis": {
             "endlinecolor": "#2a3f5f",
             "gridcolor": "white",
             "linecolor": "white",
             "minorgridcolor": "white",
             "startlinecolor": "#2a3f5f"
            },
            "type": "carpet"
           }
          ],
          "choropleth": [
           {
            "colorbar": {
             "outlinewidth": 0,
             "ticks": ""
            },
            "type": "choropleth"
           }
          ],
          "contour": [
           {
            "colorbar": {
             "outlinewidth": 0,
             "ticks": ""
            },
            "colorscale": [
             [
              0,
              "#0d0887"
             ],
             [
              0.1111111111111111,
              "#46039f"
             ],
             [
              0.2222222222222222,
              "#7201a8"
             ],
             [
              0.3333333333333333,
              "#9c179e"
             ],
             [
              0.4444444444444444,
              "#bd3786"
             ],
             [
              0.5555555555555556,
              "#d8576b"
             ],
             [
              0.6666666666666666,
              "#ed7953"
             ],
             [
              0.7777777777777778,
              "#fb9f3a"
             ],
             [
              0.8888888888888888,
              "#fdca26"
             ],
             [
              1,
              "#f0f921"
             ]
            ],
            "type": "contour"
           }
          ],
          "contourcarpet": [
           {
            "colorbar": {
             "outlinewidth": 0,
             "ticks": ""
            },
            "type": "contourcarpet"
           }
          ],
          "heatmap": [
           {
            "colorbar": {
             "outlinewidth": 0,
             "ticks": ""
            },
            "colorscale": [
             [
              0,
              "#0d0887"
             ],
             [
              0.1111111111111111,
              "#46039f"
             ],
             [
              0.2222222222222222,
              "#7201a8"
             ],
             [
              0.3333333333333333,
              "#9c179e"
             ],
             [
              0.4444444444444444,
              "#bd3786"
             ],
             [
              0.5555555555555556,
              "#d8576b"
             ],
             [
              0.6666666666666666,
              "#ed7953"
             ],
             [
              0.7777777777777778,
              "#fb9f3a"
             ],
             [
              0.8888888888888888,
              "#fdca26"
             ],
             [
              1,
              "#f0f921"
             ]
            ],
            "type": "heatmap"
           }
          ],
          "heatmapgl": [
           {
            "colorbar": {
             "outlinewidth": 0,
             "ticks": ""
            },
            "colorscale": [
             [
              0,
              "#0d0887"
             ],
             [
              0.1111111111111111,
              "#46039f"
             ],
             [
              0.2222222222222222,
              "#7201a8"
             ],
             [
              0.3333333333333333,
              "#9c179e"
             ],
             [
              0.4444444444444444,
              "#bd3786"
             ],
             [
              0.5555555555555556,
              "#d8576b"
             ],
             [
              0.6666666666666666,
              "#ed7953"
             ],
             [
              0.7777777777777778,
              "#fb9f3a"
             ],
             [
              0.8888888888888888,
              "#fdca26"
             ],
             [
              1,
              "#f0f921"
             ]
            ],
            "type": "heatmapgl"
           }
          ],
          "histogram": [
           {
            "marker": {
             "pattern": {
              "fillmode": "overlay",
              "size": 10,
              "solidity": 0.2
             }
            },
            "type": "histogram"
           }
          ],
          "histogram2d": [
           {
            "colorbar": {
             "outlinewidth": 0,
             "ticks": ""
            },
            "colorscale": [
             [
              0,
              "#0d0887"
             ],
             [
              0.1111111111111111,
              "#46039f"
             ],
             [
              0.2222222222222222,
              "#7201a8"
             ],
             [
              0.3333333333333333,
              "#9c179e"
             ],
             [
              0.4444444444444444,
              "#bd3786"
             ],
             [
              0.5555555555555556,
              "#d8576b"
             ],
             [
              0.6666666666666666,
              "#ed7953"
             ],
             [
              0.7777777777777778,
              "#fb9f3a"
             ],
             [
              0.8888888888888888,
              "#fdca26"
             ],
             [
              1,
              "#f0f921"
             ]
            ],
            "type": "histogram2d"
           }
          ],
          "histogram2dcontour": [
           {
            "colorbar": {
             "outlinewidth": 0,
             "ticks": ""
            },
            "colorscale": [
             [
              0,
              "#0d0887"
             ],
             [
              0.1111111111111111,
              "#46039f"
             ],
             [
              0.2222222222222222,
              "#7201a8"
             ],
             [
              0.3333333333333333,
              "#9c179e"
             ],
             [
              0.4444444444444444,
              "#bd3786"
             ],
             [
              0.5555555555555556,
              "#d8576b"
             ],
             [
              0.6666666666666666,
              "#ed7953"
             ],
             [
              0.7777777777777778,
              "#fb9f3a"
             ],
             [
              0.8888888888888888,
              "#fdca26"
             ],
             [
              1,
              "#f0f921"
             ]
            ],
            "type": "histogram2dcontour"
           }
          ],
          "mesh3d": [
           {
            "colorbar": {
             "outlinewidth": 0,
             "ticks": ""
            },
            "type": "mesh3d"
           }
          ],
          "parcoords": [
           {
            "line": {
             "colorbar": {
              "outlinewidth": 0,
              "ticks": ""
             }
            },
            "type": "parcoords"
           }
          ],
          "pie": [
           {
            "automargin": true,
            "type": "pie"
           }
          ],
          "scatter": [
           {
            "fillpattern": {
             "fillmode": "overlay",
             "size": 10,
             "solidity": 0.2
            },
            "type": "scatter"
           }
          ],
          "scatter3d": [
           {
            "line": {
             "colorbar": {
              "outlinewidth": 0,
              "ticks": ""
             }
            },
            "marker": {
             "colorbar": {
              "outlinewidth": 0,
              "ticks": ""
             }
            },
            "type": "scatter3d"
           }
          ],
          "scattercarpet": [
           {
            "marker": {
             "colorbar": {
              "outlinewidth": 0,
              "ticks": ""
             }
            },
            "type": "scattercarpet"
           }
          ],
          "scattergeo": [
           {
            "marker": {
             "colorbar": {
              "outlinewidth": 0,
              "ticks": ""
             }
            },
            "type": "scattergeo"
           }
          ],
          "scattergl": [
           {
            "marker": {
             "colorbar": {
              "outlinewidth": 0,
              "ticks": ""
             }
            },
            "type": "scattergl"
           }
          ],
          "scattermapbox": [
           {
            "marker": {
             "colorbar": {
              "outlinewidth": 0,
              "ticks": ""
             }
            },
            "type": "scattermapbox"
           }
          ],
          "scatterpolar": [
           {
            "marker": {
             "colorbar": {
              "outlinewidth": 0,
              "ticks": ""
             }
            },
            "type": "scatterpolar"
           }
          ],
          "scatterpolargl": [
           {
            "marker": {
             "colorbar": {
              "outlinewidth": 0,
              "ticks": ""
             }
            },
            "type": "scatterpolargl"
           }
          ],
          "scatterternary": [
           {
            "marker": {
             "colorbar": {
              "outlinewidth": 0,
              "ticks": ""
             }
            },
            "type": "scatterternary"
           }
          ],
          "surface": [
           {
            "colorbar": {
             "outlinewidth": 0,
             "ticks": ""
            },
            "colorscale": [
             [
              0,
              "#0d0887"
             ],
             [
              0.1111111111111111,
              "#46039f"
             ],
             [
              0.2222222222222222,
              "#7201a8"
             ],
             [
              0.3333333333333333,
              "#9c179e"
             ],
             [
              0.4444444444444444,
              "#bd3786"
             ],
             [
              0.5555555555555556,
              "#d8576b"
             ],
             [
              0.6666666666666666,
              "#ed7953"
             ],
             [
              0.7777777777777778,
              "#fb9f3a"
             ],
             [
              0.8888888888888888,
              "#fdca26"
             ],
             [
              1,
              "#f0f921"
             ]
            ],
            "type": "surface"
           }
          ],
          "table": [
           {
            "cells": {
             "fill": {
              "color": "#EBF0F8"
             },
             "line": {
              "color": "white"
             }
            },
            "header": {
             "fill": {
              "color": "#C8D4E3"
             },
             "line": {
              "color": "white"
             }
            },
            "type": "table"
           }
          ]
         },
         "layout": {
          "annotationdefaults": {
           "arrowcolor": "#2a3f5f",
           "arrowhead": 0,
           "arrowwidth": 1
          },
          "autotypenumbers": "strict",
          "coloraxis": {
           "colorbar": {
            "outlinewidth": 0,
            "ticks": ""
           }
          },
          "colorscale": {
           "diverging": [
            [
             0,
             "#8e0152"
            ],
            [
             0.1,
             "#c51b7d"
            ],
            [
             0.2,
             "#de77ae"
            ],
            [
             0.3,
             "#f1b6da"
            ],
            [
             0.4,
             "#fde0ef"
            ],
            [
             0.5,
             "#f7f7f7"
            ],
            [
             0.6,
             "#e6f5d0"
            ],
            [
             0.7,
             "#b8e186"
            ],
            [
             0.8,
             "#7fbc41"
            ],
            [
             0.9,
             "#4d9221"
            ],
            [
             1,
             "#276419"
            ]
           ],
           "sequential": [
            [
             0,
             "#0d0887"
            ],
            [
             0.1111111111111111,
             "#46039f"
            ],
            [
             0.2222222222222222,
             "#7201a8"
            ],
            [
             0.3333333333333333,
             "#9c179e"
            ],
            [
             0.4444444444444444,
             "#bd3786"
            ],
            [
             0.5555555555555556,
             "#d8576b"
            ],
            [
             0.6666666666666666,
             "#ed7953"
            ],
            [
             0.7777777777777778,
             "#fb9f3a"
            ],
            [
             0.8888888888888888,
             "#fdca26"
            ],
            [
             1,
             "#f0f921"
            ]
           ],
           "sequentialminus": [
            [
             0,
             "#0d0887"
            ],
            [
             0.1111111111111111,
             "#46039f"
            ],
            [
             0.2222222222222222,
             "#7201a8"
            ],
            [
             0.3333333333333333,
             "#9c179e"
            ],
            [
             0.4444444444444444,
             "#bd3786"
            ],
            [
             0.5555555555555556,
             "#d8576b"
            ],
            [
             0.6666666666666666,
             "#ed7953"
            ],
            [
             0.7777777777777778,
             "#fb9f3a"
            ],
            [
             0.8888888888888888,
             "#fdca26"
            ],
            [
             1,
             "#f0f921"
            ]
           ]
          },
          "colorway": [
           "#636efa",
           "#EF553B",
           "#00cc96",
           "#ab63fa",
           "#FFA15A",
           "#19d3f3",
           "#FF6692",
           "#B6E880",
           "#FF97FF",
           "#FECB52"
          ],
          "font": {
           "color": "#2a3f5f"
          },
          "geo": {
           "bgcolor": "white",
           "lakecolor": "white",
           "landcolor": "#E5ECF6",
           "showlakes": true,
           "showland": true,
           "subunitcolor": "white"
          },
          "hoverlabel": {
           "align": "left"
          },
          "hovermode": "closest",
          "mapbox": {
           "style": "light"
          },
          "paper_bgcolor": "white",
          "plot_bgcolor": "#E5ECF6",
          "polar": {
           "angularaxis": {
            "gridcolor": "white",
            "linecolor": "white",
            "ticks": ""
           },
           "bgcolor": "#E5ECF6",
           "radialaxis": {
            "gridcolor": "white",
            "linecolor": "white",
            "ticks": ""
           }
          },
          "scene": {
           "xaxis": {
            "backgroundcolor": "#E5ECF6",
            "gridcolor": "white",
            "gridwidth": 2,
            "linecolor": "white",
            "showbackground": true,
            "ticks": "",
            "zerolinecolor": "white"
           },
           "yaxis": {
            "backgroundcolor": "#E5ECF6",
            "gridcolor": "white",
            "gridwidth": 2,
            "linecolor": "white",
            "showbackground": true,
            "ticks": "",
            "zerolinecolor": "white"
           },
           "zaxis": {
            "backgroundcolor": "#E5ECF6",
            "gridcolor": "white",
            "gridwidth": 2,
            "linecolor": "white",
            "showbackground": true,
            "ticks": "",
            "zerolinecolor": "white"
           }
          },
          "shapedefaults": {
           "line": {
            "color": "#2a3f5f"
           }
          },
          "ternary": {
           "aaxis": {
            "gridcolor": "white",
            "linecolor": "white",
            "ticks": ""
           },
           "baxis": {
            "gridcolor": "white",
            "linecolor": "white",
            "ticks": ""
           },
           "bgcolor": "#E5ECF6",
           "caxis": {
            "gridcolor": "white",
            "linecolor": "white",
            "ticks": ""
           }
          },
          "title": {
           "x": 0.05
          },
          "xaxis": {
           "automargin": true,
           "gridcolor": "white",
           "linecolor": "white",
           "ticks": "",
           "title": {
            "standoff": 15
           },
           "zerolinecolor": "white",
           "zerolinewidth": 2
          },
          "yaxis": {
           "automargin": true,
           "gridcolor": "white",
           "linecolor": "white",
           "ticks": "",
           "title": {
            "standoff": 15
           },
           "zerolinecolor": "white",
           "zerolinewidth": 2
          }
         }
        }
       }
      },
      "text/html": [
       "<div>                            <div id=\"9678b622-8049-4d7f-8c1a-b7e79b883ab3\" class=\"plotly-graph-div\" style=\"height:525px; width:100%;\"></div>            <script type=\"text/javascript\">                require([\"plotly\"], function(Plotly) {                    window.PLOTLYENV=window.PLOTLYENV || {};                                    if (document.getElementById(\"9678b622-8049-4d7f-8c1a-b7e79b883ab3\")) {                    Plotly.newPlot(                        \"9678b622-8049-4d7f-8c1a-b7e79b883ab3\",                        [{\"branchvalues\":\"total\",\"domain\":{\"x\":[0.0,1.0],\"y\":[0.0,1.0]},\"hovertemplate\":\"labels=%{label}<br>Quantity=%{value}<br>parent=%{parent}<br>id=%{id}<extra></extra>\",\"ids\":[\"All Products/Electronic/Apple Laptop\",\"All Products/Home & Furniture/Bed Sheets\",\"All Products/Home & Furniture/Beds\",\"All Products/Auto & Accessories/Bike Tyres\",\"All Products/Auto & Accessories/Car & Bike Care\",\"All Products/Auto & Accessories/Car Body Covers\",\"All Products/Auto & Accessories/Car Mat\",\"All Products/Auto & Accessories/Car Media Players\",\"All Products/Auto & Accessories/Car Pillow & Neck Rest\",\"All Products/Auto & Accessories/Car Seat Covers\",\"All Products/Auto & Accessories/Car Speakers\",\"All Products/Fashion/Casula Shoes\",\"All Products/Home & Furniture/Curtains\",\"All Products/Home & Furniture/Dinner Crockery\",\"All Products/Home & Furniture/Dinning Tables\",\"All Products/Electronic/Fans\",\"All Products/Fashion/Formal Shoes\",\"All Products/Fashion/Fossil Watch\",\"All Products/Electronic/Iron\",\"All Products/Fashion/Jeans\",\"All Products/Electronic/Keyboard\",\"All Products/Electronic/LCD\",\"All Products/Electronic/LED\",\"All Products/Electronic/Mixer/Juicer\",\"All Products/Electronic/Mouse\",\"All Products/Fashion/Running Shoes\",\"All Products/Electronic/Samsung Mobile\",\"All Products/Fashion/Shirts\",\"All Products/Home & Furniture/Shoe Rack\",\"All Products/Fashion/Sneakers\",\"All Products/Home & Furniture/Sofa Covers\",\"All Products/Home & Furniture/Sofas\",\"All Products/Electronic/Speakers\",\"All Products/Fashion/Sports Wear\",\"All Products/Fashion/Suits\",\"All Products/Fashion/T - Shirts\",\"All Products/Electronic/Tablet\",\"All Products/Fashion/Titak watch\",\"All Products/Home & Furniture/Towels\",\"All Products/Auto & Accessories/Tyre\",\"All Products/Home & Furniture/Umbrellas\",\"All Products/Electronic/Watch\",\"All Products/Auto & Accessories\",\"All Products/Electronic\",\"All Products/Fashion\",\"All Products/Home & Furniture\",\"All Products\"],\"labels\":[\"Apple Laptop\",\"Bed Sheets\",\"Beds\",\"Bike Tyres\",\"Car & Bike Care\",\"Car Body Covers\",\"Car Mat\",\"Car Media Players\",\"Car Pillow & Neck Rest\",\"Car Seat Covers\",\"Car Speakers\",\"Casula Shoes\",\"Curtains\",\"Dinner Crockery\",\"Dinning Tables\",\"Fans\",\"Formal Shoes\",\"Fossil Watch\",\"Iron\",\"Jeans\",\"Keyboard\",\"LCD\",\"LED\",\"Mixer/Juicer\",\"Mouse\",\"Running Shoes\",\"Samsung Mobile\",\"Shirts\",\"Shoe Rack\",\"Sneakers\",\"Sofa Covers\",\"Sofas\",\"Speakers\",\"Sports Wear\",\"Suits\",\"T - Shirts\",\"Tablet\",\"Titak watch\",\"Towels\",\"Tyre\",\"Umbrellas\",\"Watch\",\"Auto & Accessories\",\"Electronic\",\"Fashion\",\"Home & Furniture\",\"All Products\"],\"name\":\"\",\"parents\":[\"All Products/Electronic\",\"All Products/Home & Furniture\",\"All Products/Home & Furniture\",\"All Products/Auto & Accessories\",\"All Products/Auto & Accessories\",\"All Products/Auto & Accessories\",\"All Products/Auto & Accessories\",\"All Products/Auto & Accessories\",\"All Products/Auto & Accessories\",\"All Products/Auto & Accessories\",\"All Products/Auto & Accessories\",\"All Products/Fashion\",\"All Products/Home & Furniture\",\"All Products/Home & Furniture\",\"All Products/Home & Furniture\",\"All Products/Electronic\",\"All Products/Fashion\",\"All Products/Fashion\",\"All Products/Electronic\",\"All Products/Fashion\",\"All Products/Electronic\",\"All Products/Electronic\",\"All Products/Electronic\",\"All Products/Electronic\",\"All Products/Electronic\",\"All Products/Fashion\",\"All Products/Electronic\",\"All Products/Fashion\",\"All Products/Home & Furniture\",\"All Products/Fashion\",\"All Products/Home & Furniture\",\"All Products/Home & Furniture\",\"All Products/Electronic\",\"All Products/Fashion\",\"All Products/Fashion\",\"All Products/Fashion\",\"All Products/Electronic\",\"All Products/Fashion\",\"All Products/Home & Furniture\",\"All Products/Auto & Accessories\",\"All Products/Home & Furniture\",\"All Products/Electronic\",\"All Products\",\"All Products\",\"All Products\",\"All Products\",\"\"],\"values\":[632,3068,3142,2480,2438,2553,2469,2379,2489,2385,2528,8436,3070,3125,3140,683,8438,8308,649,8266,671,703,706,702,651,8345,685,8237,3076,8353,3140,3126,789,8512,8295,8346,666,8535,3124,2640,3044,674,22361,8211,92071,31055,153698],\"type\":\"treemap\"}],                        {\"template\":{\"data\":{\"histogram2dcontour\":[{\"type\":\"histogram2dcontour\",\"colorbar\":{\"outlinewidth\":0,\"ticks\":\"\"},\"colorscale\":[[0.0,\"#0d0887\"],[0.1111111111111111,\"#46039f\"],[0.2222222222222222,\"#7201a8\"],[0.3333333333333333,\"#9c179e\"],[0.4444444444444444,\"#bd3786\"],[0.5555555555555556,\"#d8576b\"],[0.6666666666666666,\"#ed7953\"],[0.7777777777777778,\"#fb9f3a\"],[0.8888888888888888,\"#fdca26\"],[1.0,\"#f0f921\"]]}],\"choropleth\":[{\"type\":\"choropleth\",\"colorbar\":{\"outlinewidth\":0,\"ticks\":\"\"}}],\"histogram2d\":[{\"type\":\"histogram2d\",\"colorbar\":{\"outlinewidth\":0,\"ticks\":\"\"},\"colorscale\":[[0.0,\"#0d0887\"],[0.1111111111111111,\"#46039f\"],[0.2222222222222222,\"#7201a8\"],[0.3333333333333333,\"#9c179e\"],[0.4444444444444444,\"#bd3786\"],[0.5555555555555556,\"#d8576b\"],[0.6666666666666666,\"#ed7953\"],[0.7777777777777778,\"#fb9f3a\"],[0.8888888888888888,\"#fdca26\"],[1.0,\"#f0f921\"]]}],\"heatmap\":[{\"type\":\"heatmap\",\"colorbar\":{\"outlinewidth\":0,\"ticks\":\"\"},\"colorscale\":[[0.0,\"#0d0887\"],[0.1111111111111111,\"#46039f\"],[0.2222222222222222,\"#7201a8\"],[0.3333333333333333,\"#9c179e\"],[0.4444444444444444,\"#bd3786\"],[0.5555555555555556,\"#d8576b\"],[0.6666666666666666,\"#ed7953\"],[0.7777777777777778,\"#fb9f3a\"],[0.8888888888888888,\"#fdca26\"],[1.0,\"#f0f921\"]]}],\"heatmapgl\":[{\"type\":\"heatmapgl\",\"colorbar\":{\"outlinewidth\":0,\"ticks\":\"\"},\"colorscale\":[[0.0,\"#0d0887\"],[0.1111111111111111,\"#46039f\"],[0.2222222222222222,\"#7201a8\"],[0.3333333333333333,\"#9c179e\"],[0.4444444444444444,\"#bd3786\"],[0.5555555555555556,\"#d8576b\"],[0.6666666666666666,\"#ed7953\"],[0.7777777777777778,\"#fb9f3a\"],[0.8888888888888888,\"#fdca26\"],[1.0,\"#f0f921\"]]}],\"contourcarpet\":[{\"type\":\"contourcarpet\",\"colorbar\":{\"outlinewidth\":0,\"ticks\":\"\"}}],\"contour\":[{\"type\":\"contour\",\"colorbar\":{\"outlinewidth\":0,\"ticks\":\"\"},\"colorscale\":[[0.0,\"#0d0887\"],[0.1111111111111111,\"#46039f\"],[0.2222222222222222,\"#7201a8\"],[0.3333333333333333,\"#9c179e\"],[0.4444444444444444,\"#bd3786\"],[0.5555555555555556,\"#d8576b\"],[0.6666666666666666,\"#ed7953\"],[0.7777777777777778,\"#fb9f3a\"],[0.8888888888888888,\"#fdca26\"],[1.0,\"#f0f921\"]]}],\"surface\":[{\"type\":\"surface\",\"colorbar\":{\"outlinewidth\":0,\"ticks\":\"\"},\"colorscale\":[[0.0,\"#0d0887\"],[0.1111111111111111,\"#46039f\"],[0.2222222222222222,\"#7201a8\"],[0.3333333333333333,\"#9c179e\"],[0.4444444444444444,\"#bd3786\"],[0.5555555555555556,\"#d8576b\"],[0.6666666666666666,\"#ed7953\"],[0.7777777777777778,\"#fb9f3a\"],[0.8888888888888888,\"#fdca26\"],[1.0,\"#f0f921\"]]}],\"mesh3d\":[{\"type\":\"mesh3d\",\"colorbar\":{\"outlinewidth\":0,\"ticks\":\"\"}}],\"scatter\":[{\"fillpattern\":{\"fillmode\":\"overlay\",\"size\":10,\"solidity\":0.2},\"type\":\"scatter\"}],\"parcoords\":[{\"type\":\"parcoords\",\"line\":{\"colorbar\":{\"outlinewidth\":0,\"ticks\":\"\"}}}],\"scatterpolargl\":[{\"type\":\"scatterpolargl\",\"marker\":{\"colorbar\":{\"outlinewidth\":0,\"ticks\":\"\"}}}],\"bar\":[{\"error_x\":{\"color\":\"#2a3f5f\"},\"error_y\":{\"color\":\"#2a3f5f\"},\"marker\":{\"line\":{\"color\":\"#E5ECF6\",\"width\":0.5},\"pattern\":{\"fillmode\":\"overlay\",\"size\":10,\"solidity\":0.2}},\"type\":\"bar\"}],\"scattergeo\":[{\"type\":\"scattergeo\",\"marker\":{\"colorbar\":{\"outlinewidth\":0,\"ticks\":\"\"}}}],\"scatterpolar\":[{\"type\":\"scatterpolar\",\"marker\":{\"colorbar\":{\"outlinewidth\":0,\"ticks\":\"\"}}}],\"histogram\":[{\"marker\":{\"pattern\":{\"fillmode\":\"overlay\",\"size\":10,\"solidity\":0.2}},\"type\":\"histogram\"}],\"scattergl\":[{\"type\":\"scattergl\",\"marker\":{\"colorbar\":{\"outlinewidth\":0,\"ticks\":\"\"}}}],\"scatter3d\":[{\"type\":\"scatter3d\",\"line\":{\"colorbar\":{\"outlinewidth\":0,\"ticks\":\"\"}},\"marker\":{\"colorbar\":{\"outlinewidth\":0,\"ticks\":\"\"}}}],\"scattermapbox\":[{\"type\":\"scattermapbox\",\"marker\":{\"colorbar\":{\"outlinewidth\":0,\"ticks\":\"\"}}}],\"scatterternary\":[{\"type\":\"scatterternary\",\"marker\":{\"colorbar\":{\"outlinewidth\":0,\"ticks\":\"\"}}}],\"scattercarpet\":[{\"type\":\"scattercarpet\",\"marker\":{\"colorbar\":{\"outlinewidth\":0,\"ticks\":\"\"}}}],\"carpet\":[{\"aaxis\":{\"endlinecolor\":\"#2a3f5f\",\"gridcolor\":\"white\",\"linecolor\":\"white\",\"minorgridcolor\":\"white\",\"startlinecolor\":\"#2a3f5f\"},\"baxis\":{\"endlinecolor\":\"#2a3f5f\",\"gridcolor\":\"white\",\"linecolor\":\"white\",\"minorgridcolor\":\"white\",\"startlinecolor\":\"#2a3f5f\"},\"type\":\"carpet\"}],\"table\":[{\"cells\":{\"fill\":{\"color\":\"#EBF0F8\"},\"line\":{\"color\":\"white\"}},\"header\":{\"fill\":{\"color\":\"#C8D4E3\"},\"line\":{\"color\":\"white\"}},\"type\":\"table\"}],\"barpolar\":[{\"marker\":{\"line\":{\"color\":\"#E5ECF6\",\"width\":0.5},\"pattern\":{\"fillmode\":\"overlay\",\"size\":10,\"solidity\":0.2}},\"type\":\"barpolar\"}],\"pie\":[{\"automargin\":true,\"type\":\"pie\"}]},\"layout\":{\"autotypenumbers\":\"strict\",\"colorway\":[\"#636efa\",\"#EF553B\",\"#00cc96\",\"#ab63fa\",\"#FFA15A\",\"#19d3f3\",\"#FF6692\",\"#B6E880\",\"#FF97FF\",\"#FECB52\"],\"font\":{\"color\":\"#2a3f5f\"},\"hovermode\":\"closest\",\"hoverlabel\":{\"align\":\"left\"},\"paper_bgcolor\":\"white\",\"plot_bgcolor\":\"#E5ECF6\",\"polar\":{\"bgcolor\":\"#E5ECF6\",\"angularaxis\":{\"gridcolor\":\"white\",\"linecolor\":\"white\",\"ticks\":\"\"},\"radialaxis\":{\"gridcolor\":\"white\",\"linecolor\":\"white\",\"ticks\":\"\"}},\"ternary\":{\"bgcolor\":\"#E5ECF6\",\"aaxis\":{\"gridcolor\":\"white\",\"linecolor\":\"white\",\"ticks\":\"\"},\"baxis\":{\"gridcolor\":\"white\",\"linecolor\":\"white\",\"ticks\":\"\"},\"caxis\":{\"gridcolor\":\"white\",\"linecolor\":\"white\",\"ticks\":\"\"}},\"coloraxis\":{\"colorbar\":{\"outlinewidth\":0,\"ticks\":\"\"}},\"colorscale\":{\"sequential\":[[0.0,\"#0d0887\"],[0.1111111111111111,\"#46039f\"],[0.2222222222222222,\"#7201a8\"],[0.3333333333333333,\"#9c179e\"],[0.4444444444444444,\"#bd3786\"],[0.5555555555555556,\"#d8576b\"],[0.6666666666666666,\"#ed7953\"],[0.7777777777777778,\"#fb9f3a\"],[0.8888888888888888,\"#fdca26\"],[1.0,\"#f0f921\"]],\"sequentialminus\":[[0.0,\"#0d0887\"],[0.1111111111111111,\"#46039f\"],[0.2222222222222222,\"#7201a8\"],[0.3333333333333333,\"#9c179e\"],[0.4444444444444444,\"#bd3786\"],[0.5555555555555556,\"#d8576b\"],[0.6666666666666666,\"#ed7953\"],[0.7777777777777778,\"#fb9f3a\"],[0.8888888888888888,\"#fdca26\"],[1.0,\"#f0f921\"]],\"diverging\":[[0,\"#8e0152\"],[0.1,\"#c51b7d\"],[0.2,\"#de77ae\"],[0.3,\"#f1b6da\"],[0.4,\"#fde0ef\"],[0.5,\"#f7f7f7\"],[0.6,\"#e6f5d0\"],[0.7,\"#b8e186\"],[0.8,\"#7fbc41\"],[0.9,\"#4d9221\"],[1,\"#276419\"]]},\"xaxis\":{\"gridcolor\":\"white\",\"linecolor\":\"white\",\"ticks\":\"\",\"title\":{\"standoff\":15},\"zerolinecolor\":\"white\",\"automargin\":true,\"zerolinewidth\":2},\"yaxis\":{\"gridcolor\":\"white\",\"linecolor\":\"white\",\"ticks\":\"\",\"title\":{\"standoff\":15},\"zerolinecolor\":\"white\",\"automargin\":true,\"zerolinewidth\":2},\"scene\":{\"xaxis\":{\"backgroundcolor\":\"#E5ECF6\",\"gridcolor\":\"white\",\"linecolor\":\"white\",\"showbackground\":true,\"ticks\":\"\",\"zerolinecolor\":\"white\",\"gridwidth\":2},\"yaxis\":{\"backgroundcolor\":\"#E5ECF6\",\"gridcolor\":\"white\",\"linecolor\":\"white\",\"showbackground\":true,\"ticks\":\"\",\"zerolinecolor\":\"white\",\"gridwidth\":2},\"zaxis\":{\"backgroundcolor\":\"#E5ECF6\",\"gridcolor\":\"white\",\"linecolor\":\"white\",\"showbackground\":true,\"ticks\":\"\",\"zerolinecolor\":\"white\",\"gridwidth\":2}},\"shapedefaults\":{\"line\":{\"color\":\"#2a3f5f\"}},\"annotationdefaults\":{\"arrowcolor\":\"#2a3f5f\",\"arrowhead\":0,\"arrowwidth\":1},\"geo\":{\"bgcolor\":\"white\",\"landcolor\":\"#E5ECF6\",\"subunitcolor\":\"white\",\"showland\":true,\"showlakes\":true,\"lakecolor\":\"white\"},\"title\":{\"x\":0.05},\"mapbox\":{\"style\":\"light\"}}},\"legend\":{\"tracegroupgap\":0},\"margin\":{\"t\":60}},                        {\"responsive\": true}                    ).then(function(){\n",
       "                            \n",
       "var gd = document.getElementById('9678b622-8049-4d7f-8c1a-b7e79b883ab3');\n",
       "var x = new MutationObserver(function (mutations, observer) {{\n",
       "        var display = window.getComputedStyle(gd).display;\n",
       "        if (!display || display === 'none') {{\n",
       "            console.log([gd, 'removed!']);\n",
       "            Plotly.purge(gd);\n",
       "            observer.disconnect();\n",
       "        }}\n",
       "}});\n",
       "\n",
       "// Listen for the removal of the full notebook cells\n",
       "var notebookContainer = gd.closest('#notebook-container');\n",
       "if (notebookContainer) {{\n",
       "    x.observe(notebookContainer, {childList: true});\n",
       "}}\n",
       "\n",
       "// Listen for the clearing of the current output cell\n",
       "var outputEl = gd.closest('.output');\n",
       "if (outputEl) {{\n",
       "    x.observe(outputEl, {childList: true});\n",
       "}}\n",
       "\n",
       "                        })                };                });            </script>        </div>"
      ]
     },
     "metadata": {},
     "output_type": "display_data"
    }
   ],
   "source": [
    "fig = px.treemap(data1, path=[px.Constant(\"All Products\"), 'Product Category', 'Product'], values='Quantity')\n",
    "fig.show()"
   ]
  },
  {
   "cell_type": "markdown",
   "metadata": {},
   "source": [
    "# Inference:\n",
    "Among all Products the demand for fashion category is highest while the demand for electronic product is lowest"
   ]
  },
  {
   "cell_type": "code",
   "execution_count": 295,
   "metadata": {},
   "outputs": [
    {
     "data": {
      "text/plain": [
       "Product Category\n",
       "Fashion               2483955.2\n",
       "Home & Furniture       587614.3\n",
       "Auto & Accessories     483458.4\n",
       "Electronic             174190.6\n",
       "Name: Profit, dtype: float64"
      ]
     },
     "execution_count": 295,
     "metadata": {},
     "output_type": "execute_result"
    }
   ],
   "source": [
    "data1.groupby('Product Category')['Profit'].sum().sort_values(ascending=False)"
   ]
  },
  {
   "cell_type": "code",
   "execution_count": 296,
   "metadata": {},
   "outputs": [],
   "source": [
    "prod_profit=(data1.groupby('Product')['Profit'].median().sort_values(ascending=False))\n"
   ]
  },
  {
   "cell_type": "code",
   "execution_count": 297,
   "metadata": {
    "scrolled": true
   },
   "outputs": [
    {
     "data": {
      "image/png": "[encoded data removed]",
      "text/plain": [
       "<Figure size 1152x216 with 1 Axes>"
      ]
     },
     "metadata": {
      "needs_background": "light"
     },
     "output_type": "display_data"
    }
   ],
   "source": [
    "plt.figure(figsize=(16,3))\n",
    "sns.barplot(x=prod_profit.index,y=prod_profit.values)\n",
    "plt.xticks(rotation=90)\n",
    "plt.title(\"Profit per unit Item\")\n",
    "plt.show()"
   ]
  },
  {
   "cell_type": "markdown",
   "metadata": {},
   "source": [
    "# Inference:\n",
    "From the above graph we can see that which products gives the max profit and for which product profits are the lowest"
   ]
  },
  {
   "cell_type": "code",
   "execution_count": 298,
   "metadata": {},
   "outputs": [
    {
     "data": {
      "text/plain": [
       "Product Category\n",
       "Fashion               5212097.0\n",
       "Home & Furniture      1319407.0\n",
       "Auto & Accessories    1095342.0\n",
       "Electronic             394738.0\n",
       "Name: Sales, dtype: float64"
      ]
     },
     "execution_count": 298,
     "metadata": {},
     "output_type": "execute_result"
    }
   ],
   "source": [
    "data1.groupby('Product Category')['Sales'].sum().sort_values(ascending=False)"
   ]
  },
  {
   "cell_type": "code",
   "execution_count": 299,
   "metadata": {},
   "outputs": [],
   "source": [
    "prod_Sales=(data1.groupby('Product')['Sales'].sum().sort_values(ascending=False))"
   ]
  },
  {
   "cell_type": "code",
   "execution_count": 300,
   "metadata": {},
   "outputs": [
    {
     "data": {
      "image/png": "[encoded data removed]",
      "text/plain": [
       "<Figure size 1152x216 with 1 Axes>"
      ]
     },
     "metadata": {
      "needs_background": "light"
     },
     "output_type": "display_data"
    }
   ],
   "source": [
    "plt.figure(figsize=(16,3))\n",
    "sns.barplot(x=prod_Sales.index,y=prod_Sales.values)\n",
    "plt.xticks(rotation=90)\n",
    "plt.title(\"Sales of different produsts\")\n",
    "plt.show()"
   ]
  },
  {
   "cell_type": "code",
   "execution_count": 301,
   "metadata": {},
   "outputs": [
    {
     "data": {
      "image/png": "[encoded data removed]",
      "text/plain": [
       "<Figure size 1152x360 with 1 Axes>"
      ]
     },
     "metadata": {
      "needs_background": "light"
     },
     "output_type": "display_data"
    }
   ],
   "source": [
    "plt.figure(figsize=(16,5))\n",
    "ax=plt.subplot()\n",
    "ax.set_facecolor(\"black\")\n",
    "sns.scatterplot(x=data1[\"Sales\"],y=data1[\"Profit\"],hue=data1[\"Product Category\"])\n",
    "#plt.xticks('Sales')\n",
    "#plt.ylabel('profit')\n",
    "plt.title('Sales and profit Relationship')\n",
    "plt.show()"
   ]
  },
  {
   "cell_type": "code",
   "execution_count": 302,
   "metadata": {},
   "outputs": [
    {
     "data": {
      "text/plain": [
       "0.9215125543871807"
      ]
     },
     "execution_count": 302,
     "metadata": {},
     "output_type": "execute_result"
    }
   ],
   "source": [
    "data1['Profit'].corr(data1['Sales'])"
   ]
  },
  {
   "cell_type": "code",
   "execution_count": 303,
   "metadata": {},
   "outputs": [],
   "source": [
    "#Inference:"
   ]
  },
  {
   "cell_type": "code",
   "execution_count": 304,
   "metadata": {},
   "outputs": [
    {
     "data": {
      "image/png": "[encoded data removed]",
      "text/plain": [
       "<Figure size 432x288 with 1 Axes>"
      ]
     },
     "metadata": {
      "needs_background": "light"
     },
     "output_type": "display_data"
    }
   ],
   "source": [
    "ax=plt.subplot()\n",
    "ax.set_facecolor(\"black\")\n",
    "sns.scatterplot(x=data1[\"Shipping Cost\"],y=data1[\"Profit\"],color='red')\n",
    "#plt.xlabel('Discount')\n",
    "#plt.ylabel('Sales')\n",
    "plt.title('Discount and Sales Relationship')\n",
    "plt.show()"
   ]
  },
  {
   "cell_type": "code",
   "execution_count": 305,
   "metadata": {},
   "outputs": [
    {
     "data": {
      "text/plain": [
       "1.0"
      ]
     },
     "execution_count": 305,
     "metadata": {},
     "output_type": "execute_result"
    }
   ],
   "source": [
    "data1['Shipping Cost'].corr(data1['Profit']).round(1)"
   ]
  },
  {
   "cell_type": "markdown",
   "metadata": {},
   "source": [
    "# Inference:\n",
    "It can be assumed from above relationship that  increase in profit with shipping cost, signifies that the additional cost of shipping is being passed on to the customer in the form of higher prices. This is resulting in higher profits for the company."
   ]
  },
  {
   "cell_type": "markdown",
   "metadata": {},
   "source": [
    "# Customer Segmentation"
   ]
  },
  {
   "cell_type": "code",
   "execution_count": 306,
   "metadata": {},
   "outputs": [
    {
     "data": {
      "text/plain": [
       "Region\n",
       "Central           803978.1\n",
       "South             479079.9\n",
       "EMEA              368570.7\n",
       "North             349014.3\n",
       "Africa            332166.0\n",
       "Oceania           253577.6\n",
       "Southeast Asia    235598.1\n",
       "West              231761.4\n",
       "East              206694.5\n",
       "North Asia        170857.0\n",
       "Central Asia      149529.7\n",
       "Caribbean         120608.1\n",
       "Canada             27783.1\n",
       "Name: Profit, dtype: float64"
      ]
     },
     "execution_count": 306,
     "metadata": {},
     "output_type": "execute_result"
    }
   ],
   "source": [
    "Region_distribution=data1.groupby(\"Region\")[\"Profit\"].sum().sort_values(ascending=False)\n",
    "Region_distribution"
   ]
  },
  {
   "cell_type": "code",
   "execution_count": 307,
   "metadata": {},
   "outputs": [
    {
     "data": {
      "image/png": "[encoded data removed]",
      "text/plain": [
       "<Figure size 432x288 with 1 Axes>"
      ]
     },
     "metadata": {},
     "output_type": "display_data"
    }
   ],
   "source": [
    "plt.pie(x=Region_distribution.values,radius=2,autopct='%.1f%%', labels=Region_distribution.index)\n",
    "plt.title(\"Distribution of Profits from different Regions\",y=1.5)\n",
    "plt.show()"
   ]
  },
  {
   "cell_type": "code",
   "execution_count": 308,
   "metadata": {},
   "outputs": [],
   "source": [
    "top_10_country=data1.groupby('Country')[\"Profit\"].sum().sort_values(ascending=False)[0:10]\n"
   ]
  },
  {
   "cell_type": "code",
   "execution_count": 309,
   "metadata": {
    "scrolled": true
   },
   "outputs": [
    {
     "data": {
      "image/png": "[encoded data removed]",
      "text/plain": [
       "<Figure size 1008x360 with 1 Axes>"
      ]
     },
     "metadata": {
      "needs_background": "light"
     },
     "output_type": "display_data"
    }
   ],
   "source": [
    "plt.figure(figsize=(14,5))\n",
    "sns.barplot(x=top_10_country.index,y=top_10_country.values)\n",
    "plt.xticks(rotation=90)\n",
    "plt.show()"
   ]
  },
  {
   "cell_type": "code",
   "execution_count": 310,
   "metadata": {},
   "outputs": [],
   "source": [
    "Top_10_state=data1.groupby('State')[\"Profit\"].sum().sort_values(ascending=False)[0:10]"
   ]
  },
  {
   "cell_type": "code",
   "execution_count": 311,
   "metadata": {},
   "outputs": [
    {
     "data": {
      "image/png": "[encoded data removed]",
      "text/plain": [
       "<Figure size 1008x360 with 1 Axes>"
      ]
     },
     "metadata": {
      "needs_background": "light"
     },
     "output_type": "display_data"
    }
   ],
   "source": [
    "plt.figure(figsize=(14,5))\n",
    "sns.barplot(x=Top_10_state.index,y=Top_10_state.values)\n",
    "plt.xticks(rotation=90)\n",
    "plt.show()"
   ]
  },
  {
   "cell_type": "code",
   "execution_count": 312,
   "metadata": {},
   "outputs": [],
   "source": [
    "top_10_city=data1.groupby('City')[\"Profit\"].sum().sort_values(ascending=False)[0:10]"
   ]
  },
  {
   "cell_type": "code",
   "execution_count": 313,
   "metadata": {},
   "outputs": [
    {
     "data": {
      "image/png": "[encoded data removed]",
      "text/plain": [
       "<Figure size 1008x360 with 1 Axes>"
      ]
     },
     "metadata": {
      "needs_background": "light"
     },
     "output_type": "display_data"
    }
   ],
   "source": [
    "plt.figure(figsize=(14,5))\n",
    "sns.barplot(x=top_10_city.index,y=top_10_city.values)\n",
    "plt.xticks(rotation=90)\n",
    "plt.show()"
   ]
  }
 ],
 "metadata": {
  "kernelspec": {
   "display_name": "Python 3",
   "language": "python",
   "name": "python3"
  },
  "language_info": {
   "codemirror_mode": {
    "name": "ipython",
    "version": 3
   },
   "file_extension": ".py",
   "mimetype": "text/x-python",
   "name": "python",
   "nbconvert_exporter": "python",
   "pygments_lexer": "ipython3",
   "version": "3.7.4"
  }
 },
 "nbformat": 4,
 "nbformat_minor": 2
}
